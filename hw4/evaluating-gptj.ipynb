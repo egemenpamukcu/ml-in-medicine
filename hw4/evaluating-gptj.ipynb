{
 "cells": [
  {
   "cell_type": "code",
   "execution_count": 1,
   "source": [
    "import pandas as pd\n",
    "import numpy as np \n",
    "import re\n",
    "import os\n",
    "import requests\n",
    "from bs4 import BeautifulSoup as bs\n",
    "import pubchempy\n",
    "from tqdm import tqdm\n",
    "import spacy\n",
    "nlp = spacy.load('en_core_web_sm')"
   ],
   "outputs": [],
   "metadata": {}
  },
  {
   "cell_type": "markdown",
   "source": [
    "# Question 1"
   ],
   "metadata": {}
  },
  {
   "cell_type": "markdown",
   "source": [
    "### Load GPT-J outputs into a DataFrame"
   ],
   "metadata": {}
  },
  {
   "cell_type": "code",
   "execution_count": 2,
   "source": [
    "d = {'file': [],\n",
    "     'prompt': [], \n",
    "     'response': []}\n",
    "\n",
    "o_path = 'data4/GPT-J-Run-Output'\n",
    "for output in os.listdir(o_path):\n",
    "    f_path = os.path.join(o_path, output)\n",
    "    with open(f_path) as o:\n",
    "        o_str = o.read()\n",
    "        for segment in o_str.split('Prompt: ')[1:]:\n",
    "            prompt, response = segment.split('Response: ')\n",
    "            prompt, response = prompt.strip(), response.strip()\n",
    "            d['file'].append(output)\n",
    "            d['prompt'].append(prompt)\n",
    "            d['response'].append(response)\n",
    "df = pd.DataFrame(d)"
   ],
   "outputs": [],
   "metadata": {}
  },
  {
   "cell_type": "markdown",
   "source": [
    "### Number of outputs in each file:"
   ],
   "metadata": {}
  },
  {
   "cell_type": "code",
   "execution_count": 3,
   "source": [
    "df.value_counts('file')"
   ],
   "outputs": [
    {
     "output_type": "execute_result",
     "data": {
      "text/plain": [
       "file\n",
       "gene_product_output.txt                42767\n",
       "names_patents_output.txt                4863\n",
       "drug_inhibits_output.txt                2835\n",
       "drug_mechanism_of_action_output.txt     2835\n",
       "drug_prompt_output.txt                  2835\n",
       "drug_targets_output.txt                 2835\n",
       "names_aliases_output.txt                 409\n",
       "dtype: int64"
      ]
     },
     "metadata": {},
     "execution_count": 3
    }
   ],
   "metadata": {}
  },
  {
   "cell_type": "markdown",
   "source": [
    "### Take a look at two prompts for each output type:"
   ],
   "metadata": {}
  },
  {
   "cell_type": "code",
   "execution_count": 4,
   "source": [
    "for file in df['file'].unique():\n",
    "    df_p = df[df['file']==file]\n",
    "    idx = np.random.randint(0, df_p.shape[0])\n",
    "    print(f\"{file}:\")\n",
    "    print(\"Prompt:\", df_p.iat[idx, 1])\n",
    "    print(df_p.iat[idx, 2])\n",
    "    print('\\n')\n"
   ],
   "outputs": [
    {
     "output_type": "stream",
     "name": "stdout",
     "text": [
      "names_patents_output.txt:\n",
      "Prompt: S3757 is a drug mentioned in patent\n",
      "S3757 is a drug mentioned in patent document 2. It has been reported that S3757 is effective for the treatment of a neurological disorder, and is useful for the treatment of depression, attention deficit hyperactivity disorder, or neuropathic pain.\n",
      "The drug S3757 is disclosed in, for example, patent document 1.\n",
      "\n",
      " \n",
      "Enter prompt or quit: Setting `pad_token_id` to `eos_token_id`:50256 for open-end generation.\n",
      "\n",
      "\n",
      "names_aliases_output.txt:\n",
      "Prompt: 16-Dehydroprogesterone is a drug also known as\n",
      "16-Dehydroprogesterone is a drug also known as levonorgestrel and 17α-ethinyl-17α-hydroxyprogesterone. It is a synthetic progestin used in combination with an estrogen to prevent pregnancy. It is used for birth control and in the treatment of endometriosis.\n",
      "\n",
      "It is available in the form of tablets under the brand name Depo-Provera and in injectable form under the brand name Depo-SubQ Provera.\n",
      "\n",
      "Side effects\n",
      "\n",
      "The most common side effects of 17α-ethinyl-17α-hydroxyprogesterone include breast tenderness, nausea, vomiting, irregular vaginal bleeding, and weight gain. Other side effects may include acne, fluid retention, hair loss, weight gain, headache, depression, and loss of libido.\n",
      "\n",
      "The side effects of the drug are dependent on the dosage.\n",
      "\n",
      "Overdose\n",
      "\n",
      "A person\n",
      " \n",
      "Enter prompt or quit:\n",
      "\n",
      "\n",
      "drug_mechanism_of_action_output.txt:\n",
      "Prompt: The mechanism of action of Quercetin is\n",
      "The mechanism of action of Quercetin is that it has the ability to modulate the activity of many enzymes and proteins. This gives Quercetin the ability to prevent the production of toxic free radicals and the oxidation of LDL cholesterol.\n",
      "\n",
      "Quercetin can be added to foods or used as a supplement. Some studies have shown that Quercetin can reduce the risk of certain types of cancer. It can also help to prevent diabetes and other metabolic diseases.\n",
      "\n",
      "* Results May Vary.\n",
      "\n",
      "Comments\n",
      "\n",
      "*These statements have not been evaluated by the Food and Drug Administration. These products are not intended to diagnose, treat, cure or prevent any disease.\n",
      "\n",
      "The information provided on this site is intended for your general knowledge only and is not a substitute for professional medical advice or treatment for specific medical conditions. Always seek the advice of your physician or other qualified health care provider with any questions you may have regarding a medical condition. The information on this website\n",
      " \n",
      "Enter prompt or quit: Setting `pad_token_id` to `eos_token_id`:50256 for open-end generation.\n",
      "\n",
      "\n",
      "drug_inhibits_output.txt:\n",
      "Prompt: S3881is a drug that inhibits\n",
      "S3881is a drug that inhibits T cell activation and proliferation by selectively blocking the ERK/MAPK pathway. It has been demonstrated that a single oral dose of S3881 significantly suppresses in vivo proliferation of allogeneic and syngeneic cells and prolongs the survival of allogeneic grafts in vivo. The immunosuppressive effect of S3881 is mediated by the blockade of both early and late events in T cell activation, including induction of early activation markers (CD69, CD25, and CD134) and inhibition of T cell proliferation. The suppression of early activation markers is accompanied by a reduction in the production of IL-2, IL-4, and IFN-gamma. In addition, the proliferation of naive T cells is blocked. S3881 also inhibits the secretion of IL-2, IL-4, and IFN-gamma by alloreactive T cells. The induction of the early activation markers on T cells by IL\n",
      " \n",
      "Enter prompt or quit: Setting `pad_token_id` to `eos_token_id`:50256 for open-end generation.\n",
      "\n",
      "\n",
      "drug_prompt_output.txt:\n",
      "Prompt: S5131 is a drug that\n",
      "S5131 is a drug that is being developed for the treatment of various malignancies, including hematological malignancies, as well as for solid tumors, including breast cancer. The current study was designed to investigate the potential of S5131 as a radiosensitizer for the treatment of a patient with metastatic breast cancer who failed to respond to conventional chemo- and radiotherapy.\n",
      "\n",
      "A total of 40,000 cells were injected into the mammary fat pad of female SCID mice. Mice were treated with either vehicle or 10 mg/kg of S5131 i.p. at days 10, 12, 14, 16, and 18. Mice were treated with 30 Gy of radiation at day 19. Tumor volumes were measured every 3 days and were calculated using the formula (L × W2)/2, where L and W are the length and width, respectively.\n",
      "\n",
      "All experimental procedures involving animals were conducted in accordance with protocols approved by\n",
      " \n",
      "Enter prompt or quit: Setting `pad_token_id` to `eos_token_id`:50256 for open-end generation.\n",
      "\n",
      "\n",
      "drug_targets_output.txt:\n",
      "Prompt: Pantoprazole is a drug that targets\n",
      "Pantoprazole is a drug that targets H^+^/K^+^-ATPase enzyme.\\[[@ref1]\\] It is a proton pump inhibitor that acts by inhibiting the H^+^/K^+^-ATPase enzyme and the rate-limiting step of gastric acid secretion.\\[[@ref2]\\] It is used to treat gastric and duodenal ulcers and erosive esophagitis.\\[[@ref3]\\] The drug has been associated with the occurrence of cutaneous side effects, including acute exanthems, urticaria, angioedema, and drug hypersensitivity syndrome.\\[[@ref4]\\] Drug hypersensitivity syndrome (DHS) is a rare adverse drug reaction that occurs in a patient with no history of allergy to the causative drug.\\[[@ref5]\\] It is characterized by fever,\n",
      " \n",
      "Enter prompt or quit: Setting `pad_token_id` to `eos_token_id`:50256 for open-end generation.\n",
      "\n",
      "\n",
      "gene_product_output.txt:\n",
      "Prompt: The gene symbol FRA10C represents the fragile site, BrdU type, common, fra(10)(q21) gene.  The gene product of FRA10C is\n",
      "The gene symbol FRA10C represents the fragile site, BrdU type, common, fra(10)(q21) gene.  The gene product of FRA10C is \n",
      "\n",
      "This gene is a member of the RAD51C subfamily of the RAD51 paralogs. The RAD51C subfamily contains genes that are highly homologous to RAD51, but lack the BRC repeats. RAD51C interacts with RAD51 and the BRCA2 tumor suppressor protein, and plays a role in homologous recombination. It is overexpressed in a variety of cancers.\n",
      "\n",
      "See also \n",
      "\n",
      "RAD51\n",
      "BRCA1\n",
      "BRCA2\n",
      "\n",
      "References\n",
      "\n",
      "Further reading\n",
      "\n",
      "External links \n",
      " \n",
      "\n",
      "Category:DNA replication\n",
      "Category:DNA repair\n",
      "Category:Genes on human chromosome 10\n",
      " \n",
      "Enter prompt or quit: Setting `pad_token_id` to `eos_token_id`:50256 for open-end generation.\n",
      "\n",
      "\n"
     ]
    }
   ],
   "metadata": {}
  },
  {
   "cell_type": "markdown",
   "source": [
    "### Patents\n",
    "Check responses to patent related prompts with the USPTO results"
   ],
   "metadata": {}
  },
  {
   "cell_type": "code",
   "execution_count": 5,
   "source": [
    "def get_pto_results(term):\n",
    "    cookies = {\n",
    "        '_gid': 'GA1.2.385592734.1638654260',\n",
    "        '_ga': 'GA1.1.1881375993.1638654260',\n",
    "        '_4c_': 'lZLbjtowEIZfZeVrEnIwTswdPahCaiuk3a7Uq8ixB2IR4sgxSVnEu3cMCay6V81NZj7P%2FD7MfyZDBQ1ZxizN2YKxKM%2FjaEb2cOrI8kysVv7XkyURPIpyRkWgFnkZ0DyLA54JCChL5TaLE5YqIDPyx2tRRtNkwXmyyC8z0utJA7IyK2MOQbIQKqC8lEG5VTxQglNJWSITmk4a%2Fjx5etWYEedqZHnkP1SU7ah4JtLgtksS8zCOwxib3RumQcoijKHxu3Zuh%2FHRogSpnGu75Xw%2BDEN47Fpnwp3p561w0Lhu3oGwssLib6vi1%2FqL18X3SDO8ShrejkSTq3JrjTpKV7hT67cfoHzq1B4XFPRaQjFo5Srfz%2FLoQSvQu8p5HC2uuLWYJBgNulFm%2BLdtpPe2POdIN7fTYv4bsxcrFByE3XvwE8F6U3wXQ7ExtZanYt1szbjwCqhm35NVL3RdfK1BOmsaLYtP%2Bq14Pt2VGlcXK%2Bl0r52Gib5A5%2FTBNKfiuQWQ1X2htGbowN%2Foc2XNAZ44Q2r88g8hMbSwBWuvFe%2FnsDNmV0MozWGORZ12%2FkXvwxkROnKiwY22frZ%2B4rWRovY9aOTL3T0ZTTi6J4tH96B3J%2Fu09Wif%2BOG1LPLVjE1eo4%2Fq%2FkP1qM2yj9q3Rwig%2BZ%2B2y%2BUv',\n",
    "        '_ga_CD30TTEK1F': 'GS1.1.1638656598.1.1.1638656609.0',\n",
    "    }\n",
    "\n",
    "    headers = {\n",
    "        'Connection': 'keep-alive',\n",
    "        'sec-ch-ua': '\" Not A;Brand\";v=\"99\", \"Chromium\";v=\"96\", \"Google Chrome\";v=\"96\"',\n",
    "        'sec-ch-ua-mobile': '?0',\n",
    "        'sec-ch-ua-platform': '\"macOS\"',\n",
    "        'Upgrade-Insecure-Requests': '1',\n",
    "        'User-Agent': 'Mozilla/5.0 (Macintosh; Intel Mac OS X 10_15_7) AppleWebKit/537.36 (KHTML, like Gecko) Chrome/96.0.4664.55 Safari/537.36',\n",
    "        'Accept': 'text/html,application/xhtml+xml,application/xml;q=0.9,image/avif,image/webp,image/apng,*/*;q=0.8,application/signed-exchange;v=b3;q=0.9',\n",
    "        'Sec-Fetch-Site': 'same-origin',\n",
    "        'Sec-Fetch-Mode': 'navigate',\n",
    "        'Sec-Fetch-Dest': 'document',\n",
    "        'Referer': 'https://patft.uspto.gov/netacgi/nph-Parser?Sect1=PTO2&Sect2=HITOFF&p=1&u=%2Fnetahtml%2FPTO%2Fsearch-adv.htm&r=0&f=S&l=50&d=PTXT&Query={}'.format(term),\n",
    "        'Accept-Language': 'en-US,en;q=0.9,tr;q=0.8',\n",
    "    }\n",
    "\n",
    "    params = (\n",
    "        ('Sect1', 'PTO2'),\n",
    "        ('Sect2', 'HITOFF'),\n",
    "        ('p', '1'),\n",
    "        ('u', '/netahtml/PTO/search-adv.htm'),\n",
    "        ('r', '1'),\n",
    "        ('f', 'G'),\n",
    "        ('l', '50'),\n",
    "        ('d', 'PTXT'),\n",
    "        ('S1', term),\n",
    "        ('OS', term),\n",
    "        ('RS', term),\n",
    "    )\n",
    "\n",
    "    response = requests.get('https://patft.uspto.gov/netacgi/nph-Parser', headers=headers, params=params, cookies=cookies)\n",
    "    return response.text\n"
   ],
   "outputs": [],
   "metadata": {}
  },
  {
   "cell_type": "code",
   "execution_count": 6,
   "source": [
    "patent_df = df[df['file']=='names_patents_output.txt']"
   ],
   "outputs": [],
   "metadata": {}
  },
  {
   "cell_type": "code",
   "execution_count": 8,
   "source": [
    "small_patent_df = patent_df.sample(n=100, random_state=1)\n",
    "iterrows = small_patent_df.iterrows()\n",
    "preds = []\n",
    "for i, row in tqdm(iterrows, total=100):\n",
    "    try:\n",
    "        drug = row[1].split(' ')[0]\n",
    "        if len(drug) < 4:\n",
    "            continue\n",
    "        results = get_pto_results(drug)\n",
    "        search_term = re.findall('is a drug mentioned in patent (\\S+\\s\\S+)', row[2])[0].replace(' ', '').strip(' ./,')\n",
    "        preds.append(search_term in results)\n",
    "    except:\n",
    "        continue"
   ],
   "outputs": [
    {
     "output_type": "stream",
     "name": "stderr",
     "text": [
      "100%|██████████| 100/100 [02:53<00:00,  1.73s/it]\n"
     ]
    }
   ],
   "metadata": {}
  },
  {
   "cell_type": "code",
   "execution_count": 9,
   "source": [
    "print(f\"Accuracy of patent outputs: {sum(preds)/len(preds)}\")"
   ],
   "outputs": [
    {
     "output_type": "stream",
     "name": "stdout",
     "text": [
      "Accuracy of patent outputs: 0.0\n"
     ]
    }
   ],
   "metadata": {}
  },
  {
   "cell_type": "markdown",
   "source": [
    "### Name Aliases\n",
    "Check PubChem synonyms"
   ],
   "metadata": {}
  },
  {
   "cell_type": "code",
   "execution_count": 14,
   "source": [
    "names_df = df[df.file=='names_aliases_output.txt']"
   ],
   "outputs": [],
   "metadata": {}
  },
  {
   "cell_type": "markdown",
   "source": [
    "Get drug synonyms from PubChemPy, count prediction as true if any of those synonyms appear in the response text:"
   ],
   "metadata": {}
  },
  {
   "cell_type": "code",
   "execution_count": 17,
   "source": [
    "preds = []\n",
    "small_names_df = names_df.sample(frac=.5, random_state=1)\n",
    "for i, row in tqdm(small_names_df.iterrows(), total=small_names_df.shape[0]): \n",
    "    drug = row[1].split(' ')[0]\n",
    "    try:\n",
    "        synonyms = pubchempy.get_synonyms(drug, 'name')[0]['Synonym']\n",
    "    except IndexError:\n",
    "        continue\n",
    "    pred = False\n",
    "    for s in synonyms:\n",
    "        if s in row[2]:\n",
    "            pred = True \n",
    "            break\n",
    "    preds.append(pred)\n"
   ],
   "outputs": [
    {
     "output_type": "stream",
     "name": "stderr",
     "text": [
      "100%|██████████| 204/204 [01:09<00:00,  2.95it/s]\n"
     ]
    }
   ],
   "metadata": {}
  },
  {
   "cell_type": "code",
   "execution_count": 19,
   "source": [
    "print(f\"Accuracy of name alias outputs: {sum(preds)/len(preds)}\")"
   ],
   "outputs": [
    {
     "output_type": "stream",
     "name": "stdout",
     "text": [
      "Accuracy of name alias outputs: 0.6299212598425197\n"
     ]
    }
   ],
   "metadata": {}
  },
  {
   "cell_type": "markdown",
   "source": [
    "### Rest of the prompts"
   ],
   "metadata": {}
  },
  {
   "cell_type": "code",
   "execution_count": 20,
   "source": [
    "already_looked_at = ['names_aliases_output.txt', 'names_patents_output.txt']\n",
    "rest_df = df[~df.file.isin(already_looked_at)]"
   ],
   "outputs": [],
   "metadata": {}
  },
  {
   "cell_type": "markdown",
   "source": [
    "#### We can get PubChem descriptions of drugs as follows:"
   ],
   "metadata": {}
  },
  {
   "cell_type": "code",
   "execution_count": 21,
   "source": [
    "def get_description(drug_name): \n",
    "    cid = pubchempy.get_substances(identifier=drug_name, namespace='name')[0].cids[0]\n",
    "    response = requests.get(f'https://pubchem.ncbi.nlm.nih.gov/rest/pug_view/data/compound/{cid}/JSON')\n",
    "    d = response.json()\n",
    "    description = d['Record']['Section'][2]['Section'][0]['Information'][1]['Value']['StringWithMarkup'][0]['String']\n",
    "    return description"
   ],
   "outputs": [],
   "metadata": {}
  },
  {
   "cell_type": "markdown",
   "source": [
    "For instance:"
   ],
   "metadata": {}
  },
  {
   "cell_type": "code",
   "execution_count": 22,
   "source": [
    "get_description('Zucapsaicin')"
   ],
   "outputs": [
    {
     "output_type": "execute_result",
     "data": {
      "text/plain": [
       "'Zucapsaicin, the cis-isomer of capsaicin, is a topical analgesic used to treat osteoarthritis of the knee and other neuropathic pain. It is a modulator of transient receptor potential cation channel subfamily V member 1 (TRPV-1), also known as the vanilloid or capsaicin receptor 1, that reduces pain and improves articular functions. Zucapsaicin has also been evaluated for the management of several conditions manifested by chronic nerve pain. These conditions include herpes simplex (HSV) infections, cluster headaches, migraine, and osteoarthritis of the knee. Zucapsaicin was approved by the Health Canada in 2010 as topical cream marketed under the brand name Zuacta but currently not FDA-approved.'"
      ]
     },
     "metadata": {},
     "execution_count": 22
    }
   ],
   "metadata": {}
  },
  {
   "cell_type": "code",
   "execution_count": 23,
   "source": [
    "get_description('ZOCOR')"
   ],
   "outputs": [
    {
     "output_type": "execute_result",
     "data": {
      "text/plain": [
       "'Simvastatin, also known as the brand name product Zocor, is a lipid-lowering drug derived synthetically from a fermentation product of Aspergillus terreus. It belongs to the statin class of medications, which are used to lower the risk of cardiovascular disease and manage abnormal lipid levels by inhibiting the endogenous production of cholesterol in the liver. More specifically, statin medications competitively inhibit the enzyme hydroxymethylglutaryl-coenzyme A (HMG-CoA) Reductase, which catalyzes the conversion of HMG-CoA to mevalonic acid and is the third step in a sequence of metabolic reactions involved in the production of several compounds involved in lipid metabolism and transport including cholesterol, low-density lipoprotein (LDL) (sometimes referred to as \"bad cholesterol\"), and very low-density lipoprotein (VLDL). Prescribing of statin medications is considered standard practice following any cardiovascular events and for people with a moderate to high risk of development of CVD, such as those with Type 2 Diabetes. The clear evidence of the benefit of statin use coupled with very minimal side effects or long term effects has resulted in this class becoming one of the most widely prescribed medications in North America.  Simvastatin and other drugs from the statin class of medications including [atorvastatin], [pravastatin], [rosuvastatin], [fluvastatin], and [lovastatin] are considered first-line options for the treatment of dyslipidemia. Increasing use of the statin class of drugs is largely due to the fact that cardiovascular disease (CVD), which includes heart attack, atherosclerosis, angina, peripheral artery disease, and stroke, has become a leading cause of death in high-income countries and a major cause of morbidity around the world. Elevated cholesterol levels, and in particular, elevated low-density lipoprotein (LDL) levels, are an important risk factor for the development of CVD. Use of statins to target and reduce LDL levels has been shown in a number of landmark studies to significantly reduce the risk of development of CVD and all-cause mortality. Statins are considered a cost-effective treatment option for CVD due to their evidence of reducing all-cause mortality including fatal and non-fatal CVD as well as the need for surgical revascularization or angioplasty following a heart attack. Evidence has shown that even for low-risk individuals (with <10% risk of a major vascular event occurring within 5 years) statins cause a 20%-22% relative reduction in major cardiovascular events (heart attack, stroke, coronary revascularization, and coronary death) for every 1 mmol/L reduction in LDL without any significant side effects or risks.  While all statin medications are considered equally effective from a clinical standpoint, [rosuvastatin] is considered the most potent; doses of 10 to 40mg [rosuvastatin] per day were found in clinical studies to result in a 45.8% to 54.6% decrease in LDL cholesterol levels, while simvastatin has been found to have an average decrease in LDL-C of ~35%. Potency is thought to correlate to tissue permeability as the more lipophilic statins such as simvastatin are thought to enter endothelial cells by passive diffusion, as opposed to hydrophilic statins such as [pravastatin] and [rosuvastatin] which are taken up into hepatocytes through OATP1B1 (organic anion transporter protein 1B1)-mediated transport. Despite these differences in potency, several trials have demonstrated only minimal differences in terms of clinical outcomes between statins.'"
      ]
     },
     "metadata": {},
     "execution_count": 23
    }
   ],
   "metadata": {}
  },
  {
   "cell_type": "code",
   "execution_count": 24,
   "source": [
    "get_description('VALSARTAN')"
   ],
   "outputs": [
    {
     "output_type": "execute_result",
     "data": {
      "text/plain": [
       "\"Valsartan belongs to the angiotensin II receptor blocker (ARB) family of drugs, which also includes [telmisartan], [candesartan], [losartan], [olmesartan], and [irbesartan]. ARBs selectively bind to angiotensin receptor 1 (AT1) and prevent the protein angiotensin II from binding and exerting its hypertensive effects, which include vasoconstriction, stimulation and synthesis of aldosterone and ADH, cardiac stimulation, and renal reabsorption of sodium, among others. Overall, valsartan's physiologic effects lead to reduced blood pressure, lower aldosterone levels, reduced cardiac activity, and increased excretion of sodium.   Valsartan also affects the renin-angiotensin aldosterone system (RAAS), which plays an important role in hemostasis and regulation of kidney, vascular, and cardiac functions. Pharmacological blockade of RAAS via  AT1 receptor blockade inhibits negative regulatory feedback within RAAS, which is a contributing factor to the pathogenesis and progression of cardiovascular disease, heart failure, and renal disease. In particular, heart failure is associated with chronic activation of RAAS, leading to inappropriate fluid retention, vasoconstriction, and ultimately a further decline in left ventricular function. ARBs have been shown to have a protective effect on the heart by improving cardiac function, reducing afterload, increasing cardiac output and preventing ventricular hypertrophy and remodelling.   By comparison, the angiotensin-converting enzyme inhibitor (ACEI) class of medications (which includes drugs such as [ramipril], [lisinopril], and [perindopril]) inhibit the conversion of angiotensin I to angiotensin II through inhibition of the ACE enzyme. However, this does not prevent the formation of all angiotensin II within the body. The angiotensin II receptor blocker (ARB) family of drugs unique in that it blocks all angiotensin II activity, regardless of where or how it was synthesized.   Valsartan is commonly used for the management of hypertension, heart failure, and Type 2 Diabetes-associated nephropathy, particularly in patients who are unable to tolerate ACE inhibitors. ARBs such as valsartan have been shown in a number of large-scale clinical outcomes trials to improve cardiovascular outcomes including reducing risk of myocardial infarction, stroke, the progression of heart failure, and hospitalization. Valsartan also slows the progression of diabetic nephropathy due to its renoprotective effects. Improvements in chronic kidney disease with valsartan include both clinically and statistically significant decreases in urinary albumin and protein excretion in patients diagnosed with type 2 diabetes and in nondiabetic patients diagnosed with chronic kidney disease.  Valsartan was initially approved in 1996 in Europe for the treatment of hypertension in adults. Shortly after, in 1997, this drug was approved in the United States. Valsartan is generally well-tolerated with a side-effect profile superior to that of other antihypertensive drugs.\""
      ]
     },
     "metadata": {},
     "execution_count": 24
    }
   ],
   "metadata": {}
  },
  {
   "cell_type": "markdown",
   "source": [
    "I am going to compare responses with actual PubChem descriptions. I will use spaCy to find cosine similarities between two text. "
   ],
   "metadata": {}
  },
  {
   "cell_type": "code",
   "execution_count": 29,
   "source": [
    "n_drugs = 30\n",
    "targets_df = df[df.file=='drug_targets_output.txt']\n",
    "drugs = np.array(list(set(targets_df.prompt.apply(lambda x: x.split(' ')[0]))))\n",
    "idx = np.random.randint(0, len(drugs), n_drugs)\n",
    "some_drugs = drugs[idx]\n",
    "files = set(rest_df.file.unique())\n",
    "\n",
    "similarities = {}\n",
    "for drug in tqdm(some_drugs):\n",
    "    try:\n",
    "        description = nlp(get_description(drug))\n",
    "    except (IndexError, KeyError) as e:\n",
    "        continue\n",
    "    drug_df = rest_df[rest_df.prompt.str.contains(drug)]\n",
    "    for i, row in drug_df.iterrows():\n",
    "        response = nlp(row[2])\n",
    "        score = description.similarity(response)\n",
    "        similarities[row[0]] = similarities.get(row[0], []) + [score]\n"
   ],
   "outputs": [
    {
     "output_type": "stream",
     "name": "stderr",
     "text": [
      "  0%|          | 0/30 [00:00<?, ?it/s]/var/folders/g3/n12xqk1n7f9fr0fn799q7zg80000gn/T/ipykernel_17840/1118765447.py:15: UserWarning: [W007] The model you're using has no word vectors loaded, so the result of the Doc.similarity method will be based on the tagger, parser and NER, which may not give useful similarity judgements. This may happen if you're using one of the small models, e.g. `en_core_web_sm`, which don't ship with word vectors and only use context-sensitive tensors. You can always add your own word vectors, or use one of the larger models instead if available.\n",
      "  score = description.similarity(response)\n",
      "100%|██████████| 30/30 [01:15<00:00,  2.51s/it]\n"
     ]
    }
   ],
   "metadata": {}
  },
  {
   "cell_type": "code",
   "execution_count": 39,
   "source": [
    "for k, v in similarities.items():\n",
    "    avg = sum(v) / len(v)\n",
    "    print(f'mean prediction score for {k} is {avg}')"
   ],
   "outputs": [
    {
     "output_type": "stream",
     "name": "stdout",
     "text": [
      "mean prediction score for drug_mechanism_of_action_output.txt is 0.7183346132702794\n",
      "mean prediction score for drug_inhibits_output.txt is 0.7019262031595568\n",
      "mean prediction score for drug_prompt_output.txt is 0.6867630164744416\n",
      "mean prediction score for drug_targets_output.txt is 0.7003673931935903\n",
      "mean prediction score for gene_product_output.txt is 0.723272126684177\n"
     ]
    }
   ],
   "metadata": {}
  },
  {
   "cell_type": "markdown",
   "source": [
    "# Question 2"
   ],
   "metadata": {}
  },
  {
   "cell_type": "code",
   "execution_count": 57,
   "source": [
    "n_drugs = 100\n",
    "outputs_to_keep = [\"drug_mechanism_of_action_output.txt\", \"drug_targets_output.txt\", \"drug_inhibits_output.txt\"]\n",
    "q2df = df[df.file.isin(outputs_to_keep)]\n",
    "idx = np.random.randint(0, len(drugs), n_drugs)\n",
    "some_drugs = drugs[idx]\n",
    "print(\"Does the model predict same targets?\")\n",
    "for drug in some_drugs:\n",
    "    try:\n",
    "        drug_df = rest_df[rest_df.prompt.str.contains(drug)]\n",
    "        try: \n",
    "            target_response = nlp(drug_df.loc[drug_df.file==outputs_to_keep[1], 'response'].iloc[0])\n",
    "        except IndexError:\n",
    "            continue\n",
    "        similarities = []\n",
    "        for r in drug_df.response:\n",
    "            similarities.append(target_response.similarity(nlp(r)))\n",
    "        similarities = np.array(similarities) > .8 # setting a similarity threshold of .8\n",
    "        print(f\"For {drug}: {all(similarities)}\")\n",
    "    except: \n",
    "        continue\n",
    "\n"
   ],
   "outputs": [
    {
     "output_type": "stream",
     "name": "stdout",
     "text": [
      "Does the model predict same targets?\n",
      "For Saccharin: True\n"
     ]
    },
    {
     "output_type": "stream",
     "name": "stderr",
     "text": [
      "/var/folders/g3/n12xqk1n7f9fr0fn799q7zg80000gn/T/ipykernel_17840/521397030.py:16: UserWarning: [W007] The model you're using has no word vectors loaded, so the result of the Doc.similarity method will be based on the tagger, parser and NER, which may not give useful similarity judgements. This may happen if you're using one of the small models, e.g. `en_core_web_sm`, which don't ship with word vectors and only use context-sensitive tensors. You can always add your own word vectors, or use one of the larger models instead if available.\n",
      "  similarities.append(target_response.similarity(nlp(r)))\n"
     ]
    },
    {
     "output_type": "stream",
     "name": "stdout",
     "text": [
      "For Roxithromycin: False\n",
      "For Linezolid: False\n",
      "For Canagliflozin: False\n",
      "For OC000459: True\n",
      "For S3719: False\n",
      "For S5385: False\n",
      "For S9383: False\n",
      "For Anisodamine: True\n",
      "For L-Adrenaline: True\n",
      "For S5159: False\n",
      "For S5052: True\n",
      "For Gestodene: False\n",
      "For EXJADE: False\n",
      "For S5034: True\n",
      "For AMG319: False\n",
      "For ENALAPRILAT: False\n",
      "For Iloperidone: False\n",
      "For S4686: False\n",
      "For S9032: False\n",
      "For 2-Naphthol: True\n"
     ]
    },
    {
     "output_type": "stream",
     "name": "stderr",
     "text": [
      "/var/folders/g3/n12xqk1n7f9fr0fn799q7zg80000gn/T/ipykernel_17840/521397030.py:9: UserWarning: This pattern has match groups. To actually get the groups, use str.extract.\n",
      "  drug_df = rest_df[rest_df.prompt.str.contains(drug)]\n"
     ]
    },
    {
     "output_type": "stream",
     "name": "stdout",
     "text": [
      "For Carbamyl-beta-methylcholine: False\n",
      "For Ropinirole: True\n",
      "For S4935: False\n",
      "For Nizatidine: True\n",
      "For Clevudine: False\n",
      "For S4637: True\n",
      "For Suxibuzone: False\n",
      "For Diroximel: False\n",
      "For proadifen: True\n",
      "For Methenamine: True\n",
      "For Clarithromycin: False\n",
      "For S3948: False\n",
      "For S4656: False\n",
      "For pasiniazid: False\n",
      "For XL-184: True\n",
      "For Ketorolac: False\n",
      "For LM-3093: False\n",
      "For Dolasetron: True\n",
      "For S4986: False\n",
      "For Midodrine: False\n",
      "For pimozide: False\n",
      "For FELDENE: True\n",
      "For Tinoridine: False\n",
      "For AESCULIN: True\n",
      "For S3657: True\n",
      "For Methacycline: True\n",
      "For Ornidazole: False\n",
      "For pentetate: False\n",
      "For Micafungin: False\n",
      "For RANITIDINE: False\n",
      "For S5457: False\n",
      "For S5583: False\n",
      "For Dexlansoprazole: False\n",
      "For Abacavir: False\n",
      "For CX-4945: False\n",
      "For ACILAC: False\n",
      "For Cinitapride: False\n",
      "For Oxymatrine: False\n",
      "For Uracil: False\n",
      "For VX-745: True\n",
      "For S5450: False\n",
      "For Floxuridine: True\n",
      "For MLN9708: False\n",
      "For Raloxifene: False\n",
      "For S5492: False\n",
      "For S4680: False\n",
      "For Emtricitabine: False\n",
      "For S5007: False\n",
      "For S3781: False\n",
      "For Triacetin: False\n",
      "For S3885: False\n",
      "For Selpercatinib: False\n",
      "For S4656: False\n",
      "For Xanthopterin: False\n",
      "For Furazolidone: False\n",
      "For Azatadine: True\n",
      "For methazolamide: False\n",
      "For MYSOLINE: True\n",
      "For Etofenamate: False\n",
      "For halobetasol: False\n",
      "For Ranolazine: True\n",
      "For S4854: False\n",
      "For LM-3093: False\n",
      "For S3622: True\n",
      "For S4836: True\n",
      "For Salmeterol: False\n",
      "For Cefazolin: False\n",
      "For sulforaphane: False\n",
      "For S4735: False\n",
      "For chlorocresol: False\n",
      "For Entacapone: True\n",
      "For S5632: False\n",
      "For Gossypol-a: False\n",
      "For Dolasetron: True\n",
      "For pentetate: False\n",
      "For Diltiazem: False\n",
      "For Propafenone: False\n",
      "For Timonacic: True\n"
     ]
    }
   ],
   "metadata": {}
  },
  {
   "cell_type": "markdown",
   "source": [
    "# Question 3"
   ],
   "metadata": {}
  },
  {
   "cell_type": "code",
   "execution_count": 62,
   "source": [
    "gene_df = df[df.file=='gene_product_output.txt']"
   ],
   "outputs": [],
   "metadata": {}
  },
  {
   "cell_type": "code",
   "execution_count": 77,
   "source": [
    "genes = gene_df.prompt.apply(lambda x: re.findall(r'The gene symbol\\s(\\S+)', x)[0])"
   ],
   "outputs": [],
   "metadata": {}
  },
  {
   "cell_type": "markdown",
   "source": [
    "Extract gene products from response text."
   ],
   "metadata": {}
  },
  {
   "cell_type": "code",
   "execution_count": 112,
   "source": [
    "def get_gene_product(s):\n",
    "    gp = re.findall(r'The gene product of \\S+ is  ([^\\.,]*)', s)\n",
    "    if len(gp) > 0:\n",
    "        return gp[0]\n",
    "    else:\n",
    "        return None\n",
    "\n",
    "gene_products = gene_df.response.apply(get_gene_product)"
   ],
   "outputs": [],
   "metadata": {}
  },
  {
   "cell_type": "code",
   "execution_count": 115,
   "source": [
    "gene_products_df = pd.DataFrame()\n",
    "gene_products_df['gene'] = genes\n",
    "gene_products_df['gene_product'] = gene_products"
   ],
   "outputs": [],
   "metadata": {}
  },
  {
   "cell_type": "code",
   "execution_count": 116,
   "source": [
    "gene_products_df"
   ],
   "outputs": [
    {
     "output_type": "execute_result",
     "data": {
      "text/html": [
       "<div>\n",
       "<style scoped>\n",
       "    .dataframe tbody tr th:only-of-type {\n",
       "        vertical-align: middle;\n",
       "    }\n",
       "\n",
       "    .dataframe tbody tr th {\n",
       "        vertical-align: top;\n",
       "    }\n",
       "\n",
       "    .dataframe thead th {\n",
       "        text-align: right;\n",
       "    }\n",
       "</style>\n",
       "<table border=\"1\" class=\"dataframe\">\n",
       "  <thead>\n",
       "    <tr style=\"text-align: right;\">\n",
       "      <th></th>\n",
       "      <th>gene</th>\n",
       "      <th>gene_product</th>\n",
       "    </tr>\n",
       "  </thead>\n",
       "  <tbody>\n",
       "    <tr>\n",
       "      <th>16612</th>\n",
       "      <td>symbol</td>\n",
       "      <td>None</td>\n",
       "    </tr>\n",
       "    <tr>\n",
       "      <th>16613</th>\n",
       "      <td>A1BG</td>\n",
       "      <td>alpha-1-B glycoprotein</td>\n",
       "    </tr>\n",
       "    <tr>\n",
       "      <th>16614</th>\n",
       "      <td>A1BG-AS1</td>\n",
       "      <td>an  antisense RNA that may regulate A1BG (alph...</td>\n",
       "    </tr>\n",
       "    <tr>\n",
       "      <th>16615</th>\n",
       "      <td>A1CF</td>\n",
       "      <td>a novel cytidine deaminase</td>\n",
       "    </tr>\n",
       "    <tr>\n",
       "      <th>16616</th>\n",
       "      <td>A2M</td>\n",
       "      <td>None</td>\n",
       "    </tr>\n",
       "    <tr>\n",
       "      <th>...</th>\n",
       "      <td>...</td>\n",
       "      <td>...</td>\n",
       "    </tr>\n",
       "    <tr>\n",
       "      <th>59374</th>\n",
       "      <td>ZYG11B</td>\n",
       "      <td>a cytosolic protein that belongs to the GRAS f...</td>\n",
       "    </tr>\n",
       "    <tr>\n",
       "      <th>59375</th>\n",
       "      <td>ZYX</td>\n",
       "      <td>a                                             ...</td>\n",
       "    </tr>\n",
       "    <tr>\n",
       "      <th>59376</th>\n",
       "      <td>ZYXP1</td>\n",
       "      <td>zyxin</td>\n",
       "    </tr>\n",
       "    <tr>\n",
       "      <th>59377</th>\n",
       "      <td>ZZEF1</td>\n",
       "      <td>a  zinc finger protein with zinc finger ZZ-typ...</td>\n",
       "    </tr>\n",
       "    <tr>\n",
       "      <th>59378</th>\n",
       "      <td>ZZZ3</td>\n",
       "      <td>None</td>\n",
       "    </tr>\n",
       "  </tbody>\n",
       "</table>\n",
       "<p>42767 rows × 2 columns</p>\n",
       "</div>"
      ],
      "text/plain": [
       "           gene                                       gene_product\n",
       "16612    symbol                                               None\n",
       "16613      A1BG                             alpha-1-B glycoprotein\n",
       "16614  A1BG-AS1  an  antisense RNA that may regulate A1BG (alph...\n",
       "16615      A1CF                         a novel cytidine deaminase\n",
       "16616       A2M                                               None\n",
       "...         ...                                                ...\n",
       "59374    ZYG11B  a cytosolic protein that belongs to the GRAS f...\n",
       "59375       ZYX  a                                             ...\n",
       "59376     ZYXP1                                              zyxin\n",
       "59377     ZZEF1  a  zinc finger protein with zinc finger ZZ-typ...\n",
       "59378      ZZZ3                                               None\n",
       "\n",
       "[42767 rows x 2 columns]"
      ]
     },
     "metadata": {},
     "execution_count": 116
    }
   ],
   "metadata": {}
  },
  {
   "cell_type": "markdown",
   "source": [
    "Take a look at few:"
   ],
   "metadata": {}
  },
  {
   "cell_type": "code",
   "execution_count": 133,
   "source": [
    "gene_products_df.iloc[:10, 0:2]"
   ],
   "outputs": [
    {
     "output_type": "execute_result",
     "data": {
      "text/html": [
       "<div>\n",
       "<style scoped>\n",
       "    .dataframe tbody tr th:only-of-type {\n",
       "        vertical-align: middle;\n",
       "    }\n",
       "\n",
       "    .dataframe tbody tr th {\n",
       "        vertical-align: top;\n",
       "    }\n",
       "\n",
       "    .dataframe thead th {\n",
       "        text-align: right;\n",
       "    }\n",
       "</style>\n",
       "<table border=\"1\" class=\"dataframe\">\n",
       "  <thead>\n",
       "    <tr style=\"text-align: right;\">\n",
       "      <th></th>\n",
       "      <th>gene</th>\n",
       "      <th>gene_product</th>\n",
       "    </tr>\n",
       "  </thead>\n",
       "  <tbody>\n",
       "    <tr>\n",
       "      <th>16612</th>\n",
       "      <td>symbol</td>\n",
       "      <td>None</td>\n",
       "    </tr>\n",
       "    <tr>\n",
       "      <th>16613</th>\n",
       "      <td>A1BG</td>\n",
       "      <td>alpha-1-B glycoprotein</td>\n",
       "    </tr>\n",
       "    <tr>\n",
       "      <th>16614</th>\n",
       "      <td>A1BG-AS1</td>\n",
       "      <td>an  antisense RNA that may regulate A1BG (alph...</td>\n",
       "    </tr>\n",
       "    <tr>\n",
       "      <th>16615</th>\n",
       "      <td>A1CF</td>\n",
       "      <td>a novel cytidine deaminase</td>\n",
       "    </tr>\n",
       "    <tr>\n",
       "      <th>16616</th>\n",
       "      <td>A2M</td>\n",
       "      <td>None</td>\n",
       "    </tr>\n",
       "    <tr>\n",
       "      <th>16617</th>\n",
       "      <td>A2M-AS1</td>\n",
       "      <td>None</td>\n",
       "    </tr>\n",
       "    <tr>\n",
       "      <th>16618</th>\n",
       "      <td>A2ML1</td>\n",
       "      <td>None</td>\n",
       "    </tr>\n",
       "    <tr>\n",
       "      <th>16619</th>\n",
       "      <td>A2ML1-AS1</td>\n",
       "      <td>A2ML1 antisense RNA 1</td>\n",
       "    </tr>\n",
       "    <tr>\n",
       "      <th>16620</th>\n",
       "      <td>A2ML1-AS2</td>\n",
       "      <td>None</td>\n",
       "    </tr>\n",
       "    <tr>\n",
       "      <th>16621</th>\n",
       "      <td>A2MP1</td>\n",
       "      <td>alpha-2-macroglobulin</td>\n",
       "    </tr>\n",
       "  </tbody>\n",
       "</table>\n",
       "</div>"
      ],
      "text/plain": [
       "            gene                                       gene_product\n",
       "16612     symbol                                               None\n",
       "16613       A1BG                             alpha-1-B glycoprotein\n",
       "16614   A1BG-AS1  an  antisense RNA that may regulate A1BG (alph...\n",
       "16615       A1CF                         a novel cytidine deaminase\n",
       "16616        A2M                                               None\n",
       "16617    A2M-AS1                                               None\n",
       "16618      A2ML1                                               None\n",
       "16619  A2ML1-AS1                              A2ML1 antisense RNA 1\n",
       "16620  A2ML1-AS2                                               None\n",
       "16621      A2MP1                              alpha-2-macroglobulin"
      ]
     },
     "metadata": {},
     "execution_count": 133
    }
   ],
   "metadata": {}
  },
  {
   "cell_type": "markdown",
   "source": [
    "Check whether there are matching drugs for gene targets in the DataFrame. If so, add those drugs to the DataFrame under the column 'drug'."
   ],
   "metadata": {}
  },
  {
   "cell_type": "code",
   "execution_count": 161,
   "source": [
    "targets_df['drug'] = targets_df.prompt.apply(lambda x: x.split(' ')[0])\n",
    "associated_drugs = []\n",
    "for gene in tqdm(genes): \n",
    "    gene_target_idx = targets_df.response.str.contains(gene)\n",
    "    if gene_target_idx.sum() > 0:\n",
    "        gene_target_df = targets_df[gene_target_idx]\n",
    "        associated_drug = gene_target_df.reset_index(drop=True).iat[0, 3]\n",
    "    else: \n",
    "        associated_drug = None\n",
    "    associated_drugs.append(associated_drug)\n",
    "gene_products_df['drug'] = associated_drugs"
   ],
   "outputs": [
    {
     "output_type": "stream",
     "name": "stderr",
     "text": [
      "/var/folders/g3/n12xqk1n7f9fr0fn799q7zg80000gn/T/ipykernel_17840/3755632345.py:1: SettingWithCopyWarning: \n",
      "A value is trying to be set on a copy of a slice from a DataFrame.\n",
      "Try using .loc[row_indexer,col_indexer] = value instead\n",
      "\n",
      "See the caveats in the documentation: https://pandas.pydata.org/pandas-docs/stable/user_guide/indexing.html#returning-a-view-versus-a-copy\n",
      "  targets_df['drug'] = targets_df.prompt.apply(lambda x: x.split(' ')[0])\n",
      "100%|██████████| 42767/42767 [02:12<00:00, 323.25it/s]\n"
     ]
    }
   ],
   "metadata": {}
  },
  {
   "cell_type": "code",
   "execution_count": 162,
   "source": [
    "gene_products_df[(~gene_products_df.drug.isna()) & (~gene_products_df.gene_product.isna())]"
   ],
   "outputs": [
    {
     "output_type": "execute_result",
     "data": {
      "text/html": [
       "<div>\n",
       "<style scoped>\n",
       "    .dataframe tbody tr th:only-of-type {\n",
       "        vertical-align: middle;\n",
       "    }\n",
       "\n",
       "    .dataframe tbody tr th {\n",
       "        vertical-align: top;\n",
       "    }\n",
       "\n",
       "    .dataframe thead th {\n",
       "        text-align: right;\n",
       "    }\n",
       "</style>\n",
       "<table border=\"1\" class=\"dataframe\">\n",
       "  <thead>\n",
       "    <tr style=\"text-align: right;\">\n",
       "      <th></th>\n",
       "      <th>gene</th>\n",
       "      <th>gene_product</th>\n",
       "      <th>drug</th>\n",
       "    </tr>\n",
       "  </thead>\n",
       "  <tbody>\n",
       "    <tr>\n",
       "      <th>16672</th>\n",
       "      <td>ABCB1</td>\n",
       "      <td>P-glycoprotein</td>\n",
       "      <td>AZD4547</td>\n",
       "    </tr>\n",
       "    <tr>\n",
       "      <th>16684</th>\n",
       "      <td>ABCC1</td>\n",
       "      <td>ABCC1 (ATP-binding cassette subfamily C member 1)</td>\n",
       "      <td>AZD4547</td>\n",
       "    </tr>\n",
       "    <tr>\n",
       "      <th>16696</th>\n",
       "      <td>ABCC11</td>\n",
       "      <td>a membrane protein that functions as a drug tr...</td>\n",
       "      <td>S9142</td>\n",
       "    </tr>\n",
       "    <tr>\n",
       "      <th>16760</th>\n",
       "      <td>ABL1</td>\n",
       "      <td>a tyrosine kinase that is encoded by a retrovi...</td>\n",
       "      <td>Evobrutinib</td>\n",
       "    </tr>\n",
       "    <tr>\n",
       "      <th>16768</th>\n",
       "      <td>ABRA</td>\n",
       "      <td>a protein of the ADP-ribosylation factor family</td>\n",
       "      <td>S3811</td>\n",
       "    </tr>\n",
       "    <tr>\n",
       "      <th>...</th>\n",
       "      <td>...</td>\n",
       "      <td>...</td>\n",
       "      <td>...</td>\n",
       "    </tr>\n",
       "    <tr>\n",
       "      <th>57633</th>\n",
       "      <td>VIT</td>\n",
       "      <td>the human vitrin protein</td>\n",
       "      <td>Bepridil</td>\n",
       "    </tr>\n",
       "    <tr>\n",
       "      <th>58133</th>\n",
       "      <td>XCL1</td>\n",
       "      <td>the chemokine CXCL1</td>\n",
       "      <td>CX-4945</td>\n",
       "    </tr>\n",
       "    <tr>\n",
       "      <th>58137</th>\n",
       "      <td>XG</td>\n",
       "      <td>a high-molecular-weight glycoprotein found in ...</td>\n",
       "      <td>S3717</td>\n",
       "    </tr>\n",
       "    <tr>\n",
       "      <th>58140</th>\n",
       "      <td>XIAP</td>\n",
       "      <td>X-linked inhibitor of apoptosis protein (XIAP)</td>\n",
       "      <td>MK-1775</td>\n",
       "    </tr>\n",
       "    <tr>\n",
       "      <th>58183</th>\n",
       "      <td>XRCC1</td>\n",
       "      <td>a protein involved in the repair of damaged DNA</td>\n",
       "      <td>S3721</td>\n",
       "    </tr>\n",
       "  </tbody>\n",
       "</table>\n",
       "<p>477 rows × 3 columns</p>\n",
       "</div>"
      ],
      "text/plain": [
       "         gene                                       gene_product         drug\n",
       "16672   ABCB1                                     P-glycoprotein      AZD4547\n",
       "16684   ABCC1  ABCC1 (ATP-binding cassette subfamily C member 1)      AZD4547\n",
       "16696  ABCC11  a membrane protein that functions as a drug tr...        S9142\n",
       "16760    ABL1  a tyrosine kinase that is encoded by a retrovi...  Evobrutinib\n",
       "16768    ABRA    a protein of the ADP-ribosylation factor family        S3811\n",
       "...       ...                                                ...          ...\n",
       "57633     VIT                           the human vitrin protein     Bepridil\n",
       "58133    XCL1                                the chemokine CXCL1      CX-4945\n",
       "58137      XG  a high-molecular-weight glycoprotein found in ...        S3717\n",
       "58140    XIAP     X-linked inhibitor of apoptosis protein (XIAP)      MK-1775\n",
       "58183   XRCC1    a protein involved in the repair of damaged DNA        S3721\n",
       "\n",
       "[477 rows x 3 columns]"
      ]
     },
     "metadata": {},
     "execution_count": 162
    }
   ],
   "metadata": {}
  },
  {
   "cell_type": "markdown",
   "source": [
    "# Question 4"
   ],
   "metadata": {}
  },
  {
   "cell_type": "code",
   "execution_count": 197,
   "source": [
    "found_drugs = gene_products_df[(~gene_products_df.drug.isna()) & (~gene_products_df.gene_product.isna())].drug"
   ],
   "outputs": [],
   "metadata": {}
  },
  {
   "cell_type": "markdown",
   "source": [
    "Checking the PTO to find the patents associated with drugs related to gene products. "
   ],
   "metadata": {}
  },
  {
   "cell_type": "code",
   "execution_count": 214,
   "source": [
    "associated_patents = []\n",
    "for drug in tqdm(found_drugs):\n",
    "    try:\n",
    "        patent_result = bs(get_pto_results(drug)).find('title').string\n",
    "    except:\n",
    "       patent_result = None\n",
    "    associated_patents.append(patent_result)"
   ],
   "outputs": [
    {
     "output_type": "stream",
     "name": "stderr",
     "text": [
      "100%|██████████| 477/477 [14:51<00:00,  1.87s/it]\n"
     ]
    }
   ],
   "metadata": {}
  },
  {
   "cell_type": "code",
   "execution_count": 216,
   "source": [
    "associated_patents[:15]"
   ],
   "outputs": [
    {
     "output_type": "execute_result",
     "data": {
      "text/plain": [
       "['United States Patent: 11185592',\n",
       " 'United States Patent: 11185592',\n",
       " 'United States Patent: 8450246',\n",
       " 'United States Patent: 11179397',\n",
       " 'United States Patent: 11153401',\n",
       " 'United States Patent: 11169145',\n",
       " 'United States Patent: 11116737',\n",
       " 'United States Patent: 10966935',\n",
       " 'United States Patent: 11186584',\n",
       " 'United States Patent: 11180471',\n",
       " 'United States Patent: 11116737',\n",
       " 'United States Patent: 11185552',\n",
       " 'United States Patent: 11148856',\n",
       " 'United States Patent: 6645480',\n",
       " 'United States Patent: 11185584']"
      ]
     },
     "metadata": {},
     "execution_count": 216
    }
   ],
   "metadata": {}
  },
  {
   "cell_type": "code",
   "execution_count": 218,
   "source": [
    "gene_products_df.loc[(~gene_products_df.drug.isna()) & (~gene_products_df.gene_product.isna()), 'patent'] = associated_patents"
   ],
   "outputs": [],
   "metadata": {}
  },
  {
   "cell_type": "code",
   "execution_count": 221,
   "source": [
    "gene_products_df[~gene_products_df.patent.isna()].tail(10)"
   ],
   "outputs": [
    {
     "output_type": "execute_result",
     "data": {
      "text/html": [
       "<div>\n",
       "<style scoped>\n",
       "    .dataframe tbody tr th:only-of-type {\n",
       "        vertical-align: middle;\n",
       "    }\n",
       "\n",
       "    .dataframe tbody tr th {\n",
       "        vertical-align: top;\n",
       "    }\n",
       "\n",
       "    .dataframe thead th {\n",
       "        text-align: right;\n",
       "    }\n",
       "</style>\n",
       "<table border=\"1\" class=\"dataframe\">\n",
       "  <thead>\n",
       "    <tr style=\"text-align: right;\">\n",
       "      <th></th>\n",
       "      <th>gene</th>\n",
       "      <th>gene_product</th>\n",
       "      <th>drug</th>\n",
       "      <th>patent</th>\n",
       "    </tr>\n",
       "  </thead>\n",
       "  <tbody>\n",
       "    <tr>\n",
       "      <th>57273</th>\n",
       "      <td>UNG</td>\n",
       "      <td>uracil DNA glycosylase</td>\n",
       "      <td>Uracil</td>\n",
       "      <td>United States Patent: 11189361</td>\n",
       "    </tr>\n",
       "    <tr>\n",
       "      <th>57501</th>\n",
       "      <td>UST</td>\n",
       "      <td>an enzyme which catalyzes the transfer of a su...</td>\n",
       "      <td>Ticagrelor</td>\n",
       "      <td>United States Patent: 11180471</td>\n",
       "    </tr>\n",
       "    <tr>\n",
       "      <th>57571</th>\n",
       "      <td>VDAC1</td>\n",
       "      <td>voltage dependent anion channel 1 (VDAC1)</td>\n",
       "      <td>Isosorbide</td>\n",
       "      <td>United States Patent: 11186842</td>\n",
       "    </tr>\n",
       "    <tr>\n",
       "      <th>57593</th>\n",
       "      <td>VDR</td>\n",
       "      <td>vitamin D receptor (VDR)</td>\n",
       "      <td>Doxercalciferol</td>\n",
       "      <td>United States Patent: 11185584</td>\n",
       "    </tr>\n",
       "    <tr>\n",
       "      <th>57621</th>\n",
       "      <td>VIM</td>\n",
       "      <td>a member of the intermediate filament (IF) fam...</td>\n",
       "      <td>AZACTAM</td>\n",
       "      <td>United States Patent: 11186829</td>\n",
       "    </tr>\n",
       "    <tr>\n",
       "      <th>57633</th>\n",
       "      <td>VIT</td>\n",
       "      <td>the human vitrin protein</td>\n",
       "      <td>Bepridil</td>\n",
       "      <td>United States Patent: 11185584</td>\n",
       "    </tr>\n",
       "    <tr>\n",
       "      <th>58133</th>\n",
       "      <td>XCL1</td>\n",
       "      <td>the chemokine CXCL1</td>\n",
       "      <td>CX-4945</td>\n",
       "      <td>United States Patent: 11174464</td>\n",
       "    </tr>\n",
       "    <tr>\n",
       "      <th>58137</th>\n",
       "      <td>XG</td>\n",
       "      <td>a high-molecular-weight glycoprotein found in ...</td>\n",
       "      <td>S3717</td>\n",
       "      <td>United States Patent: 11036585</td>\n",
       "    </tr>\n",
       "    <tr>\n",
       "      <th>58140</th>\n",
       "      <td>XIAP</td>\n",
       "      <td>X-linked inhibitor of apoptosis protein (XIAP)</td>\n",
       "      <td>MK-1775</td>\n",
       "      <td>United States Patent: 11179412</td>\n",
       "    </tr>\n",
       "    <tr>\n",
       "      <th>58183</th>\n",
       "      <td>XRCC1</td>\n",
       "      <td>a protein involved in the repair of damaged DNA</td>\n",
       "      <td>S3721</td>\n",
       "      <td>United States Patent: 11046724</td>\n",
       "    </tr>\n",
       "  </tbody>\n",
       "</table>\n",
       "</div>"
      ],
      "text/plain": [
       "        gene                                       gene_product  \\\n",
       "57273    UNG                             uracil DNA glycosylase   \n",
       "57501    UST  an enzyme which catalyzes the transfer of a su...   \n",
       "57571  VDAC1          voltage dependent anion channel 1 (VDAC1)   \n",
       "57593    VDR                           vitamin D receptor (VDR)   \n",
       "57621    VIM  a member of the intermediate filament (IF) fam...   \n",
       "57633    VIT                           the human vitrin protein   \n",
       "58133   XCL1                                the chemokine CXCL1   \n",
       "58137     XG  a high-molecular-weight glycoprotein found in ...   \n",
       "58140   XIAP     X-linked inhibitor of apoptosis protein (XIAP)   \n",
       "58183  XRCC1    a protein involved in the repair of damaged DNA   \n",
       "\n",
       "                  drug                          patent  \n",
       "57273           Uracil  United States Patent: 11189361  \n",
       "57501       Ticagrelor  United States Patent: 11180471  \n",
       "57571       Isosorbide  United States Patent: 11186842  \n",
       "57593  Doxercalciferol  United States Patent: 11185584  \n",
       "57621          AZACTAM  United States Patent: 11186829  \n",
       "57633         Bepridil  United States Patent: 11185584  \n",
       "58133          CX-4945  United States Patent: 11174464  \n",
       "58137            S3717  United States Patent: 11036585  \n",
       "58140          MK-1775  United States Patent: 11179412  \n",
       "58183            S3721  United States Patent: 11046724  "
      ]
     },
     "metadata": {},
     "execution_count": 221
    }
   ],
   "metadata": {}
  }
 ],
 "metadata": {
  "interpreter": {
   "hash": "5e40715aeb59272165c7ce1ef003065a4f34478e2a915b61346383bba7148315"
  },
  "kernelspec": {
   "name": "python3",
   "display_name": "Python 3.9.7 64-bit ('3.9.7': pyenv)"
  },
  "language_info": {
   "codemirror_mode": {
    "name": "ipython",
    "version": 3
   },
   "file_extension": ".py",
   "mimetype": "text/x-python",
   "name": "python",
   "nbconvert_exporter": "python",
   "pygments_lexer": "ipython3",
   "version": "3.9.7"
  }
 },
 "nbformat": 4,
 "nbformat_minor": 2
}