{
 "cells": [
  {
   "cell_type": "markdown",
   "metadata": {},
   "source": [
    "# Classifying Tumor vs. Normal"
   ]
  },
  {
   "cell_type": "markdown",
   "metadata": {},
   "source": [
    "In this notebook I build models that takes RNAseq profiles from matched normal-tumor pairs and classifies the sample as Normal or Tumor. I try to do this task using two different subsets of the feature space: firstly using the complete gene expression data available, and later using only the expressions of protein encoding genes and compare results. \n",
    "\n",
    "Before starting the analysis I preprocess the data by splitting it into training (75%) and testing sets. Later, I use the scikit-learn standard scaler to scale the data. \n",
    "\n",
    "I try the five traditional ML algorithms in the following order: \n",
    "* k-nearest neighbors\n",
    "* Support Vector Machine\n",
    "* Naive Bayes \n",
    "* Decision Tree\n",
    "* Random Forest\n",
    "\n",
    "Out of these algorithms, the support vector classifier (SVC) with linear kernel performs the best with 97.2% cross-validated accuracy for both datasets. SVC is closely followed by the Random Forest algorithm at ~96%. I use the dataset with the protein coding genes to visualize the feature importances of the Random Forest as well as the coefficients of the SVC, displaying the top 10 genes that influenced the decision-making of these models. \n",
    "\n",
    "Next, I use the SVC and RF model trained on the full training set to make predictions on the holdout set where they achieve accuracy scores of 96.5% and 95.14% respectively. \n",
    "\n",
    "Later I build a deep learning classifier for the same task and †est the deep learning classifer with different training sizes. The performance of the model starts at 100 when we use 95% of the data to train the model, and starts to decrease as it gets fewer and fewer data to train on. Later I use this size to train the model on all training samples and validate it using the hold out set. The final deep learning model achieves an accuracy score of 95.43%. "
   ]
  },
  {
   "cell_type": "code",
   "execution_count": 1,
   "metadata": {},
   "outputs": [],
   "source": [
    "import pandas as pd\n",
    "import numpy as np\n",
    "from sklearn.preprocessing import StandardScaler\n",
    "from sklearn.manifold import TSNE\n",
    "from sklearn.neighbors import KNeighborsClassifier\n",
    "from sklearn.model_selection import cross_validate, StratifiedKFold, train_test_split\n",
    "from sklearn.svm import SVC\n",
    "from sklearn.naive_bayes import GaussianNB\n",
    "from sklearn.tree import DecisionTreeClassifier\n",
    "from sklearn.ensemble import RandomForestClassifier\n",
    "from sklearn.metrics import confusion_matrix\n",
    "import seaborn as sns\n",
    "%matplotlib inline\n",
    "import matplotlib.pyplot as plt\n",
    "# from tpot import TPOTClassifier\n",
    "# from xgboost import XGBClassifier"
   ]
  },
  {
   "cell_type": "markdown",
   "metadata": {},
   "source": [
    "# Load Data"
   ]
  },
  {
   "cell_type": "code",
   "execution_count": 7,
   "metadata": {},
   "outputs": [],
   "source": [
    "nt_all = pd.read_csv('data/nt.all.csv')"
   ]
  },
  {
   "cell_type": "code",
   "execution_count": 2,
   "metadata": {},
   "outputs": [],
   "source": [
    "nt_coding = pd.read_csv('data/nt.coding.csv')"
   ]
  },
  {
   "cell_type": "code",
   "execution_count": 9,
   "metadata": {},
   "outputs": [
    {
     "data": {
      "text/html": [
       "<div>\n",
       "<style scoped>\n",
       "    .dataframe tbody tr th:only-of-type {\n",
       "        vertical-align: middle;\n",
       "    }\n",
       "\n",
       "    .dataframe tbody tr th {\n",
       "        vertical-align: top;\n",
       "    }\n",
       "\n",
       "    .dataframe thead th {\n",
       "        text-align: right;\n",
       "    }\n",
       "</style>\n",
       "<table border=\"1\" class=\"dataframe\">\n",
       "  <thead>\n",
       "    <tr style=\"text-align: right;\">\n",
       "      <th></th>\n",
       "      <th>Type</th>\n",
       "      <th>ENSG00000000003.13</th>\n",
       "      <th>ENSG00000000005.5</th>\n",
       "      <th>ENSG00000000419.11</th>\n",
       "      <th>ENSG00000000457.12</th>\n",
       "      <th>ENSG00000000460.15</th>\n",
       "      <th>ENSG00000000938.11</th>\n",
       "      <th>ENSG00000000971.14</th>\n",
       "      <th>ENSG00000001036.12</th>\n",
       "      <th>ENSG00000001084.9</th>\n",
       "      <th>...</th>\n",
       "      <th>ENSGR0000263980.4</th>\n",
       "      <th>ENSGR0000264510.4</th>\n",
       "      <th>ENSGR0000264819.4</th>\n",
       "      <th>ENSGR0000265658.4</th>\n",
       "      <th>ENSGR0000270726.4</th>\n",
       "      <th>ENSGR0000275287.3</th>\n",
       "      <th>ENSGR0000276543.3</th>\n",
       "      <th>ENSGR0000277120.3</th>\n",
       "      <th>ENSGR0000280767.1</th>\n",
       "      <th>ENSGR0000281849.1</th>\n",
       "    </tr>\n",
       "  </thead>\n",
       "  <tbody>\n",
       "    <tr>\n",
       "      <th>0</th>\n",
       "      <td>0</td>\n",
       "      <td>150265.480539</td>\n",
       "      <td>4327.845865</td>\n",
       "      <td>713909.310619</td>\n",
       "      <td>59794.653619</td>\n",
       "      <td>15491.855614</td>\n",
       "      <td>47067.296272</td>\n",
       "      <td>184497.123078</td>\n",
       "      <td>303028.753262</td>\n",
       "      <td>101488.999785</td>\n",
       "      <td>...</td>\n",
       "      <td>0.0</td>\n",
       "      <td>0.0</td>\n",
       "      <td>0.0</td>\n",
       "      <td>0.0</td>\n",
       "      <td>0.0</td>\n",
       "      <td>0.0</td>\n",
       "      <td>0.0</td>\n",
       "      <td>0.0</td>\n",
       "      <td>0.0</td>\n",
       "      <td>0.0</td>\n",
       "    </tr>\n",
       "    <tr>\n",
       "      <th>1</th>\n",
       "      <td>0</td>\n",
       "      <td>913228.181789</td>\n",
       "      <td>2326.284691</td>\n",
       "      <td>828500.414250</td>\n",
       "      <td>50302.756694</td>\n",
       "      <td>30476.958826</td>\n",
       "      <td>119788.855372</td>\n",
       "      <td>323720.579478</td>\n",
       "      <td>232881.114861</td>\n",
       "      <td>204409.893911</td>\n",
       "      <td>...</td>\n",
       "      <td>0.0</td>\n",
       "      <td>0.0</td>\n",
       "      <td>0.0</td>\n",
       "      <td>0.0</td>\n",
       "      <td>0.0</td>\n",
       "      <td>0.0</td>\n",
       "      <td>0.0</td>\n",
       "      <td>0.0</td>\n",
       "      <td>0.0</td>\n",
       "      <td>0.0</td>\n",
       "    </tr>\n",
       "    <tr>\n",
       "      <th>2</th>\n",
       "      <td>0</td>\n",
       "      <td>359658.934678</td>\n",
       "      <td>228971.470681</td>\n",
       "      <td>483960.593070</td>\n",
       "      <td>69872.468893</td>\n",
       "      <td>16789.274018</td>\n",
       "      <td>76493.522968</td>\n",
       "      <td>735607.786830</td>\n",
       "      <td>512566.438580</td>\n",
       "      <td>108147.729799</td>\n",
       "      <td>...</td>\n",
       "      <td>0.0</td>\n",
       "      <td>0.0</td>\n",
       "      <td>0.0</td>\n",
       "      <td>0.0</td>\n",
       "      <td>0.0</td>\n",
       "      <td>0.0</td>\n",
       "      <td>0.0</td>\n",
       "      <td>0.0</td>\n",
       "      <td>0.0</td>\n",
       "      <td>0.0</td>\n",
       "    </tr>\n",
       "    <tr>\n",
       "      <th>3</th>\n",
       "      <td>1</td>\n",
       "      <td>135634.675596</td>\n",
       "      <td>0.000000</td>\n",
       "      <td>748257.784782</td>\n",
       "      <td>75504.611322</td>\n",
       "      <td>27890.960291</td>\n",
       "      <td>55978.045025</td>\n",
       "      <td>118630.138127</td>\n",
       "      <td>710455.556708</td>\n",
       "      <td>250891.525261</td>\n",
       "      <td>...</td>\n",
       "      <td>0.0</td>\n",
       "      <td>0.0</td>\n",
       "      <td>0.0</td>\n",
       "      <td>0.0</td>\n",
       "      <td>0.0</td>\n",
       "      <td>0.0</td>\n",
       "      <td>0.0</td>\n",
       "      <td>0.0</td>\n",
       "      <td>0.0</td>\n",
       "      <td>0.0</td>\n",
       "    </tr>\n",
       "    <tr>\n",
       "      <th>4</th>\n",
       "      <td>0</td>\n",
       "      <td>81454.831124</td>\n",
       "      <td>177.310309</td>\n",
       "      <td>363281.940134</td>\n",
       "      <td>45622.048124</td>\n",
       "      <td>8563.609511</td>\n",
       "      <td>687378.578868</td>\n",
       "      <td>143523.388792</td>\n",
       "      <td>459940.275222</td>\n",
       "      <td>45368.853671</td>\n",
       "      <td>...</td>\n",
       "      <td>0.0</td>\n",
       "      <td>0.0</td>\n",
       "      <td>0.0</td>\n",
       "      <td>0.0</td>\n",
       "      <td>0.0</td>\n",
       "      <td>0.0</td>\n",
       "      <td>0.0</td>\n",
       "      <td>0.0</td>\n",
       "      <td>0.0</td>\n",
       "      <td>0.0</td>\n",
       "    </tr>\n",
       "  </tbody>\n",
       "</table>\n",
       "<p>5 rows × 60484 columns</p>\n",
       "</div>"
      ],
      "text/plain": [
       "   Type  ENSG00000000003.13  ENSG00000000005.5  ENSG00000000419.11  \\\n",
       "0     0       150265.480539        4327.845865       713909.310619   \n",
       "1     0       913228.181789        2326.284691       828500.414250   \n",
       "2     0       359658.934678      228971.470681       483960.593070   \n",
       "3     1       135634.675596           0.000000       748257.784782   \n",
       "4     0        81454.831124         177.310309       363281.940134   \n",
       "\n",
       "   ENSG00000000457.12  ENSG00000000460.15  ENSG00000000938.11  \\\n",
       "0        59794.653619        15491.855614        47067.296272   \n",
       "1        50302.756694        30476.958826       119788.855372   \n",
       "2        69872.468893        16789.274018        76493.522968   \n",
       "3        75504.611322        27890.960291        55978.045025   \n",
       "4        45622.048124         8563.609511       687378.578868   \n",
       "\n",
       "   ENSG00000000971.14  ENSG00000001036.12  ENSG00000001084.9  ...  \\\n",
       "0       184497.123078       303028.753262      101488.999785  ...   \n",
       "1       323720.579478       232881.114861      204409.893911  ...   \n",
       "2       735607.786830       512566.438580      108147.729799  ...   \n",
       "3       118630.138127       710455.556708      250891.525261  ...   \n",
       "4       143523.388792       459940.275222       45368.853671  ...   \n",
       "\n",
       "   ENSGR0000263980.4  ENSGR0000264510.4  ENSGR0000264819.4  ENSGR0000265658.4  \\\n",
       "0                0.0                0.0                0.0                0.0   \n",
       "1                0.0                0.0                0.0                0.0   \n",
       "2                0.0                0.0                0.0                0.0   \n",
       "3                0.0                0.0                0.0                0.0   \n",
       "4                0.0                0.0                0.0                0.0   \n",
       "\n",
       "   ENSGR0000270726.4  ENSGR0000275287.3  ENSGR0000276543.3  ENSGR0000277120.3  \\\n",
       "0                0.0                0.0                0.0                0.0   \n",
       "1                0.0                0.0                0.0                0.0   \n",
       "2                0.0                0.0                0.0                0.0   \n",
       "3                0.0                0.0                0.0                0.0   \n",
       "4                0.0                0.0                0.0                0.0   \n",
       "\n",
       "   ENSGR0000280767.1  ENSGR0000281849.1  \n",
       "0                0.0                0.0  \n",
       "1                0.0                0.0  \n",
       "2                0.0                0.0  \n",
       "3                0.0                0.0  \n",
       "4                0.0                0.0  \n",
       "\n",
       "[5 rows x 60484 columns]"
      ]
     },
     "execution_count": 9,
     "metadata": {},
     "output_type": "execute_result"
    }
   ],
   "source": [
    "nt_all.head()"
   ]
  },
  {
   "cell_type": "code",
   "execution_count": 10,
   "metadata": {},
   "outputs": [
    {
     "data": {
      "text/plain": [
       "(1400, 60484)"
      ]
     },
     "execution_count": 10,
     "metadata": {},
     "output_type": "execute_result"
    }
   ],
   "source": [
    "nt_all.shape"
   ]
  },
  {
   "cell_type": "code",
   "execution_count": 11,
   "metadata": {},
   "outputs": [
    {
     "data": {
      "text/html": [
       "<div>\n",
       "<style scoped>\n",
       "    .dataframe tbody tr th:only-of-type {\n",
       "        vertical-align: middle;\n",
       "    }\n",
       "\n",
       "    .dataframe tbody tr th {\n",
       "        vertical-align: top;\n",
       "    }\n",
       "\n",
       "    .dataframe thead th {\n",
       "        text-align: right;\n",
       "    }\n",
       "</style>\n",
       "<table border=\"1\" class=\"dataframe\">\n",
       "  <thead>\n",
       "    <tr style=\"text-align: right;\">\n",
       "      <th></th>\n",
       "      <th>Type</th>\n",
       "      <th>ENSG00000000003.13</th>\n",
       "      <th>ENSG00000000005.5</th>\n",
       "      <th>ENSG00000000419.11</th>\n",
       "      <th>ENSG00000000457.12</th>\n",
       "      <th>ENSG00000000460.15</th>\n",
       "      <th>ENSG00000000938.11</th>\n",
       "      <th>ENSG00000000971.14</th>\n",
       "      <th>ENSG00000001036.12</th>\n",
       "      <th>ENSG00000001084.9</th>\n",
       "      <th>...</th>\n",
       "      <th>ENSG00000269699.4</th>\n",
       "      <th>ENSG00000269711.1</th>\n",
       "      <th>ENSG00000269741.4</th>\n",
       "      <th>ENSG00000269749.1</th>\n",
       "      <th>ENSG00000269755.1</th>\n",
       "      <th>ENSG00000269846.1</th>\n",
       "      <th>ENSG00000269855.2</th>\n",
       "      <th>ENSG00000269858.4</th>\n",
       "      <th>ENSG00000269881.1</th>\n",
       "      <th>ENSG00000269883.1</th>\n",
       "    </tr>\n",
       "  </thead>\n",
       "  <tbody>\n",
       "    <tr>\n",
       "      <th>0</th>\n",
       "      <td>0</td>\n",
       "      <td>150265.480539</td>\n",
       "      <td>4327.845865</td>\n",
       "      <td>713909.310619</td>\n",
       "      <td>59794.653619</td>\n",
       "      <td>15491.855614</td>\n",
       "      <td>47067.296272</td>\n",
       "      <td>184497.123078</td>\n",
       "      <td>303028.753262</td>\n",
       "      <td>101488.999785</td>\n",
       "      <td>...</td>\n",
       "      <td>491.731252</td>\n",
       "      <td>0.000000</td>\n",
       "      <td>0.000000</td>\n",
       "      <td>0.000000</td>\n",
       "      <td>5530.025272</td>\n",
       "      <td>999.688930</td>\n",
       "      <td>2815.285593</td>\n",
       "      <td>80163.084910</td>\n",
       "      <td>6837.301541</td>\n",
       "      <td>200.744219</td>\n",
       "    </tr>\n",
       "    <tr>\n",
       "      <th>1</th>\n",
       "      <td>0</td>\n",
       "      <td>913228.181789</td>\n",
       "      <td>2326.284691</td>\n",
       "      <td>828500.414250</td>\n",
       "      <td>50302.756694</td>\n",
       "      <td>30476.958826</td>\n",
       "      <td>119788.855372</td>\n",
       "      <td>323720.579478</td>\n",
       "      <td>232881.114861</td>\n",
       "      <td>204409.893911</td>\n",
       "      <td>...</td>\n",
       "      <td>146.840679</td>\n",
       "      <td>0.000000</td>\n",
       "      <td>44133.486358</td>\n",
       "      <td>902.703869</td>\n",
       "      <td>0.000000</td>\n",
       "      <td>298.526889</td>\n",
       "      <td>106768.895783</td>\n",
       "      <td>55490.416008</td>\n",
       "      <td>742.455814</td>\n",
       "      <td>0.000000</td>\n",
       "    </tr>\n",
       "    <tr>\n",
       "      <th>2</th>\n",
       "      <td>0</td>\n",
       "      <td>359658.934678</td>\n",
       "      <td>228971.470681</td>\n",
       "      <td>483960.593070</td>\n",
       "      <td>69872.468893</td>\n",
       "      <td>16789.274018</td>\n",
       "      <td>76493.522968</td>\n",
       "      <td>735607.786830</td>\n",
       "      <td>512566.438580</td>\n",
       "      <td>108147.729799</td>\n",
       "      <td>...</td>\n",
       "      <td>427.189045</td>\n",
       "      <td>0.000000</td>\n",
       "      <td>0.000000</td>\n",
       "      <td>0.000000</td>\n",
       "      <td>3603.136170</td>\n",
       "      <td>217.118679</td>\n",
       "      <td>1528.603224</td>\n",
       "      <td>62677.148077</td>\n",
       "      <td>4319.906344</td>\n",
       "      <td>0.000000</td>\n",
       "    </tr>\n",
       "    <tr>\n",
       "      <th>3</th>\n",
       "      <td>1</td>\n",
       "      <td>135634.675596</td>\n",
       "      <td>0.000000</td>\n",
       "      <td>748257.784782</td>\n",
       "      <td>75504.611322</td>\n",
       "      <td>27890.960291</td>\n",
       "      <td>55978.045025</td>\n",
       "      <td>118630.138127</td>\n",
       "      <td>710455.556708</td>\n",
       "      <td>250891.525261</td>\n",
       "      <td>...</td>\n",
       "      <td>322.662334</td>\n",
       "      <td>0.000000</td>\n",
       "      <td>946.120078</td>\n",
       "      <td>661.189483</td>\n",
       "      <td>1555.144652</td>\n",
       "      <td>218.657354</td>\n",
       "      <td>16318.022871</td>\n",
       "      <td>54779.302382</td>\n",
       "      <td>5030.289480</td>\n",
       "      <td>0.000000</td>\n",
       "    </tr>\n",
       "    <tr>\n",
       "      <th>4</th>\n",
       "      <td>0</td>\n",
       "      <td>81454.831124</td>\n",
       "      <td>177.310309</td>\n",
       "      <td>363281.940134</td>\n",
       "      <td>45622.048124</td>\n",
       "      <td>8563.609511</td>\n",
       "      <td>687378.578868</td>\n",
       "      <td>143523.388792</td>\n",
       "      <td>459940.275222</td>\n",
       "      <td>45368.853671</td>\n",
       "      <td>...</td>\n",
       "      <td>201.460549</td>\n",
       "      <td>23513.583319</td>\n",
       "      <td>0.000000</td>\n",
       "      <td>619.239908</td>\n",
       "      <td>970.985025</td>\n",
       "      <td>0.000000</td>\n",
       "      <td>2595.178159</td>\n",
       "      <td>103692.697035</td>\n",
       "      <td>1909.921482</td>\n",
       "      <td>0.000000</td>\n",
       "    </tr>\n",
       "  </tbody>\n",
       "</table>\n",
       "<p>5 rows × 19562 columns</p>\n",
       "</div>"
      ],
      "text/plain": [
       "   Type  ENSG00000000003.13  ENSG00000000005.5  ENSG00000000419.11  \\\n",
       "0     0       150265.480539        4327.845865       713909.310619   \n",
       "1     0       913228.181789        2326.284691       828500.414250   \n",
       "2     0       359658.934678      228971.470681       483960.593070   \n",
       "3     1       135634.675596           0.000000       748257.784782   \n",
       "4     0        81454.831124         177.310309       363281.940134   \n",
       "\n",
       "   ENSG00000000457.12  ENSG00000000460.15  ENSG00000000938.11  \\\n",
       "0        59794.653619        15491.855614        47067.296272   \n",
       "1        50302.756694        30476.958826       119788.855372   \n",
       "2        69872.468893        16789.274018        76493.522968   \n",
       "3        75504.611322        27890.960291        55978.045025   \n",
       "4        45622.048124         8563.609511       687378.578868   \n",
       "\n",
       "   ENSG00000000971.14  ENSG00000001036.12  ENSG00000001084.9  ...  \\\n",
       "0       184497.123078       303028.753262      101488.999785  ...   \n",
       "1       323720.579478       232881.114861      204409.893911  ...   \n",
       "2       735607.786830       512566.438580      108147.729799  ...   \n",
       "3       118630.138127       710455.556708      250891.525261  ...   \n",
       "4       143523.388792       459940.275222       45368.853671  ...   \n",
       "\n",
       "   ENSG00000269699.4  ENSG00000269711.1  ENSG00000269741.4  ENSG00000269749.1  \\\n",
       "0         491.731252           0.000000           0.000000           0.000000   \n",
       "1         146.840679           0.000000       44133.486358         902.703869   \n",
       "2         427.189045           0.000000           0.000000           0.000000   \n",
       "3         322.662334           0.000000         946.120078         661.189483   \n",
       "4         201.460549       23513.583319           0.000000         619.239908   \n",
       "\n",
       "   ENSG00000269755.1  ENSG00000269846.1  ENSG00000269855.2  ENSG00000269858.4  \\\n",
       "0        5530.025272         999.688930        2815.285593       80163.084910   \n",
       "1           0.000000         298.526889      106768.895783       55490.416008   \n",
       "2        3603.136170         217.118679        1528.603224       62677.148077   \n",
       "3        1555.144652         218.657354       16318.022871       54779.302382   \n",
       "4         970.985025           0.000000        2595.178159      103692.697035   \n",
       "\n",
       "   ENSG00000269881.1  ENSG00000269883.1  \n",
       "0        6837.301541         200.744219  \n",
       "1         742.455814           0.000000  \n",
       "2        4319.906344           0.000000  \n",
       "3        5030.289480           0.000000  \n",
       "4        1909.921482           0.000000  \n",
       "\n",
       "[5 rows x 19562 columns]"
      ]
     },
     "execution_count": 11,
     "metadata": {},
     "output_type": "execute_result"
    }
   ],
   "source": [
    "nt_coding.head()"
   ]
  },
  {
   "cell_type": "code",
   "execution_count": 12,
   "metadata": {},
   "outputs": [
    {
     "data": {
      "text/plain": [
       "(1400, 19562)"
      ]
     },
     "execution_count": 12,
     "metadata": {},
     "output_type": "execute_result"
    }
   ],
   "source": [
    "nt_coding.shape"
   ]
  },
  {
   "cell_type": "markdown",
   "metadata": {},
   "source": [
    "# Pre-processing"
   ]
  },
  {
   "cell_type": "markdown",
   "metadata": {},
   "source": [
    "## Seperate labels and features"
   ]
  },
  {
   "cell_type": "code",
   "execution_count": 3,
   "metadata": {},
   "outputs": [],
   "source": [
    "y_coding = nt_coding['Type']\n",
    "X_coding = nt_coding.drop('Type', axis=1)"
   ]
  },
  {
   "cell_type": "code",
   "execution_count": 14,
   "metadata": {},
   "outputs": [],
   "source": [
    "y_all = nt_all['Type']\n",
    "X_all = nt_all.drop('Type', axis=1)"
   ]
  },
  {
   "cell_type": "markdown",
   "metadata": {},
   "source": [
    "## Split into training and validation sets"
   ]
  },
  {
   "cell_type": "code",
   "execution_count": 9,
   "metadata": {},
   "outputs": [],
   "source": [
    "X_coding_train, X_coding_test, y_coding_train, y_coding_test = train_test_split(X_coding, y_coding, \n",
    "                                                    test_size=.25, random_state=1)"
   ]
  },
  {
   "cell_type": "code",
   "execution_count": 16,
   "metadata": {},
   "outputs": [],
   "source": [
    "X_all_train, X_all_test, y_all_train, y_all_test = train_test_split(X_all, y_all, \n",
    "                                                    test_size=.25, random_state=1)"
   ]
  },
  {
   "cell_type": "code",
   "execution_count": 10,
   "metadata": {},
   "outputs": [],
   "source": [
    "scaler_coding = StandardScaler()\n",
    "scaler_all = StandardScaler()\n",
    "\n",
    "X_coding_train = scaler_coding.fit_transform(X_coding_train)\n",
    "X_coding_test = scaler_coding.transform(X_coding_test)\n",
    "\n",
    "X_all_train = scaler_all.fit_transform(X_all_train)\n",
    "X_all_test = scaler_all.transform(X_all_test)"
   ]
  },
  {
   "cell_type": "markdown",
   "metadata": {},
   "source": [
    "# Classification"
   ]
  },
  {
   "cell_type": "markdown",
   "metadata": {},
   "source": [
    "* k-nearest neighbors\n",
    "* Support Vector Machine (SVM)\n",
    "* Naive Bayes\n",
    "* Decision Tree\n",
    "* Random Forest"
   ]
  },
  {
   "cell_type": "code",
   "execution_count": 35,
   "metadata": {},
   "outputs": [],
   "source": [
    "def display_cv_metrics(metrics):\n",
    "    for k, v in metrics.items():\n",
    "        print(f'{k}: {np.round(v.mean(), 3)}')"
   ]
  },
  {
   "cell_type": "code",
   "execution_count": 36,
   "metadata": {},
   "outputs": [],
   "source": [
    "metrics = ['accuracy', 'f1', 'precision', 'recall', 'roc_auc']"
   ]
  },
  {
   "cell_type": "code",
   "execution_count": 38,
   "metadata": {},
   "outputs": [],
   "source": [
    "skf = StratifiedKFold(n_splits=5, random_state=1, shuffle=True)"
   ]
  },
  {
   "cell_type": "markdown",
   "metadata": {},
   "source": [
    "## k-nearest neighbors"
   ]
  },
  {
   "cell_type": "code",
   "execution_count": 40,
   "metadata": {},
   "outputs": [],
   "source": [
    "knn = KNeighborsClassifier()"
   ]
  },
  {
   "cell_type": "code",
   "execution_count": 41,
   "metadata": {},
   "outputs": [],
   "source": [
    "knn_scores_coding = cross_validate(estimator=knn, \n",
    "                              X=X_coding_train,\n",
    "                              y=y_coding_train,\n",
    "                              scoring=metrics,\n",
    "                              cv=skf)"
   ]
  },
  {
   "cell_type": "code",
   "execution_count": 42,
   "metadata": {},
   "outputs": [],
   "source": [
    "knn_scores_all = cross_validate(estimator=knn, \n",
    "                              X=X_all_train,\n",
    "                              y=y_all_train,\n",
    "                              scoring=metrics,\n",
    "                              cv=skf)"
   ]
  },
  {
   "cell_type": "code",
   "execution_count": 43,
   "metadata": {},
   "outputs": [
    {
     "name": "stdout",
     "output_type": "stream",
     "text": [
      "fit_time: 0.81\n",
      "score_time: 11.025\n",
      "test_accuracy: 0.891\n",
      "test_f1: 0.882\n",
      "test_precision: 0.982\n",
      "test_recall: 0.802\n",
      "test_roc_auc: 0.966\n"
     ]
    }
   ],
   "source": [
    "display_cv_metrics(knn_scores_coding)"
   ]
  },
  {
   "cell_type": "code",
   "execution_count": 44,
   "metadata": {},
   "outputs": [
    {
     "name": "stdout",
     "output_type": "stream",
     "text": [
      "fit_time: 3.364\n",
      "score_time: 32.006\n",
      "test_accuracy: 0.841\n",
      "test_f1: 0.817\n",
      "test_precision: 0.984\n",
      "test_recall: 0.7\n",
      "test_roc_auc: 0.956\n"
     ]
    }
   ],
   "source": [
    "display_cv_metrics(knn_scores_all)"
   ]
  },
  {
   "cell_type": "markdown",
   "metadata": {},
   "source": [
    "## Support Vector Machine"
   ]
  },
  {
   "cell_type": "code",
   "execution_count": 97,
   "metadata": {},
   "outputs": [],
   "source": [
    "svc = SVC(kernel='linear')"
   ]
  },
  {
   "cell_type": "code",
   "execution_count": 98,
   "metadata": {},
   "outputs": [],
   "source": [
    "svc_scores_coding = cross_validate(estimator=svc, \n",
    "                              X=X_coding_train,\n",
    "                              y=y_coding_train,\n",
    "                              scoring=metrics,\n",
    "                              cv=skf)"
   ]
  },
  {
   "cell_type": "code",
   "execution_count": 99,
   "metadata": {},
   "outputs": [],
   "source": [
    "svc_scores_all = cross_validate(estimator=svc, \n",
    "                              X=X_all_train,\n",
    "                              y=y_all_train,\n",
    "                              scoring=metrics,\n",
    "                              cv=skf)"
   ]
  },
  {
   "cell_type": "code",
   "execution_count": 100,
   "metadata": {},
   "outputs": [
    {
     "name": "stdout",
     "output_type": "stream",
     "text": [
      "fit_time: 4.691\n",
      "score_time: 2.066\n",
      "test_accuracy: 0.972\n",
      "test_f1: 0.973\n",
      "test_precision: 0.98\n",
      "test_recall: 0.966\n",
      "test_roc_auc: 0.992\n"
     ]
    }
   ],
   "source": [
    "display_cv_metrics(svc_scores_coding)"
   ]
  },
  {
   "cell_type": "code",
   "execution_count": 101,
   "metadata": {},
   "outputs": [
    {
     "name": "stdout",
     "output_type": "stream",
     "text": [
      "fit_time: 20.542\n",
      "score_time: 9.303\n",
      "test_accuracy: 0.972\n",
      "test_f1: 0.973\n",
      "test_precision: 0.981\n",
      "test_recall: 0.965\n",
      "test_roc_auc: 0.993\n"
     ]
    }
   ],
   "source": [
    "display_cv_metrics(svc_scores_all)"
   ]
  },
  {
   "cell_type": "markdown",
   "metadata": {},
   "source": [
    "## Naive Bayes Classifier"
   ]
  },
  {
   "cell_type": "code",
   "execution_count": 50,
   "metadata": {},
   "outputs": [],
   "source": [
    "nb = GaussianNB()"
   ]
  },
  {
   "cell_type": "code",
   "execution_count": 51,
   "metadata": {},
   "outputs": [],
   "source": [
    "nb_scores_coding = cross_validate(estimator=nb, \n",
    "                              X=X_coding_train,\n",
    "                              y=y_coding_train,\n",
    "                              scoring=metrics,\n",
    "                              cv=skf)"
   ]
  },
  {
   "cell_type": "code",
   "execution_count": 73,
   "metadata": {},
   "outputs": [],
   "source": [
    "nb_scores_all = cross_validate(estimator=nb, \n",
    "                              X=X_all_train,\n",
    "                              y=y_all_train,\n",
    "                              scoring=metrics,\n",
    "                              cv=skf)"
   ]
  },
  {
   "cell_type": "code",
   "execution_count": 53,
   "metadata": {},
   "outputs": [
    {
     "name": "stdout",
     "output_type": "stream",
     "text": [
      "fit_time: 0.444\n",
      "score_time: 0.095\n",
      "test_accuracy: 0.918\n",
      "test_f1: 0.921\n",
      "test_precision: 0.91\n",
      "test_recall: 0.933\n",
      "test_roc_auc: 0.922\n"
     ]
    }
   ],
   "source": [
    "display_cv_metrics(nb_scores_coding)"
   ]
  },
  {
   "cell_type": "code",
   "execution_count": 74,
   "metadata": {},
   "outputs": [
    {
     "name": "stdout",
     "output_type": "stream",
     "text": [
      "fit_time: 2.445\n",
      "score_time: 0.309\n",
      "test_accuracy: 0.657\n",
      "test_f1: 0.708\n",
      "test_precision: 0.629\n",
      "test_recall: 0.812\n",
      "test_roc_auc: 0.654\n"
     ]
    }
   ],
   "source": [
    "display_cv_metrics(nb_scores_all)"
   ]
  },
  {
   "cell_type": "markdown",
   "metadata": {},
   "source": [
    "## Decision Tree Classifier"
   ]
  },
  {
   "cell_type": "code",
   "execution_count": 55,
   "metadata": {},
   "outputs": [],
   "source": [
    "dt = DecisionTreeClassifier(random_state=1)"
   ]
  },
  {
   "cell_type": "code",
   "execution_count": 56,
   "metadata": {},
   "outputs": [],
   "source": [
    "dt_scores_coding = cross_validate(estimator=dt, \n",
    "                              X=X_coding_train,\n",
    "                              y=y_coding_train,\n",
    "                              scoring=metrics,\n",
    "                              cv=skf)"
   ]
  },
  {
   "cell_type": "code",
   "execution_count": 57,
   "metadata": {},
   "outputs": [],
   "source": [
    "dt_scores_all = cross_validate(estimator=dt, \n",
    "                              X=X_all_train,\n",
    "                              y=y_all_train,\n",
    "                              scoring=metrics,\n",
    "                              cv=skf)"
   ]
  },
  {
   "cell_type": "code",
   "execution_count": 58,
   "metadata": {},
   "outputs": [
    {
     "name": "stdout",
     "output_type": "stream",
     "text": [
      "fit_time: 6.907\n",
      "score_time: 0.02\n",
      "test_accuracy: 0.909\n",
      "test_f1: 0.91\n",
      "test_precision: 0.914\n",
      "test_recall: 0.907\n",
      "test_roc_auc: 0.909\n"
     ]
    }
   ],
   "source": [
    "display_cv_metrics(dt_scores_coding)"
   ]
  },
  {
   "cell_type": "code",
   "execution_count": 59,
   "metadata": {},
   "outputs": [
    {
     "name": "stdout",
     "output_type": "stream",
     "text": [
      "fit_time: 14.78\n",
      "score_time: 0.06\n",
      "test_accuracy: 0.905\n",
      "test_f1: 0.906\n",
      "test_precision: 0.913\n",
      "test_recall: 0.899\n",
      "test_roc_auc: 0.905\n"
     ]
    }
   ],
   "source": [
    "display_cv_metrics(dt_scores_all)"
   ]
  },
  {
   "cell_type": "markdown",
   "metadata": {},
   "source": [
    "## Random Forest Classifier"
   ]
  },
  {
   "cell_type": "code",
   "execution_count": 60,
   "metadata": {},
   "outputs": [],
   "source": [
    "rf = RandomForestClassifier(max_depth=3, random_state=1)"
   ]
  },
  {
   "cell_type": "code",
   "execution_count": 61,
   "metadata": {},
   "outputs": [],
   "source": [
    "rf_scores_coding = cross_validate(estimator=rf, \n",
    "                              X=X_coding_train,\n",
    "                              y=y_coding_train,\n",
    "                              scoring=metrics,\n",
    "                              cv=skf)"
   ]
  },
  {
   "cell_type": "code",
   "execution_count": 62,
   "metadata": {},
   "outputs": [],
   "source": [
    "rf_scores_all = cross_validate(estimator=rf, \n",
    "                              X=X_all_train,\n",
    "                              y=y_all_train,\n",
    "                              scoring=metrics,\n",
    "                              cv=skf)"
   ]
  },
  {
   "cell_type": "code",
   "execution_count": 63,
   "metadata": {},
   "outputs": [
    {
     "name": "stdout",
     "output_type": "stream",
     "text": [
      "fit_time: 1.971\n",
      "score_time: 0.037\n",
      "test_accuracy: 0.957\n",
      "test_f1: 0.958\n",
      "test_precision: 0.956\n",
      "test_recall: 0.961\n",
      "test_roc_auc: 0.991\n"
     ]
    }
   ],
   "source": [
    "display_cv_metrics(rf_scores_coding)"
   ]
  },
  {
   "cell_type": "code",
   "execution_count": 64,
   "metadata": {},
   "outputs": [
    {
     "name": "stdout",
     "output_type": "stream",
     "text": [
      "fit_time: 3.422\n",
      "score_time: 0.067\n",
      "test_accuracy: 0.956\n",
      "test_f1: 0.957\n",
      "test_precision: 0.961\n",
      "test_recall: 0.953\n",
      "test_roc_auc: 0.992\n"
     ]
    }
   ],
   "source": [
    "display_cv_metrics(rf_scores_all)"
   ]
  },
  {
   "cell_type": "markdown",
   "metadata": {},
   "source": [
    "## Selecting the best performer"
   ]
  },
  {
   "cell_type": "code",
   "execution_count": 65,
   "metadata": {},
   "outputs": [],
   "source": [
    "scores_all = [knn_scores_all, svc_scores_all, nb_scores_all, \n",
    "              dt_scores_all, rf_scores_all]\n",
    "\n",
    "scores_coding = [knn_scores_coding, svc_scores_coding, \n",
    "                 nb_scores_coding, dt_scores_coding, rf_scores_coding]\n",
    "\n",
    "names = ['K-Nearest Neighbors', 'Support Vector Classifier', 'Naive Bayes Classifier', \n",
    "        'Decision Tree Classifier', 'Random Forest Classifier']"
   ]
  },
  {
   "cell_type": "code",
   "execution_count": 66,
   "metadata": {},
   "outputs": [],
   "source": [
    "for score in scores_all:\n",
    "    for k, v in score.items():\n",
    "        score[k] = v.mean()"
   ]
  },
  {
   "cell_type": "code",
   "execution_count": 67,
   "metadata": {},
   "outputs": [],
   "source": [
    "for score in scores_coding:\n",
    "    for k, v in score.items():\n",
    "        score[k] = v.mean()"
   ]
  },
  {
   "cell_type": "markdown",
   "metadata": {},
   "source": [
    "### For all genes"
   ]
  },
  {
   "cell_type": "code",
   "execution_count": 109,
   "metadata": {},
   "outputs": [
    {
     "data": {
      "text/html": [
       "<div>\n",
       "<style scoped>\n",
       "    .dataframe tbody tr th:only-of-type {\n",
       "        vertical-align: middle;\n",
       "    }\n",
       "\n",
       "    .dataframe tbody tr th {\n",
       "        vertical-align: top;\n",
       "    }\n",
       "\n",
       "    .dataframe thead th {\n",
       "        text-align: right;\n",
       "    }\n",
       "</style>\n",
       "<table border=\"1\" class=\"dataframe\">\n",
       "  <thead>\n",
       "    <tr style=\"text-align: right;\">\n",
       "      <th></th>\n",
       "      <th>fit_time</th>\n",
       "      <th>score_time</th>\n",
       "      <th>test_accuracy</th>\n",
       "      <th>test_f1</th>\n",
       "      <th>test_precision</th>\n",
       "      <th>test_recall</th>\n",
       "      <th>test_roc_auc</th>\n",
       "    </tr>\n",
       "  </thead>\n",
       "  <tbody>\n",
       "    <tr>\n",
       "      <th>K-Nearest Neighbors</th>\n",
       "      <td>3.364365</td>\n",
       "      <td>32.006083</td>\n",
       "      <td>0.840952</td>\n",
       "      <td>0.816745</td>\n",
       "      <td>0.984169</td>\n",
       "      <td>0.699533</td>\n",
       "      <td>0.955647</td>\n",
       "    </tr>\n",
       "    <tr>\n",
       "      <th>Support Vector Classifier</th>\n",
       "      <td>20.541505</td>\n",
       "      <td>9.303161</td>\n",
       "      <td>0.972381</td>\n",
       "      <td>0.972630</td>\n",
       "      <td>0.981336</td>\n",
       "      <td>0.964521</td>\n",
       "      <td>0.992669</td>\n",
       "    </tr>\n",
       "    <tr>\n",
       "      <th>Naive Bayes Classifier</th>\n",
       "      <td>2.191593</td>\n",
       "      <td>0.295318</td>\n",
       "      <td>0.657143</td>\n",
       "      <td>0.707806</td>\n",
       "      <td>0.629284</td>\n",
       "      <td>0.811578</td>\n",
       "      <td>0.653981</td>\n",
       "    </tr>\n",
       "    <tr>\n",
       "      <th>Decision Tree Classifier</th>\n",
       "      <td>14.779774</td>\n",
       "      <td>0.060417</td>\n",
       "      <td>0.904762</td>\n",
       "      <td>0.905943</td>\n",
       "      <td>0.912786</td>\n",
       "      <td>0.899290</td>\n",
       "      <td>0.904899</td>\n",
       "    </tr>\n",
       "    <tr>\n",
       "      <th>Random Forest Classifier</th>\n",
       "      <td>3.422036</td>\n",
       "      <td>0.067356</td>\n",
       "      <td>0.956190</td>\n",
       "      <td>0.956934</td>\n",
       "      <td>0.960781</td>\n",
       "      <td>0.953340</td>\n",
       "      <td>0.992069</td>\n",
       "    </tr>\n",
       "  </tbody>\n",
       "</table>\n",
       "</div>"
      ],
      "text/plain": [
       "                            fit_time  score_time  test_accuracy   test_f1  \\\n",
       "K-Nearest Neighbors         3.364365   32.006083       0.840952  0.816745   \n",
       "Support Vector Classifier  20.541505    9.303161       0.972381  0.972630   \n",
       "Naive Bayes Classifier      2.191593    0.295318       0.657143  0.707806   \n",
       "Decision Tree Classifier   14.779774    0.060417       0.904762  0.905943   \n",
       "Random Forest Classifier    3.422036    0.067356       0.956190  0.956934   \n",
       "\n",
       "                           test_precision  test_recall  test_roc_auc  \n",
       "K-Nearest Neighbors              0.984169     0.699533      0.955647  \n",
       "Support Vector Classifier        0.981336     0.964521      0.992669  \n",
       "Naive Bayes Classifier           0.629284     0.811578      0.653981  \n",
       "Decision Tree Classifier         0.912786     0.899290      0.904899  \n",
       "Random Forest Classifier         0.960781     0.953340      0.992069  "
      ]
     },
     "execution_count": 109,
     "metadata": {},
     "output_type": "execute_result"
    }
   ],
   "source": [
    "pd.DataFrame(scores_all, index=names)"
   ]
  },
  {
   "cell_type": "markdown",
   "metadata": {},
   "source": [
    "### For only protein-coding genes"
   ]
  },
  {
   "cell_type": "code",
   "execution_count": 110,
   "metadata": {},
   "outputs": [
    {
     "data": {
      "text/html": [
       "<div>\n",
       "<style scoped>\n",
       "    .dataframe tbody tr th:only-of-type {\n",
       "        vertical-align: middle;\n",
       "    }\n",
       "\n",
       "    .dataframe tbody tr th {\n",
       "        vertical-align: top;\n",
       "    }\n",
       "\n",
       "    .dataframe thead th {\n",
       "        text-align: right;\n",
       "    }\n",
       "</style>\n",
       "<table border=\"1\" class=\"dataframe\">\n",
       "  <thead>\n",
       "    <tr style=\"text-align: right;\">\n",
       "      <th></th>\n",
       "      <th>fit_time</th>\n",
       "      <th>score_time</th>\n",
       "      <th>test_accuracy</th>\n",
       "      <th>test_f1</th>\n",
       "      <th>test_precision</th>\n",
       "      <th>test_recall</th>\n",
       "      <th>test_roc_auc</th>\n",
       "    </tr>\n",
       "  </thead>\n",
       "  <tbody>\n",
       "    <tr>\n",
       "      <th>K-Nearest Neighbors</th>\n",
       "      <td>0.809870</td>\n",
       "      <td>11.025419</td>\n",
       "      <td>0.891429</td>\n",
       "      <td>0.882157</td>\n",
       "      <td>0.981738</td>\n",
       "      <td>0.802077</td>\n",
       "      <td>0.965718</td>\n",
       "    </tr>\n",
       "    <tr>\n",
       "      <th>Support Vector Classifier</th>\n",
       "      <td>4.690663</td>\n",
       "      <td>2.065730</td>\n",
       "      <td>0.972381</td>\n",
       "      <td>0.972663</td>\n",
       "      <td>0.979575</td>\n",
       "      <td>0.966390</td>\n",
       "      <td>0.992378</td>\n",
       "    </tr>\n",
       "    <tr>\n",
       "      <th>Naive Bayes Classifier</th>\n",
       "      <td>0.443795</td>\n",
       "      <td>0.095060</td>\n",
       "      <td>0.918095</td>\n",
       "      <td>0.920576</td>\n",
       "      <td>0.909718</td>\n",
       "      <td>0.932866</td>\n",
       "      <td>0.921958</td>\n",
       "    </tr>\n",
       "    <tr>\n",
       "      <th>Decision Tree Classifier</th>\n",
       "      <td>6.906948</td>\n",
       "      <td>0.019686</td>\n",
       "      <td>0.908571</td>\n",
       "      <td>0.910091</td>\n",
       "      <td>0.913765</td>\n",
       "      <td>0.906819</td>\n",
       "      <td>0.908616</td>\n",
       "    </tr>\n",
       "    <tr>\n",
       "      <th>Random Forest Classifier</th>\n",
       "      <td>1.971109</td>\n",
       "      <td>0.036887</td>\n",
       "      <td>0.957143</td>\n",
       "      <td>0.958180</td>\n",
       "      <td>0.956230</td>\n",
       "      <td>0.960782</td>\n",
       "      <td>0.991180</td>\n",
       "    </tr>\n",
       "  </tbody>\n",
       "</table>\n",
       "</div>"
      ],
      "text/plain": [
       "                           fit_time  score_time  test_accuracy   test_f1  \\\n",
       "K-Nearest Neighbors        0.809870   11.025419       0.891429  0.882157   \n",
       "Support Vector Classifier  4.690663    2.065730       0.972381  0.972663   \n",
       "Naive Bayes Classifier     0.443795    0.095060       0.918095  0.920576   \n",
       "Decision Tree Classifier   6.906948    0.019686       0.908571  0.910091   \n",
       "Random Forest Classifier   1.971109    0.036887       0.957143  0.958180   \n",
       "\n",
       "                           test_precision  test_recall  test_roc_auc  \n",
       "K-Nearest Neighbors              0.981738     0.802077      0.965718  \n",
       "Support Vector Classifier        0.979575     0.966390      0.992378  \n",
       "Naive Bayes Classifier           0.909718     0.932866      0.921958  \n",
       "Decision Tree Classifier         0.913765     0.906819      0.908616  \n",
       "Random Forest Classifier         0.956230     0.960782      0.991180  "
      ]
     },
     "execution_count": 110,
     "metadata": {},
     "output_type": "execute_result"
    }
   ],
   "source": [
    "pd.DataFrame(scores_coding, index=names)"
   ]
  },
  {
   "cell_type": "markdown",
   "metadata": {},
   "source": [
    "## Important RNA-sequences in Classifying Tumor"
   ]
  },
  {
   "cell_type": "markdown",
   "metadata": {},
   "source": [
    "Support Vector Classifier with linear kernel seems to have a slightly higher cross validated ROC AUC and accuracy scores across both datasets, closely followed by the Random Forest Classifier."
   ]
  },
  {
   "cell_type": "markdown",
   "metadata": {},
   "source": [
    "Dataset with just the protein-coding genes seems to be performing as well as the full dataset despite having fewer features. We will compute Random Forest feature importances based on mean decrease in impurity and display the first 10 genes that are the best predictors of tumor."
   ]
  },
  {
   "cell_type": "markdown",
   "metadata": {},
   "source": [
    "### Random Forest Feature Importances"
   ]
  },
  {
   "cell_type": "code",
   "execution_count": 76,
   "metadata": {},
   "outputs": [
    {
     "data": {
      "text/plain": [
       "RandomForestClassifier(max_depth=3, random_state=1)"
      ]
     },
     "execution_count": 76,
     "metadata": {},
     "output_type": "execute_result"
    }
   ],
   "source": [
    "rf.fit(X_all_train, y_all_train)"
   ]
  },
  {
   "cell_type": "code",
   "execution_count": 77,
   "metadata": {},
   "outputs": [],
   "source": [
    "importances = rf.feature_importances_"
   ]
  },
  {
   "cell_type": "code",
   "execution_count": 78,
   "metadata": {},
   "outputs": [],
   "source": [
    "feature_names = list(nt_coding.columns[1:])"
   ]
  },
  {
   "cell_type": "code",
   "execution_count": 79,
   "metadata": {},
   "outputs": [],
   "source": [
    "importance_df = pd.DataFrame(zip(feature_names, importances), columns=['gene', 'importance'])"
   ]
  },
  {
   "cell_type": "markdown",
   "metadata": {},
   "source": [
    "#### Top 20 genes for predicting tumor"
   ]
  },
  {
   "cell_type": "code",
   "execution_count": 191,
   "metadata": {},
   "outputs": [],
   "source": [
    "top_20_rf = importance_df.sort_values('importance', ascending=False).head(20)"
   ]
  },
  {
   "cell_type": "code",
   "execution_count": 194,
   "metadata": {},
   "outputs": [
    {
     "data": {
      "image/png": "[encoded data removed]",
      "text/plain": [
       "<Figure size 840x720 with 1 Axes>"
      ]
     },
     "metadata": {
      "needs_background": "light"
     },
     "output_type": "display_data"
    }
   ],
   "source": [
    "plt.figure(figsize=(7, 6), dpi=120)\n",
    "plt.barh(y=top_20_rf.gene[::-1], width=top_20_rf.importance[::-1]);"
   ]
  },
  {
   "cell_type": "markdown",
   "metadata": {},
   "source": [
    "### SVC Feature Importances"
   ]
  },
  {
   "cell_type": "code",
   "execution_count": 111,
   "metadata": {},
   "outputs": [
    {
     "data": {
      "text/plain": [
       "SVC(kernel='linear')"
      ]
     },
     "execution_count": 111,
     "metadata": {},
     "output_type": "execute_result"
    }
   ],
   "source": [
    "svc = SVC(kernel='linear')\n",
    "svc.fit(X_all_train, y_all_train)"
   ]
  },
  {
   "cell_type": "code",
   "execution_count": 175,
   "metadata": {},
   "outputs": [],
   "source": [
    "names, imp = zip(*sorted(zip(nt_all.columns[1:], svc.coef_[0]), key=lambda x: abs(x[1])))"
   ]
  },
  {
   "cell_type": "markdown",
   "metadata": {},
   "source": [
    "Highest coefficients where higher absolute value means more influence on the decision of the classifier:"
   ]
  },
  {
   "cell_type": "code",
   "execution_count": 198,
   "metadata": {
    "scrolled": false
   },
   "outputs": [
    {
     "data": {
      "image/png": "[encoded data removed]",
      "text/plain": [
       "<Figure size 840x720 with 1 Axes>"
      ]
     },
     "metadata": {
      "needs_background": "light"
     },
     "output_type": "display_data"
    }
   ],
   "source": [
    "plt.figure(figsize=(7, 6), dpi=120)\n",
    "plt.barh(y=names[-20:], width=imp[-20:]);"
   ]
  },
  {
   "cell_type": "markdown",
   "metadata": {},
   "source": [
    "Check to see if any common features for SVC and Random Forest in the top 20:"
   ]
  },
  {
   "cell_type": "code",
   "execution_count": 206,
   "metadata": {},
   "outputs": [
    {
     "data": {
      "text/plain": [
       "set()"
      ]
     },
     "execution_count": 206,
     "metadata": {},
     "output_type": "execute_result"
    }
   ],
   "source": [
    "set(names[-20:]) & set(top_20_rf.gene)"
   ]
  },
  {
   "cell_type": "markdown",
   "metadata": {},
   "source": [
    "Nope. "
   ]
  },
  {
   "cell_type": "markdown",
   "metadata": {},
   "source": [
    "## Confusion matrix with the predictions on the holdout set"
   ]
  },
  {
   "cell_type": "markdown",
   "metadata": {},
   "source": [
    "### Random Forest"
   ]
  },
  {
   "cell_type": "code",
   "execution_count": 210,
   "metadata": {},
   "outputs": [],
   "source": [
    "y_all_pred = rf.predict(X_all_test)"
   ]
  },
  {
   "cell_type": "code",
   "execution_count": 211,
   "metadata": {},
   "outputs": [],
   "source": [
    "cf_matrix = confusion_matrix(y_all_test, y_all_pred, normalize='true')"
   ]
  },
  {
   "cell_type": "code",
   "execution_count": 213,
   "metadata": {},
   "outputs": [
    {
     "name": "stdout",
     "output_type": "stream",
     "text": [
      "Test accuracy is 95.14285714285714%\n"
     ]
    }
   ],
   "source": [
    "test_accuracy = (y_all_pred == y_all_test).sum() / len(y_all_test)\n",
    "print(f\"Test accuracy is {test_accuracy * 100}%\")"
   ]
  },
  {
   "cell_type": "code",
   "execution_count": 214,
   "metadata": {},
   "outputs": [
    {
     "data": {
      "image/png": "[encoded data removed]",
      "text/plain": [
       "<Figure size 432x288 with 2 Axes>"
      ]
     },
     "metadata": {
      "needs_background": "light"
     },
     "output_type": "display_data"
    }
   ],
   "source": [
    "ax = plt.axes()\n",
    "sns.heatmap(cf_matrix, annot=True, cmap='Blues', ax=ax)\n",
    "ax.set_title('Confusion Matrix')\n",
    "ax.set_xlabel('Predicted labels')\n",
    "ax.set_ylabel('True labels');"
   ]
  },
  {
   "cell_type": "markdown",
   "metadata": {},
   "source": [
    "### Support Vector Machine"
   ]
  },
  {
   "cell_type": "code",
   "execution_count": 215,
   "metadata": {},
   "outputs": [],
   "source": [
    "y_all_pred = svc.predict(X_all_test)"
   ]
  },
  {
   "cell_type": "code",
   "execution_count": 216,
   "metadata": {},
   "outputs": [],
   "source": [
    "cf_matrix = confusion_matrix(y_all_test, y_all_pred, normalize='true')"
   ]
  },
  {
   "cell_type": "code",
   "execution_count": 217,
   "metadata": {},
   "outputs": [
    {
     "name": "stdout",
     "output_type": "stream",
     "text": [
      "Test accuracy is 96.57142857142857%\n"
     ]
    }
   ],
   "source": [
    "test_accuracy = (y_all_pred == y_all_test).sum() / len(y_all_test)\n",
    "print(f\"Test accuracy is {test_accuracy * 100}%\")"
   ]
  },
  {
   "cell_type": "code",
   "execution_count": 218,
   "metadata": {},
   "outputs": [
    {
     "data": {
      "image/png": "[encoded data removed]",
      "text/plain": [
       "<Figure size 432x288 with 2 Axes>"
      ]
     },
     "metadata": {
      "needs_background": "light"
     },
     "output_type": "display_data"
    }
   ],
   "source": [
    "ax = plt.axes()\n",
    "sns.heatmap(cf_matrix, annot=True, cmap='Blues', ax=ax)\n",
    "ax.set_title('Confusion Matrix')\n",
    "ax.set_xlabel('Predicted labels')\n",
    "ax.set_ylabel('True labels');"
   ]
  },
  {
   "cell_type": "markdown",
   "metadata": {},
   "source": [
    "# Deep Learning Classifier"
   ]
  },
  {
   "cell_type": "code",
   "execution_count": 6,
   "metadata": {},
   "outputs": [],
   "source": [
    "import keras\n",
    "from keras.layers import Input, Dense\n",
    "from keras.models import Model"
   ]
  },
  {
   "cell_type": "code",
   "execution_count": 25,
   "metadata": {},
   "outputs": [],
   "source": [
    "input_layer = Input(shape=(19561,))\n",
    "# dense = Dense(8192, activation='relu')(input_layer)\n",
    "# dense = Dense(2048, activation='relu')(dense)\n",
    "# dense = Dense(512, activation='relu')(dense)\n",
    "dense = Dense(128, activation='relu')(input_layer)\n",
    "dense = Dense(32, activation='relu')(dense)\n",
    "dense = Dense(8, activation='relu')(dense)\n",
    "output = Dense(1, activation='sigmoid')(dense)\n",
    "\n",
    "model = Model(input_layer, output)\n",
    "random_weights = model.get_weights()"
   ]
  },
  {
   "cell_type": "code",
   "execution_count": 26,
   "metadata": {},
   "outputs": [],
   "source": [
    "model.compile(loss='binary_crossentropy', optimizer='adam', metrics=['accuracy', 'AUC'])"
   ]
  },
  {
   "cell_type": "code",
   "execution_count": 27,
   "metadata": {
    "scrolled": true
   },
   "outputs": [
    {
     "name": "stdout",
     "output_type": "stream",
     "text": [
      "Epoch 1/20\n",
      "14/14 [==============================] - 1s 10ms/step - loss: 0.5456 - accuracy: 0.8175 - auc: 0.8812\n",
      "Epoch 2/20\n",
      "14/14 [==============================] - 0s 10ms/step - loss: 0.0640 - accuracy: 0.9820 - auc: 0.9960\n",
      "Epoch 3/20\n",
      "14/14 [==============================] - 0s 10ms/step - loss: 0.0718 - accuracy: 0.9793 - auc: 0.9956\n",
      "Epoch 4/20\n",
      "14/14 [==============================] - 0s 10ms/step - loss: 0.0225 - accuracy: 0.9908 - auc: 0.9997\n",
      "Epoch 5/20\n",
      "14/14 [==============================] - 0s 12ms/step - loss: 0.0172 - accuracy: 0.9934 - auc: 0.9998\n",
      "Epoch 6/20\n",
      "14/14 [==============================] - 0s 11ms/step - loss: 0.0105 - accuracy: 0.9962 - auc: 0.9999\n",
      "Epoch 7/20\n",
      "14/14 [==============================] - 0s 10ms/step - loss: 0.0196 - accuracy: 0.9961 - auc: 0.9983\n",
      "Epoch 8/20\n",
      "14/14 [==============================] - 0s 10ms/step - loss: 0.0083 - accuracy: 0.9972 - auc: 1.0000\n",
      "Epoch 9/20\n",
      "14/14 [==============================] - 0s 10ms/step - loss: 0.0129 - accuracy: 0.9938 - auc: 0.9999\n",
      "Epoch 10/20\n",
      "14/14 [==============================] - 0s 12ms/step - loss: 0.0055 - accuracy: 0.9980 - auc: 1.0000\n",
      "Epoch 11/20\n",
      "14/14 [==============================] - 0s 12ms/step - loss: 0.0026 - accuracy: 0.9993 - auc: 1.0000\n",
      "Epoch 12/20\n",
      "14/14 [==============================] - 0s 10ms/step - loss: 0.0016 - accuracy: 0.9997 - auc: 1.0000\n",
      "Epoch 13/20\n",
      "14/14 [==============================] - 0s 10ms/step - loss: 0.0024 - accuracy: 0.9989 - auc: 1.0000\n",
      "Epoch 14/20\n",
      "14/14 [==============================] - 0s 11ms/step - loss: 0.0045 - accuracy: 0.9970 - auc: 1.0000\n",
      "Epoch 15/20\n",
      "14/14 [==============================] - 0s 11ms/step - loss: 5.9371e-04 - accuracy: 0.9998 - auc: 1.0000\n",
      "Epoch 16/20\n",
      "14/14 [==============================] - 0s 11ms/step - loss: 0.0013 - accuracy: 0.9992 - auc: 1.0000\n",
      "Epoch 17/20\n",
      "14/14 [==============================] - 0s 11ms/step - loss: 7.1041e-04 - accuracy: 0.9998 - auc: 1.0000\n",
      "Epoch 18/20\n",
      "14/14 [==============================] - 0s 12ms/step - loss: 0.0027 - accuracy: 0.9978 - auc: 1.0000\n",
      "Epoch 19/20\n",
      "14/14 [==============================] - 0s 10ms/step - loss: 0.0011 - accuracy: 0.9988 - auc: 1.0000\n",
      "Epoch 20/20\n",
      "14/14 [==============================] - 0s 10ms/step - loss: 7.0505e-04 - accuracy: 0.9994 - auc: 1.0000\n",
      "3/3 - 1s - loss: 0.0109 - accuracy: 1.0000 - auc: 1.0000\n",
      "Epoch 1/20\n",
      "13/13 [==============================] - 0s 11ms/step - loss: 0.4873 - accuracy: 0.8825 - auc: 0.9538\n",
      "Epoch 2/20\n",
      "13/13 [==============================] - 0s 11ms/step - loss: 0.2530 - accuracy: 0.9556 - auc: 0.9854\n",
      "Epoch 3/20\n",
      "13/13 [==============================] - 0s 11ms/step - loss: 0.1021 - accuracy: 0.9738 - auc: 0.9945\n",
      "Epoch 4/20\n",
      "13/13 [==============================] - 0s 11ms/step - loss: 0.0343 - accuracy: 0.9897 - auc: 0.9985\n",
      "Epoch 5/20\n",
      "13/13 [==============================] - 0s 11ms/step - loss: 0.0257 - accuracy: 0.9921 - auc: 0.9996\n",
      "Epoch 6/20\n",
      "13/13 [==============================] - 0s 11ms/step - loss: 0.0404 - accuracy: 0.9929 - auc: 0.9989\n",
      "Epoch 7/20\n",
      "13/13 [==============================] - 0s 11ms/step - loss: 0.0172 - accuracy: 0.9944 - auc: 0.9998\n",
      "Epoch 8/20\n",
      "13/13 [==============================] - 0s 11ms/step - loss: 0.0130 - accuracy: 0.9952 - auc: 0.9999\n",
      "Epoch 9/20\n",
      "13/13 [==============================] - 0s 11ms/step - loss: 0.0081 - accuracy: 0.9976 - auc: 1.0000\n",
      "Epoch 10/20\n",
      "13/13 [==============================] - 0s 11ms/step - loss: 0.0062 - accuracy: 0.9984 - auc: 1.0000\n",
      "Epoch 11/20\n",
      "13/13 [==============================] - 0s 11ms/step - loss: 0.0054 - accuracy: 0.9984 - auc: 1.0000\n",
      "Epoch 12/20\n",
      "13/13 [==============================] - 0s 11ms/step - loss: 0.0032 - accuracy: 1.0000 - auc: 1.0000\n",
      "Epoch 13/20\n",
      "13/13 [==============================] - 0s 12ms/step - loss: 0.0026 - accuracy: 1.0000 - auc: 1.0000\n",
      "Epoch 14/20\n",
      "13/13 [==============================] - 0s 11ms/step - loss: 0.0023 - accuracy: 0.9992 - auc: 1.0000\n",
      "Epoch 15/20\n",
      "13/13 [==============================] - 0s 11ms/step - loss: 0.0015 - accuracy: 1.0000 - auc: 1.0000\n",
      "Epoch 16/20\n",
      "13/13 [==============================] - 0s 11ms/step - loss: 0.0019 - accuracy: 0.9992 - auc: 1.0000\n",
      "Epoch 17/20\n",
      "13/13 [==============================] - 0s 11ms/step - loss: 0.0028 - accuracy: 0.9992 - auc: 1.0000\n",
      "Epoch 18/20\n",
      "13/13 [==============================] - 0s 11ms/step - loss: 0.0014 - accuracy: 1.0000 - auc: 1.0000\n",
      "Epoch 19/20\n",
      "13/13 [==============================] - 0s 11ms/step - loss: 0.0010 - accuracy: 1.0000 - auc: 1.0000\n",
      "Epoch 20/20\n",
      "13/13 [==============================] - 0s 11ms/step - loss: 9.6875e-04 - accuracy: 1.0000 - auc: 1.0000\n",
      "5/5 - 0s - loss: 0.2955 - accuracy: 0.9786 - auc: 0.9855\n",
      "Epoch 1/20\n",
      "12/12 [==============================] - 0s 16ms/step - loss: 0.4309 - accuracy: 0.8806 - auc: 0.9514\n",
      "Epoch 2/20\n",
      "12/12 [==============================] - 0s 13ms/step - loss: 0.2105 - accuracy: 0.9613 - auc: 0.9817\n",
      "Epoch 3/20\n",
      "12/12 [==============================] - 0s 13ms/step - loss: 0.1064 - accuracy: 0.9781 - auc: 0.9948\n",
      "Epoch 4/20\n",
      "12/12 [==============================] - 0s 13ms/step - loss: 0.0344 - accuracy: 0.9882 - auc: 0.9992\n",
      "Epoch 5/20\n",
      "12/12 [==============================] - 0s 13ms/step - loss: 0.0354 - accuracy: 0.9907 - auc: 0.9987\n",
      "Epoch 6/20\n",
      "12/12 [==============================] - 0s 13ms/step - loss: 0.0161 - accuracy: 0.9950 - auc: 0.9998\n",
      "Epoch 7/20\n",
      "12/12 [==============================] - 0s 12ms/step - loss: 0.0114 - accuracy: 0.9958 - auc: 0.9999\n",
      "Epoch 8/20\n",
      "12/12 [==============================] - 0s 13ms/step - loss: 0.0135 - accuracy: 0.9941 - auc: 0.9998\n",
      "Epoch 9/20\n",
      "12/12 [==============================] - 0s 12ms/step - loss: 0.0080 - accuracy: 0.9966 - auc: 1.0000\n",
      "Epoch 10/20\n",
      "12/12 [==============================] - 0s 12ms/step - loss: 0.0059 - accuracy: 0.9975 - auc: 1.0000\n",
      "Epoch 11/20\n",
      "12/12 [==============================] - 0s 12ms/step - loss: 0.0053 - accuracy: 0.9975 - auc: 1.0000\n",
      "Epoch 12/20\n",
      "12/12 [==============================] - 0s 11ms/step - loss: 0.0050 - accuracy: 0.9975 - auc: 1.0000\n",
      "Epoch 13/20\n",
      "12/12 [==============================] - 0s 12ms/step - loss: 0.0046 - accuracy: 0.9975 - auc: 1.0000\n",
      "Epoch 14/20\n",
      "12/12 [==============================] - 0s 12ms/step - loss: 0.0044 - accuracy: 0.9975 - auc: 1.0000\n",
      "Epoch 15/20\n",
      "12/12 [==============================] - 0s 12ms/step - loss: 0.0041 - accuracy: 0.9975 - auc: 1.0000\n",
      "Epoch 16/20\n",
      "12/12 [==============================] - 0s 12ms/step - loss: 0.0038 - accuracy: 0.9975 - auc: 1.0000\n",
      "Epoch 17/20\n",
      "12/12 [==============================] - 0s 12ms/step - loss: 0.0036 - accuracy: 0.9983 - auc: 1.0000\n",
      "Epoch 18/20\n",
      "12/12 [==============================] - 0s 12ms/step - loss: 0.0034 - accuracy: 0.9983 - auc: 1.0000\n",
      "Epoch 19/20\n",
      "12/12 [==============================] - 0s 12ms/step - loss: 0.0042 - accuracy: 0.9983 - auc: 1.0000\n",
      "Epoch 20/20\n",
      "12/12 [==============================] - 0s 12ms/step - loss: 0.0016 - accuracy: 0.9992 - auc: 1.0000\n",
      "7/7 - 0s - loss: 0.2583 - accuracy: 0.9810 - auc: 0.9850\n",
      "Epoch 1/20\n",
      "12/12 [==============================] - 0s 12ms/step - loss: 0.4866 - accuracy: 0.8813 - auc: 0.9483\n",
      "Epoch 2/20\n",
      "12/12 [==============================] - 0s 12ms/step - loss: 0.1923 - accuracy: 0.9607 - auc: 0.9832\n",
      "Epoch 3/20\n",
      "12/12 [==============================] - 0s 13ms/step - loss: 0.1300 - accuracy: 0.9741 - auc: 0.9906\n",
      "Epoch 4/20\n",
      "12/12 [==============================] - 0s 12ms/step - loss: 0.0661 - accuracy: 0.9804 - auc: 0.9978\n",
      "Epoch 5/20\n",
      "12/12 [==============================] - 0s 13ms/step - loss: 0.0588 - accuracy: 0.9929 - auc: 0.9971\n",
      "Epoch 6/20\n",
      "12/12 [==============================] - 0s 13ms/step - loss: 0.0249 - accuracy: 0.9964 - auc: 0.9991\n",
      "Epoch 7/20\n",
      "12/12 [==============================] - 0s 12ms/step - loss: 0.0213 - accuracy: 0.9955 - auc: 0.9981\n",
      "Epoch 8/20\n",
      "12/12 [==============================] - 0s 12ms/step - loss: 0.0091 - accuracy: 0.9964 - auc: 1.0000\n",
      "Epoch 9/20\n",
      "12/12 [==============================] - 0s 13ms/step - loss: 0.0039 - accuracy: 0.9982 - auc: 1.0000\n",
      "Epoch 10/20\n",
      "12/12 [==============================] - 0s 13ms/step - loss: 0.0042 - accuracy: 0.9982 - auc: 1.0000\n",
      "Epoch 11/20\n",
      "12/12 [==============================] - 0s 13ms/step - loss: 0.0036 - accuracy: 0.9982 - auc: 1.0000\n",
      "Epoch 12/20\n",
      "12/12 [==============================] - 0s 12ms/step - loss: 0.0025 - accuracy: 0.9991 - auc: 1.0000\n",
      "Epoch 13/20\n",
      "12/12 [==============================] - 0s 13ms/step - loss: 0.0024 - accuracy: 0.9991 - auc: 1.0000\n",
      "Epoch 14/20\n",
      "12/12 [==============================] - 0s 13ms/step - loss: 0.0022 - accuracy: 0.9991 - auc: 1.0000\n",
      "Epoch 15/20\n",
      "12/12 [==============================] - 0s 12ms/step - loss: 0.0018 - accuracy: 0.9991 - auc: 1.0000\n",
      "Epoch 16/20\n",
      "12/12 [==============================] - 0s 13ms/step - loss: 0.0011 - accuracy: 1.0000 - auc: 1.0000\n",
      "Epoch 17/20\n",
      "12/12 [==============================] - 0s 12ms/step - loss: 9.7913e-04 - accuracy: 1.0000 - auc: 1.0000\n",
      "Epoch 18/20\n",
      "12/12 [==============================] - 0s 13ms/step - loss: 7.0308e-04 - accuracy: 1.0000 - auc: 1.0000\n",
      "Epoch 19/20\n",
      "12/12 [==============================] - 0s 12ms/step - loss: 6.4868e-04 - accuracy: 1.0000 - auc: 1.0000\n",
      "Epoch 20/20\n",
      "12/12 [==============================] - 0s 12ms/step - loss: 7.3543e-04 - accuracy: 1.0000 - auc: 1.0000\n",
      "9/9 - 0s - loss: 0.5606 - accuracy: 0.9679 - auc: 0.9736\n",
      "Epoch 1/20\n",
      "11/11 [==============================] - 0s 14ms/step - loss: 0.4084 - accuracy: 0.8800 - auc: 0.9544\n",
      "Epoch 2/20\n",
      "11/11 [==============================] - 0s 11ms/step - loss: 0.2249 - accuracy: 0.9752 - auc: 0.9906\n",
      "Epoch 3/20\n",
      "11/11 [==============================] - 0s 12ms/step - loss: 0.1328 - accuracy: 0.9648 - auc: 0.9917\n",
      "Epoch 4/20\n",
      "11/11 [==============================] - 0s 12ms/step - loss: 0.0541 - accuracy: 0.9876 - auc: 0.9965\n",
      "Epoch 5/20\n",
      "11/11 [==============================] - 0s 12ms/step - loss: 0.0260 - accuracy: 0.9924 - auc: 0.9989\n",
      "Epoch 6/20\n",
      "11/11 [==============================] - 0s 12ms/step - loss: 0.0055 - accuracy: 0.9990 - auc: 1.0000\n",
      "Epoch 7/20\n",
      "11/11 [==============================] - 0s 12ms/step - loss: 0.0165 - accuracy: 0.9952 - auc: 0.9998\n",
      "Epoch 8/20\n",
      "11/11 [==============================] - 0s 12ms/step - loss: 0.0033 - accuracy: 0.9990 - auc: 1.0000\n",
      "Epoch 9/20\n",
      "11/11 [==============================] - 0s 12ms/step - loss: 0.0027 - accuracy: 0.9990 - auc: 1.0000\n",
      "Epoch 10/20\n",
      "11/11 [==============================] - 0s 12ms/step - loss: 0.0021 - accuracy: 0.9990 - auc: 1.0000\n",
      "Epoch 11/20\n",
      "11/11 [==============================] - 0s 12ms/step - loss: 0.0019 - accuracy: 0.9990 - auc: 1.0000\n",
      "Epoch 12/20\n",
      "11/11 [==============================] - 0s 12ms/step - loss: 0.0014 - accuracy: 0.9990 - auc: 1.0000\n",
      "Epoch 13/20\n",
      "11/11 [==============================] - 0s 12ms/step - loss: 0.0010 - accuracy: 0.9990 - auc: 1.0000\n",
      "Epoch 14/20\n",
      "11/11 [==============================] - 0s 12ms/step - loss: 0.0011 - accuracy: 0.9990 - auc: 1.0000\n",
      "Epoch 15/20\n",
      "11/11 [==============================] - 0s 12ms/step - loss: 0.0013 - accuracy: 0.9990 - auc: 1.0000\n",
      "Epoch 16/20\n",
      "11/11 [==============================] - 0s 12ms/step - loss: 0.0011 - accuracy: 0.9990 - auc: 1.0000\n",
      "Epoch 17/20\n",
      "11/11 [==============================] - 0s 13ms/step - loss: 8.7127e-04 - accuracy: 0.9990 - auc: 1.0000\n",
      "Epoch 18/20\n",
      "11/11 [==============================] - 0s 12ms/step - loss: 8.4472e-04 - accuracy: 0.9990 - auc: 1.0000\n",
      "Epoch 19/20\n",
      "11/11 [==============================] - 0s 12ms/step - loss: 9.9542e-04 - accuracy: 0.9990 - auc: 1.0000\n",
      "Epoch 20/20\n",
      "11/11 [==============================] - 0s 12ms/step - loss: 0.0011 - accuracy: 0.9990 - auc: 1.0000\n",
      "11/11 - 0s - loss: 0.5928 - accuracy: 0.9714 - auc: 0.9782\n",
      "Epoch 1/20\n",
      "10/10 [==============================] - 0s 14ms/step - loss: 0.5253 - accuracy: 0.8827 - auc: 0.9514\n",
      "Epoch 2/20\n",
      "10/10 [==============================] - 0s 12ms/step - loss: 0.1160 - accuracy: 0.9663 - auc: 0.9914\n",
      "Epoch 3/20\n",
      "10/10 [==============================] - 0s 12ms/step - loss: 0.0604 - accuracy: 0.9847 - auc: 0.9953\n",
      "Epoch 4/20\n",
      "10/10 [==============================] - 0s 12ms/step - loss: 0.0396 - accuracy: 0.9908 - auc: 0.9976\n",
      "Epoch 5/20\n",
      "10/10 [==============================] - 0s 12ms/step - loss: 0.0253 - accuracy: 0.9949 - auc: 0.9968\n",
      "Epoch 6/20\n",
      "10/10 [==============================] - 0s 12ms/step - loss: 0.0055 - accuracy: 0.9990 - auc: 1.0000\n",
      "Epoch 7/20\n",
      "10/10 [==============================] - 0s 13ms/step - loss: 0.0197 - accuracy: 0.9980 - auc: 0.9989\n",
      "Epoch 8/20\n",
      "10/10 [==============================] - 0s 13ms/step - loss: 0.0028 - accuracy: 0.9990 - auc: 1.0000\n",
      "Epoch 9/20\n",
      "10/10 [==============================] - 0s 13ms/step - loss: 0.0065 - accuracy: 0.9980 - auc: 1.0000\n",
      "Epoch 10/20\n",
      "10/10 [==============================] - 0s 13ms/step - loss: 0.0020 - accuracy: 1.0000 - auc: 1.0000\n",
      "Epoch 11/20\n",
      "10/10 [==============================] - 0s 12ms/step - loss: 0.0033 - accuracy: 0.9990 - auc: 1.0000\n",
      "Epoch 12/20\n",
      "10/10 [==============================] - 0s 13ms/step - loss: 0.0011 - accuracy: 1.0000 - auc: 1.0000\n",
      "Epoch 13/20\n",
      "10/10 [==============================] - 0s 12ms/step - loss: 9.4332e-04 - accuracy: 1.0000 - auc: 1.0000\n",
      "Epoch 14/20\n",
      "10/10 [==============================] - 0s 12ms/step - loss: 5.4768e-04 - accuracy: 1.0000 - auc: 1.0000\n",
      "Epoch 15/20\n",
      "10/10 [==============================] - 0s 13ms/step - loss: 0.0012 - accuracy: 0.9990 - auc: 1.0000\n",
      "Epoch 16/20\n",
      "10/10 [==============================] - 0s 12ms/step - loss: 8.9546e-04 - accuracy: 1.0000 - auc: 1.0000\n",
      "Epoch 17/20\n",
      "10/10 [==============================] - 0s 12ms/step - loss: 4.6922e-04 - accuracy: 1.0000 - auc: 1.0000\n",
      "Epoch 18/20\n",
      "10/10 [==============================] - 0s 12ms/step - loss: 8.8599e-04 - accuracy: 0.9990 - auc: 1.0000\n",
      "Epoch 19/20\n",
      "10/10 [==============================] - 0s 12ms/step - loss: 4.0052e-04 - accuracy: 1.0000 - auc: 1.0000\n",
      "Epoch 20/20\n",
      "10/10 [==============================] - 0s 13ms/step - loss: 3.5861e-04 - accuracy: 1.0000 - auc: 1.0000\n",
      "14/14 - 0s - loss: 3.6078 - accuracy: 0.9524 - auc: 0.9676\n",
      "Epoch 1/20\n",
      "10/10 [==============================] - 0s 13ms/step - loss: 0.4269 - accuracy: 0.8790 - auc: 0.9582\n",
      "Epoch 2/20\n",
      "10/10 [==============================] - 0s 12ms/step - loss: 0.1104 - accuracy: 0.9725 - auc: 0.9916\n",
      "Epoch 3/20\n",
      "10/10 [==============================] - 0s 12ms/step - loss: 0.0333 - accuracy: 0.9901 - auc: 0.9983\n",
      "Epoch 4/20\n",
      "10/10 [==============================] - 0s 11ms/step - loss: 0.2737 - accuracy: 0.9791 - auc: 0.9885\n",
      "Epoch 5/20\n",
      "10/10 [==============================] - 0s 13ms/step - loss: 0.0642 - accuracy: 0.9912 - auc: 0.9942\n",
      "Epoch 6/20\n",
      "10/10 [==============================] - 0s 12ms/step - loss: 0.0331 - accuracy: 0.9945 - auc: 0.9986\n",
      "Epoch 7/20\n",
      "10/10 [==============================] - 0s 12ms/step - loss: 0.0214 - accuracy: 0.9912 - auc: 0.9997\n",
      "Epoch 8/20\n",
      "10/10 [==============================] - 0s 12ms/step - loss: 0.0109 - accuracy: 0.9956 - auc: 0.9999\n",
      "Epoch 9/20\n",
      "10/10 [==============================] - 0s 12ms/step - loss: 0.0091 - accuracy: 0.9967 - auc: 0.9999\n",
      "Epoch 10/20\n",
      "10/10 [==============================] - 0s 12ms/step - loss: 0.0077 - accuracy: 0.9967 - auc: 1.0000\n",
      "Epoch 11/20\n",
      "10/10 [==============================] - 0s 12ms/step - loss: 0.0071 - accuracy: 0.9967 - auc: 1.0000\n",
      "Epoch 12/20\n",
      "10/10 [==============================] - 0s 12ms/step - loss: 0.0072 - accuracy: 0.9967 - auc: 1.0000\n",
      "Epoch 13/20\n",
      "10/10 [==============================] - 0s 12ms/step - loss: 0.0066 - accuracy: 0.9967 - auc: 1.0000\n",
      "Epoch 14/20\n",
      "10/10 [==============================] - 0s 12ms/step - loss: 0.0062 - accuracy: 0.9967 - auc: 1.0000\n",
      "Epoch 15/20\n",
      "10/10 [==============================] - 0s 12ms/step - loss: 0.0058 - accuracy: 0.9967 - auc: 1.0000\n",
      "Epoch 16/20\n",
      "10/10 [==============================] - 0s 12ms/step - loss: 0.0054 - accuracy: 0.9967 - auc: 1.0000\n",
      "Epoch 17/20\n",
      "10/10 [==============================] - 0s 12ms/step - loss: 0.0052 - accuracy: 0.9978 - auc: 1.0000\n",
      "Epoch 18/20\n",
      "10/10 [==============================] - 0s 12ms/step - loss: 0.0047 - accuracy: 0.9978 - auc: 1.0000\n",
      "Epoch 19/20\n",
      "10/10 [==============================] - 0s 12ms/step - loss: 0.0042 - accuracy: 0.9978 - auc: 1.0000\n",
      "Epoch 20/20\n",
      "10/10 [==============================] - 0s 14ms/step - loss: 0.0042 - accuracy: 0.9978 - auc: 1.0000\n",
      "16/16 - 0s - loss: 1.7997 - accuracy: 0.9511 - auc: 0.9694\n"
     ]
    },
    {
     "name": "stdout",
     "output_type": "stream",
     "text": [
      "Epoch 1/20\n",
      "9/9 [==============================] - 0s 13ms/step - loss: 0.5152 - accuracy: 0.8750 - auc: 0.9474\n",
      "Epoch 2/20\n",
      "9/9 [==============================] - 0s 12ms/step - loss: 0.1908 - accuracy: 0.9607 - auc: 0.9891\n",
      "Epoch 3/20\n",
      "9/9 [==============================] - 0s 12ms/step - loss: 0.0899 - accuracy: 0.9762 - auc: 0.9935\n",
      "Epoch 4/20\n",
      "9/9 [==============================] - 0s 12ms/step - loss: 0.0545 - accuracy: 0.9893 - auc: 0.9960\n",
      "Epoch 5/20\n",
      "9/9 [==============================] - 0s 13ms/step - loss: 0.0286 - accuracy: 0.9952 - auc: 0.9976\n",
      "Epoch 6/20\n",
      "9/9 [==============================] - 0s 12ms/step - loss: 0.0100 - accuracy: 0.9976 - auc: 0.9999\n",
      "Epoch 7/20\n",
      "9/9 [==============================] - 0s 12ms/step - loss: 0.0223 - accuracy: 0.9952 - auc: 0.9988\n",
      "Epoch 8/20\n",
      "9/9 [==============================] - 0s 12ms/step - loss: 0.0029 - accuracy: 0.9988 - auc: 1.0000\n",
      "Epoch 9/20\n",
      "9/9 [==============================] - 0s 12ms/step - loss: 0.0242 - accuracy: 0.9976 - auc: 0.9988\n",
      "Epoch 10/20\n",
      "9/9 [==============================] - 0s 12ms/step - loss: 0.0050 - accuracy: 0.9976 - auc: 1.0000\n",
      "Epoch 11/20\n",
      "9/9 [==============================] - 0s 12ms/step - loss: 0.0079 - accuracy: 0.9976 - auc: 1.0000\n",
      "Epoch 12/20\n",
      "9/9 [==============================] - 0s 14ms/step - loss: 0.0073 - accuracy: 0.9976 - auc: 1.0000\n",
      "Epoch 13/20\n",
      "9/9 [==============================] - 0s 12ms/step - loss: 0.0048 - accuracy: 0.9976 - auc: 1.0000\n",
      "Epoch 14/20\n",
      "9/9 [==============================] - 0s 12ms/step - loss: 0.0023 - accuracy: 0.9988 - auc: 1.0000\n",
      "Epoch 15/20\n",
      "9/9 [==============================] - 0s 12ms/step - loss: 0.0020 - accuracy: 0.9988 - auc: 1.0000\n",
      "Epoch 16/20\n",
      "9/9 [==============================] - 0s 12ms/step - loss: 0.0015 - accuracy: 1.0000 - auc: 1.0000\n",
      "Epoch 17/20\n",
      "9/9 [==============================] - 0s 12ms/step - loss: 0.0014 - accuracy: 1.0000 - auc: 1.0000\n",
      "Epoch 18/20\n",
      "9/9 [==============================] - 0s 12ms/step - loss: 9.3213e-04 - accuracy: 1.0000 - auc: 1.0000\n",
      "Epoch 19/20\n",
      "9/9 [==============================] - 0s 12ms/step - loss: 8.2632e-04 - accuracy: 1.0000 - auc: 1.0000\n",
      "Epoch 20/20\n",
      "9/9 [==============================] - 0s 12ms/step - loss: 5.4350e-04 - accuracy: 1.0000 - auc: 1.0000\n",
      "18/18 - 0s - loss: 2.9371 - accuracy: 0.9571 - auc: 0.9736\n",
      "Epoch 1/20\n",
      "8/8 [==============================] - 0s 15ms/step - loss: 0.4923 - accuracy: 0.8714 - auc: 0.9490\n",
      "Epoch 2/20\n",
      "8/8 [==============================] - 0s 13ms/step - loss: 0.1792 - accuracy: 0.9662 - auc: 0.9861\n",
      "Epoch 3/20\n",
      "8/8 [==============================] - 0s 13ms/step - loss: 0.1400 - accuracy: 0.9753 - auc: 0.9883\n",
      "Epoch 4/20\n",
      "8/8 [==============================] - 0s 13ms/step - loss: 0.0810 - accuracy: 0.9909 - auc: 0.9970\n",
      "Epoch 5/20\n",
      "8/8 [==============================] - 0s 12ms/step - loss: 0.0328 - accuracy: 0.9896 - auc: 0.9997\n",
      "Epoch 6/20\n",
      "8/8 [==============================] - 0s 13ms/step - loss: 0.0193 - accuracy: 0.9922 - auc: 0.9998\n",
      "Epoch 7/20\n",
      "8/8 [==============================] - 0s 13ms/step - loss: 0.0132 - accuracy: 0.9948 - auc: 0.9999\n",
      "Epoch 8/20\n",
      "8/8 [==============================] - 0s 12ms/step - loss: 0.0083 - accuracy: 0.9974 - auc: 0.9999\n",
      "Epoch 9/20\n",
      "8/8 [==============================] - 0s 13ms/step - loss: 0.0059 - accuracy: 0.9987 - auc: 1.0000\n",
      "Epoch 10/20\n",
      "8/8 [==============================] - 0s 13ms/step - loss: 0.0058 - accuracy: 0.9974 - auc: 1.0000\n",
      "Epoch 11/20\n",
      "8/8 [==============================] - 0s 13ms/step - loss: 0.0044 - accuracy: 0.9987 - auc: 1.0000\n",
      "Epoch 12/20\n",
      "8/8 [==============================] - 0s 13ms/step - loss: 0.0050 - accuracy: 0.9974 - auc: 1.0000\n",
      "Epoch 13/20\n",
      "8/8 [==============================] - 0s 13ms/step - loss: 0.0037 - accuracy: 0.9987 - auc: 1.0000\n",
      "Epoch 14/20\n",
      "8/8 [==============================] - 0s 13ms/step - loss: 0.0040 - accuracy: 0.9987 - auc: 1.0000\n",
      "Epoch 15/20\n",
      "8/8 [==============================] - 0s 12ms/step - loss: 0.0036 - accuracy: 0.9987 - auc: 1.0000\n",
      "Epoch 16/20\n",
      "8/8 [==============================] - 0s 13ms/step - loss: 0.0033 - accuracy: 0.9987 - auc: 1.0000\n",
      "Epoch 17/20\n",
      "8/8 [==============================] - 0s 12ms/step - loss: 0.0030 - accuracy: 0.9987 - auc: 1.0000\n",
      "Epoch 18/20\n",
      "8/8 [==============================] - 0s 12ms/step - loss: 0.0029 - accuracy: 0.9987 - auc: 1.0000\n",
      "Epoch 19/20\n",
      "8/8 [==============================] - 0s 12ms/step - loss: 0.0027 - accuracy: 0.9987 - auc: 1.0000\n",
      "Epoch 20/20\n",
      "8/8 [==============================] - 0s 12ms/step - loss: 0.0027 - accuracy: 0.9987 - auc: 1.0000\n",
      "20/20 - 0s - loss: 1.0294 - accuracy: 0.9603 - auc: 0.9715\n",
      "Epoch 1/20\n",
      "7/7 [==============================] - 1s 17ms/step - loss: 0.4965 - accuracy: 0.8357 - auc: 0.9303\n",
      "Epoch 2/20\n",
      "7/7 [==============================] - 0s 14ms/step - loss: 0.2064 - accuracy: 0.9643 - auc: 0.9845\n",
      "Epoch 3/20\n",
      "7/7 [==============================] - 0s 13ms/step - loss: 0.0341 - accuracy: 0.9914 - auc: 0.9981\n",
      "Epoch 4/20\n",
      "7/7 [==============================] - 0s 13ms/step - loss: 0.0611 - accuracy: 0.9929 - auc: 0.9982\n",
      "Epoch 5/20\n",
      "7/7 [==============================] - 0s 14ms/step - loss: 0.0142 - accuracy: 0.9971 - auc: 0.9985\n",
      "Epoch 6/20\n",
      "7/7 [==============================] - 0s 14ms/step - loss: 0.0277 - accuracy: 0.9943 - auc: 0.9984\n",
      "Epoch 7/20\n",
      "7/7 [==============================] - 0s 15ms/step - loss: 0.0049 - accuracy: 0.9986 - auc: 1.0000\n",
      "Epoch 8/20\n",
      "7/7 [==============================] - 0s 14ms/step - loss: 0.0039 - accuracy: 0.9986 - auc: 1.0000\n",
      "Epoch 9/20\n",
      "7/7 [==============================] - 0s 14ms/step - loss: 0.0034 - accuracy: 0.9986 - auc: 1.0000\n",
      "Epoch 10/20\n",
      "7/7 [==============================] - 0s 17ms/step - loss: 0.0031 - accuracy: 0.9986 - auc: 1.0000\n",
      "Epoch 11/20\n",
      "7/7 [==============================] - 0s 13ms/step - loss: 0.0030 - accuracy: 0.9986 - auc: 1.0000\n",
      "Epoch 12/20\n",
      "7/7 [==============================] - 0s 13ms/step - loss: 0.0029 - accuracy: 0.9986 - auc: 1.0000\n",
      "Epoch 13/20\n",
      "7/7 [==============================] - 0s 14ms/step - loss: 0.0028 - accuracy: 0.9986 - auc: 1.0000\n",
      "Epoch 14/20\n",
      "7/7 [==============================] - 0s 16ms/step - loss: 0.0027 - accuracy: 0.9986 - auc: 1.0000\n",
      "Epoch 15/20\n",
      "7/7 [==============================] - 0s 15ms/step - loss: 0.0025 - accuracy: 0.9986 - auc: 1.0000\n",
      "Epoch 16/20\n",
      "7/7 [==============================] - 0s 17ms/step - loss: 0.0024 - accuracy: 0.9986 - auc: 1.0000\n",
      "Epoch 17/20\n",
      "7/7 [==============================] - 0s 18ms/step - loss: 0.0023 - accuracy: 0.9986 - auc: 1.0000\n",
      "Epoch 18/20\n",
      "7/7 [==============================] - 0s 15ms/step - loss: 0.0022 - accuracy: 0.9986 - auc: 1.0000\n",
      "Epoch 19/20\n",
      "7/7 [==============================] - 0s 15ms/step - loss: 0.0022 - accuracy: 0.9986 - auc: 1.0000\n",
      "Epoch 20/20\n",
      "7/7 [==============================] - 0s 15ms/step - loss: 0.0021 - accuracy: 0.9986 - auc: 1.0000\n",
      "22/22 - 0s - loss: 2.3227 - accuracy: 0.9700 - auc: 0.9772\n",
      "Epoch 1/20\n",
      "7/7 [==============================] - 0s 13ms/step - loss: 0.3595 - accuracy: 0.8537 - auc: 0.9455\n",
      "Epoch 2/20\n",
      "7/7 [==============================] - 0s 14ms/step - loss: 0.1495 - accuracy: 0.9698 - auc: 0.9910\n",
      "Epoch 3/20\n",
      "7/7 [==============================] - 0s 14ms/step - loss: 0.0974 - accuracy: 0.9873 - auc: 0.9943\n",
      "Epoch 4/20\n",
      "7/7 [==============================] - 0s 14ms/step - loss: 0.1705 - accuracy: 0.9889 - auc: 0.9960\n",
      "Epoch 5/20\n",
      "7/7 [==============================] - 0s 13ms/step - loss: 0.1328 - accuracy: 0.9936 - auc: 0.9962\n",
      "Epoch 6/20\n",
      "7/7 [==============================] - 0s 14ms/step - loss: 0.0547 - accuracy: 0.9952 - auc: 0.9981\n",
      "Epoch 7/20\n",
      "7/7 [==============================] - 0s 13ms/step - loss: 0.0179 - accuracy: 0.9952 - auc: 0.9997\n",
      "Epoch 8/20\n",
      "7/7 [==============================] - 0s 13ms/step - loss: 0.0085 - accuracy: 0.9984 - auc: 0.9999\n",
      "Epoch 9/20\n",
      "7/7 [==============================] - 0s 13ms/step - loss: 0.0074 - accuracy: 0.9984 - auc: 0.9999\n",
      "Epoch 10/20\n",
      "7/7 [==============================] - 0s 13ms/step - loss: 0.0098 - accuracy: 0.9968 - auc: 0.9999\n",
      "Epoch 11/20\n",
      "7/7 [==============================] - 0s 13ms/step - loss: 0.0063 - accuracy: 0.9984 - auc: 1.0000\n",
      "Epoch 12/20\n",
      "7/7 [==============================] - 0s 13ms/step - loss: 0.0057 - accuracy: 0.9984 - auc: 1.0000\n",
      "Epoch 13/20\n",
      "7/7 [==============================] - 0s 13ms/step - loss: 0.0048 - accuracy: 0.9984 - auc: 1.0000\n",
      "Epoch 14/20\n",
      "7/7 [==============================] - 0s 12ms/step - loss: 0.0042 - accuracy: 0.9984 - auc: 1.0000\n",
      "Epoch 15/20\n",
      "7/7 [==============================] - 0s 12ms/step - loss: 0.0037 - accuracy: 0.9984 - auc: 1.0000\n",
      "Epoch 16/20\n",
      "7/7 [==============================] - 0s 13ms/step - loss: 0.0034 - accuracy: 0.9984 - auc: 1.0000\n",
      "Epoch 17/20\n",
      "7/7 [==============================] - 0s 13ms/step - loss: 0.0029 - accuracy: 0.9984 - auc: 1.0000\n",
      "Epoch 18/20\n",
      "7/7 [==============================] - 0s 13ms/step - loss: 0.0026 - accuracy: 0.9984 - auc: 1.0000\n",
      "Epoch 19/20\n",
      "7/7 [==============================] - 0s 13ms/step - loss: 0.0025 - accuracy: 0.9984 - auc: 1.0000\n",
      "Epoch 20/20\n",
      "7/7 [==============================] - 0s 12ms/step - loss: 0.0023 - accuracy: 0.9984 - auc: 1.0000\n",
      "25/25 - 0s - loss: 2.7544 - accuracy: 0.9572 - auc: 0.9696\n",
      "Epoch 1/20\n",
      "6/6 [==============================] - 0s 16ms/step - loss: 0.6539 - accuracy: 0.8318 - auc: 0.9272\n",
      "Epoch 2/20\n",
      "6/6 [==============================] - 0s 14ms/step - loss: 0.2617 - accuracy: 0.9481 - auc: 0.9794\n",
      "Epoch 3/20\n",
      "6/6 [==============================] - 0s 14ms/step - loss: 0.0668 - accuracy: 0.9875 - auc: 0.9960\n",
      "Epoch 4/20\n",
      "6/6 [==============================] - 0s 13ms/step - loss: 0.0122 - accuracy: 0.9946 - auc: 1.0000\n",
      "Epoch 5/20\n",
      "6/6 [==============================] - 0s 13ms/step - loss: 0.0098 - accuracy: 0.9964 - auc: 1.0000\n",
      "Epoch 6/20\n",
      "6/6 [==============================] - 0s 13ms/step - loss: 0.0016 - accuracy: 1.0000 - auc: 1.0000\n",
      "Epoch 7/20\n",
      "6/6 [==============================] - 0s 13ms/step - loss: 6.7087e-04 - accuracy: 1.0000 - auc: 1.0000\n",
      "Epoch 8/20\n",
      "6/6 [==============================] - 0s 13ms/step - loss: 1.4477e-04 - accuracy: 1.0000 - auc: 1.0000\n",
      "Epoch 9/20\n",
      "6/6 [==============================] - 0s 13ms/step - loss: 7.2776e-05 - accuracy: 1.0000 - auc: 1.0000\n",
      "Epoch 10/20\n",
      "6/6 [==============================] - 0s 13ms/step - loss: 5.2222e-05 - accuracy: 1.0000 - auc: 1.0000\n",
      "Epoch 11/20\n",
      "6/6 [==============================] - 0s 13ms/step - loss: 4.2470e-05 - accuracy: 1.0000 - auc: 1.0000\n",
      "Epoch 12/20\n",
      "6/6 [==============================] - 0s 13ms/step - loss: 3.5941e-05 - accuracy: 1.0000 - auc: 1.0000\n",
      "Epoch 13/20\n",
      "6/6 [==============================] - 0s 13ms/step - loss: 3.1559e-05 - accuracy: 1.0000 - auc: 1.0000\n",
      "Epoch 14/20\n",
      "6/6 [==============================] - 0s 13ms/step - loss: 2.9349e-05 - accuracy: 1.0000 - auc: 1.0000\n",
      "Epoch 15/20\n",
      "6/6 [==============================] - 0s 13ms/step - loss: 2.6499e-05 - accuracy: 1.0000 - auc: 1.0000\n",
      "Epoch 16/20\n",
      "6/6 [==============================] - 0s 16ms/step - loss: 2.5287e-05 - accuracy: 1.0000 - auc: 1.0000\n",
      "Epoch 17/20\n",
      "6/6 [==============================] - 0s 14ms/step - loss: 2.3705e-05 - accuracy: 1.0000 - auc: 1.0000\n",
      "Epoch 18/20\n",
      "6/6 [==============================] - 0s 13ms/step - loss: 2.2215e-05 - accuracy: 1.0000 - auc: 1.0000\n",
      "Epoch 19/20\n",
      "6/6 [==============================] - 0s 13ms/step - loss: 2.1168e-05 - accuracy: 1.0000 - auc: 1.0000\n",
      "Epoch 20/20\n",
      "6/6 [==============================] - 0s 14ms/step - loss: 2.0462e-05 - accuracy: 1.0000 - auc: 1.0000\n",
      "27/27 - 0s - loss: 2.5264 - accuracy: 0.9512 - auc: 0.9653\n",
      "Epoch 1/20\n",
      "5/5 [==============================] - 0s 18ms/step - loss: 0.3971 - accuracy: 0.8323 - auc: 0.9262\n",
      "Epoch 2/20\n",
      "5/5 [==============================] - 0s 13ms/step - loss: 0.1358 - accuracy: 0.9734 - auc: 0.9878\n",
      "Epoch 3/20\n",
      "5/5 [==============================] - 0s 14ms/step - loss: 0.1162 - accuracy: 0.9796 - auc: 0.9913\n",
      "Epoch 4/20\n",
      "5/5 [==============================] - 0s 14ms/step - loss: 0.0608 - accuracy: 0.9918 - auc: 0.9954\n",
      "Epoch 5/20\n",
      "5/5 [==============================] - 0s 14ms/step - loss: 0.0501 - accuracy: 0.9918 - auc: 0.9961\n",
      "Epoch 6/20\n",
      "5/5 [==============================] - 0s 13ms/step - loss: 0.0082 - accuracy: 0.9959 - auc: 1.0000\n",
      "Epoch 7/20\n",
      "5/5 [==============================] - 0s 13ms/step - loss: 0.0056 - accuracy: 0.9980 - auc: 1.0000\n",
      "Epoch 8/20\n",
      "5/5 [==============================] - 0s 13ms/step - loss: 0.0082 - accuracy: 0.9959 - auc: 1.0000\n",
      "Epoch 9/20\n",
      "5/5 [==============================] - 0s 14ms/step - loss: 0.0046 - accuracy: 0.9980 - auc: 1.0000\n",
      "Epoch 10/20\n",
      "5/5 [==============================] - 0s 14ms/step - loss: 0.0012 - accuracy: 1.0000 - auc: 1.0000\n",
      "Epoch 11/20\n",
      "5/5 [==============================] - 0s 14ms/step - loss: 3.7729e-04 - accuracy: 1.0000 - auc: 1.0000\n",
      "Epoch 12/20\n",
      "5/5 [==============================] - 0s 14ms/step - loss: 6.3426e-04 - accuracy: 1.0000 - auc: 1.0000\n",
      "Epoch 13/20\n",
      "5/5 [==============================] - 0s 14ms/step - loss: 4.8199e-04 - accuracy: 1.0000 - auc: 1.0000\n",
      "Epoch 14/20\n",
      "5/5 [==============================] - 0s 13ms/step - loss: 4.3261e-04 - accuracy: 1.0000 - auc: 1.0000\n",
      "Epoch 15/20\n",
      "5/5 [==============================] - 0s 15ms/step - loss: 3.7899e-04 - accuracy: 1.0000 - auc: 1.0000\n",
      "Epoch 16/20\n",
      "5/5 [==============================] - 0s 14ms/step - loss: 3.4557e-04 - accuracy: 1.0000 - auc: 1.0000\n",
      "Epoch 17/20\n",
      "5/5 [==============================] - 0s 14ms/step - loss: 3.2646e-04 - accuracy: 1.0000 - auc: 1.0000\n",
      "Epoch 18/20\n",
      "5/5 [==============================] - 0s 15ms/step - loss: 2.9102e-04 - accuracy: 1.0000 - auc: 1.0000\n",
      "Epoch 19/20\n",
      "5/5 [==============================] - 0s 14ms/step - loss: 2.6413e-04 - accuracy: 1.0000 - auc: 1.0000\n",
      "Epoch 20/20\n",
      "5/5 [==============================] - 0s 15ms/step - loss: 2.4569e-04 - accuracy: 1.0000 - auc: 1.0000\n",
      "29/29 - 0s - loss: 2.2428 - accuracy: 0.9572 - auc: 0.9646\n",
      "Epoch 1/20\n",
      "5/5 [==============================] - 0s 16ms/step - loss: 0.5549 - accuracy: 0.7876 - auc: 0.8806\n",
      "Epoch 2/20\n",
      "5/5 [==============================] - 0s 13ms/step - loss: 0.1722 - accuracy: 0.9594 - auc: 0.9864\n",
      "Epoch 3/20\n",
      "5/5 [==============================] - 0s 12ms/step - loss: 0.1231 - accuracy: 0.9833 - auc: 0.9889\n",
      "Epoch 4/20\n",
      "5/5 [==============================] - 0s 13ms/step - loss: 0.0191 - accuracy: 0.9952 - auc: 0.9997\n",
      "Epoch 5/20\n",
      "5/5 [==============================] - 0s 12ms/step - loss: 0.0365 - accuracy: 0.9952 - auc: 0.9977\n",
      "Epoch 6/20\n",
      "5/5 [==============================] - 0s 12ms/step - loss: 0.0058 - accuracy: 1.0000 - auc: 1.0000\n",
      "Epoch 7/20\n",
      "5/5 [==============================] - 0s 12ms/step - loss: 0.0016 - accuracy: 1.0000 - auc: 1.0000\n",
      "Epoch 8/20\n",
      "5/5 [==============================] - 0s 12ms/step - loss: 0.0755 - accuracy: 0.9976 - auc: 0.9973\n",
      "Epoch 9/20\n",
      "5/5 [==============================] - 0s 12ms/step - loss: 0.0694 - accuracy: 0.9976 - auc: 0.9973\n",
      "Epoch 10/20\n",
      "5/5 [==============================] - 0s 13ms/step - loss: 0.0038 - accuracy: 0.9976 - auc: 1.0000\n",
      "Epoch 11/20\n",
      "5/5 [==============================] - 0s 13ms/step - loss: 3.1549e-04 - accuracy: 1.0000 - auc: 1.0000\n",
      "Epoch 12/20\n",
      "5/5 [==============================] - 0s 13ms/step - loss: 3.4456e-04 - accuracy: 1.0000 - auc: 1.0000\n",
      "Epoch 13/20\n",
      "5/5 [==============================] - 0s 12ms/step - loss: 1.6614e-04 - accuracy: 1.0000 - auc: 1.0000\n",
      "Epoch 14/20\n",
      "5/5 [==============================] - 0s 14ms/step - loss: 1.1535e-04 - accuracy: 1.0000 - auc: 1.0000\n",
      "Epoch 15/20\n",
      "5/5 [==============================] - 0s 12ms/step - loss: 1.2821e-04 - accuracy: 1.0000 - auc: 1.0000\n",
      "Epoch 16/20\n",
      "5/5 [==============================] - 0s 13ms/step - loss: 1.7336e-04 - accuracy: 1.0000 - auc: 1.0000\n",
      "Epoch 17/20\n",
      "5/5 [==============================] - 0s 13ms/step - loss: 1.8719e-04 - accuracy: 1.0000 - auc: 1.0000\n",
      "Epoch 18/20\n",
      "5/5 [==============================] - 0s 12ms/step - loss: 1.4933e-04 - accuracy: 1.0000 - auc: 1.0000\n",
      "Epoch 19/20\n",
      "5/5 [==============================] - 0s 13ms/step - loss: 1.1213e-04 - accuracy: 1.0000 - auc: 1.0000\n",
      "Epoch 20/20\n",
      "5/5 [==============================] - 0s 13ms/step - loss: 8.5438e-05 - accuracy: 1.0000 - auc: 1.0000\n",
      "31/31 - 0s - loss: 1.7526 - accuracy: 0.9572 - auc: 0.9661\n",
      "Epoch 1/20\n",
      "4/4 [==============================] - 0s 15ms/step - loss: 0.4640 - accuracy: 0.7679 - auc: 0.8788\n",
      "Epoch 2/20\n"
     ]
    },
    {
     "name": "stdout",
     "output_type": "stream",
     "text": [
      "4/4 [==============================] - 0s 11ms/step - loss: 0.1069 - accuracy: 0.9799 - auc: 0.9927\n",
      "Epoch 3/20\n",
      "4/4 [==============================] - 0s 12ms/step - loss: 0.0257 - accuracy: 0.9885 - auc: 0.9996\n",
      "Epoch 4/20\n",
      "4/4 [==============================] - 0s 12ms/step - loss: 0.0220 - accuracy: 0.9885 - auc: 0.9997\n",
      "Epoch 5/20\n",
      "4/4 [==============================] - 0s 12ms/step - loss: 0.0165 - accuracy: 0.9943 - auc: 0.9999\n",
      "Epoch 6/20\n",
      "4/4 [==============================] - 0s 13ms/step - loss: 0.0235 - accuracy: 0.9914 - auc: 0.9999\n",
      "Epoch 7/20\n",
      "4/4 [==============================] - 0s 13ms/step - loss: 0.0045 - accuracy: 0.9971 - auc: 1.0000\n",
      "Epoch 8/20\n",
      "4/4 [==============================] - 0s 13ms/step - loss: 0.0143 - accuracy: 0.9943 - auc: 0.9999\n",
      "Epoch 9/20\n",
      "4/4 [==============================] - 0s 13ms/step - loss: 0.0046 - accuracy: 0.9971 - auc: 1.0000\n",
      "Epoch 10/20\n",
      "4/4 [==============================] - 0s 13ms/step - loss: 0.0035 - accuracy: 0.9971 - auc: 1.0000\n",
      "Epoch 11/20\n",
      "4/4 [==============================] - 0s 13ms/step - loss: 0.0030 - accuracy: 0.9971 - auc: 1.0000\n",
      "Epoch 12/20\n",
      "4/4 [==============================] - 0s 14ms/step - loss: 0.0026 - accuracy: 0.9971 - auc: 1.0000\n",
      "Epoch 13/20\n",
      "4/4 [==============================] - 0s 13ms/step - loss: 0.0024 - accuracy: 1.0000 - auc: 1.0000\n",
      "Epoch 14/20\n",
      "4/4 [==============================] - 0s 12ms/step - loss: 0.0022 - accuracy: 1.0000 - auc: 1.0000\n",
      "Epoch 15/20\n",
      "4/4 [==============================] - 0s 11ms/step - loss: 0.0021 - accuracy: 1.0000 - auc: 1.0000\n",
      "Epoch 16/20\n",
      "4/4 [==============================] - 0s 15ms/step - loss: 0.0021 - accuracy: 1.0000 - auc: 1.0000\n",
      "Epoch 17/20\n",
      "4/4 [==============================] - 0s 12ms/step - loss: 0.0020 - accuracy: 1.0000 - auc: 1.0000\n",
      "Epoch 18/20\n",
      "4/4 [==============================] - 0s 12ms/step - loss: 0.0020 - accuracy: 1.0000 - auc: 1.0000\n",
      "Epoch 19/20\n",
      "4/4 [==============================] - 0s 12ms/step - loss: 0.0020 - accuracy: 1.0000 - auc: 1.0000\n",
      "Epoch 20/20\n",
      "4/4 [==============================] - 0s 12ms/step - loss: 0.0020 - accuracy: 1.0000 - auc: 1.0000\n",
      "33/33 - 0s - loss: 0.8829 - accuracy: 0.9505 - auc: 0.9690\n"
     ]
    }
   ],
   "source": [
    "test_sizes = np.arange(0.05, 0.8, 0.05)\n",
    "learning_dict = {'Test sizes': test_sizes, \n",
    "                'Accuracy': [],\n",
    "                'Loss': [], \n",
    "                'AUC': []}\n",
    "\n",
    "for size in test_sizes:\n",
    "    model.set_weights(random_weights)\n",
    "    X_coding_train, X_coding_test, y_coding_train, y_coding_test = train_test_split(X_coding, y_coding, \n",
    "                                                        test_size=size, random_state=1)\n",
    "    scaler = StandardScaler()\n",
    "    X_coding_train = scaler.fit_transform(X_coding_train)\n",
    "    X_coding_test = scaler.transform(X_coding_test)\n",
    "    \n",
    "    model.fit(X_coding_train, y_coding_train, epochs=20, \n",
    "       batch_size=100)\n",
    "    loss, accuracy, auc = model.evaluate(X_coding_test, y_coding_test, verbose=2)\n",
    "    learning_dict['Loss'].append(loss)\n",
    "    learning_dict['Accuracy'].append(accuracy)\n",
    "    learning_dict['AUC'].append(auc)"
   ]
  },
  {
   "cell_type": "markdown",
   "metadata": {},
   "source": [
    "### Learning Curve"
   ]
  },
  {
   "cell_type": "code",
   "execution_count": 28,
   "metadata": {},
   "outputs": [
    {
     "data": {
      "text/html": [
       "<div>\n",
       "<style scoped>\n",
       "    .dataframe tbody tr th:only-of-type {\n",
       "        vertical-align: middle;\n",
       "    }\n",
       "\n",
       "    .dataframe tbody tr th {\n",
       "        vertical-align: top;\n",
       "    }\n",
       "\n",
       "    .dataframe thead th {\n",
       "        text-align: right;\n",
       "    }\n",
       "</style>\n",
       "<table border=\"1\" class=\"dataframe\">\n",
       "  <thead>\n",
       "    <tr style=\"text-align: right;\">\n",
       "      <th></th>\n",
       "      <th>Test sizes</th>\n",
       "      <th>Accuracy</th>\n",
       "      <th>Loss</th>\n",
       "      <th>AUC</th>\n",
       "    </tr>\n",
       "  </thead>\n",
       "  <tbody>\n",
       "    <tr>\n",
       "      <th>0</th>\n",
       "      <td>0.05</td>\n",
       "      <td>1.000000</td>\n",
       "      <td>0.010854</td>\n",
       "      <td>1.000000</td>\n",
       "    </tr>\n",
       "    <tr>\n",
       "      <th>1</th>\n",
       "      <td>0.10</td>\n",
       "      <td>0.978571</td>\n",
       "      <td>0.295458</td>\n",
       "      <td>0.985463</td>\n",
       "    </tr>\n",
       "    <tr>\n",
       "      <th>2</th>\n",
       "      <td>0.15</td>\n",
       "      <td>0.981043</td>\n",
       "      <td>0.258320</td>\n",
       "      <td>0.984997</td>\n",
       "    </tr>\n",
       "    <tr>\n",
       "      <th>3</th>\n",
       "      <td>0.20</td>\n",
       "      <td>0.967857</td>\n",
       "      <td>0.560612</td>\n",
       "      <td>0.973615</td>\n",
       "    </tr>\n",
       "    <tr>\n",
       "      <th>4</th>\n",
       "      <td>0.25</td>\n",
       "      <td>0.971429</td>\n",
       "      <td>0.592794</td>\n",
       "      <td>0.978167</td>\n",
       "    </tr>\n",
       "    <tr>\n",
       "      <th>5</th>\n",
       "      <td>0.30</td>\n",
       "      <td>0.952381</td>\n",
       "      <td>3.607821</td>\n",
       "      <td>0.967559</td>\n",
       "    </tr>\n",
       "    <tr>\n",
       "      <th>6</th>\n",
       "      <td>0.35</td>\n",
       "      <td>0.951120</td>\n",
       "      <td>1.799700</td>\n",
       "      <td>0.969384</td>\n",
       "    </tr>\n",
       "    <tr>\n",
       "      <th>7</th>\n",
       "      <td>0.40</td>\n",
       "      <td>0.957143</td>\n",
       "      <td>2.937108</td>\n",
       "      <td>0.973633</td>\n",
       "    </tr>\n",
       "    <tr>\n",
       "      <th>8</th>\n",
       "      <td>0.45</td>\n",
       "      <td>0.960317</td>\n",
       "      <td>1.029379</td>\n",
       "      <td>0.971491</td>\n",
       "    </tr>\n",
       "    <tr>\n",
       "      <th>9</th>\n",
       "      <td>0.50</td>\n",
       "      <td>0.970000</td>\n",
       "      <td>2.322681</td>\n",
       "      <td>0.977214</td>\n",
       "    </tr>\n",
       "    <tr>\n",
       "      <th>10</th>\n",
       "      <td>0.55</td>\n",
       "      <td>0.957198</td>\n",
       "      <td>2.754353</td>\n",
       "      <td>0.969613</td>\n",
       "    </tr>\n",
       "    <tr>\n",
       "      <th>11</th>\n",
       "      <td>0.60</td>\n",
       "      <td>0.951249</td>\n",
       "      <td>2.526409</td>\n",
       "      <td>0.965275</td>\n",
       "    </tr>\n",
       "    <tr>\n",
       "      <th>12</th>\n",
       "      <td>0.65</td>\n",
       "      <td>0.957190</td>\n",
       "      <td>2.242836</td>\n",
       "      <td>0.964561</td>\n",
       "    </tr>\n",
       "    <tr>\n",
       "      <th>13</th>\n",
       "      <td>0.70</td>\n",
       "      <td>0.957187</td>\n",
       "      <td>1.752646</td>\n",
       "      <td>0.966119</td>\n",
       "    </tr>\n",
       "    <tr>\n",
       "      <th>14</th>\n",
       "      <td>0.75</td>\n",
       "      <td>0.950523</td>\n",
       "      <td>0.882872</td>\n",
       "      <td>0.969017</td>\n",
       "    </tr>\n",
       "  </tbody>\n",
       "</table>\n",
       "</div>"
      ],
      "text/plain": [
       "    Test sizes  Accuracy      Loss       AUC\n",
       "0         0.05  1.000000  0.010854  1.000000\n",
       "1         0.10  0.978571  0.295458  0.985463\n",
       "2         0.15  0.981043  0.258320  0.984997\n",
       "3         0.20  0.967857  0.560612  0.973615\n",
       "4         0.25  0.971429  0.592794  0.978167\n",
       "5         0.30  0.952381  3.607821  0.967559\n",
       "6         0.35  0.951120  1.799700  0.969384\n",
       "7         0.40  0.957143  2.937108  0.973633\n",
       "8         0.45  0.960317  1.029379  0.971491\n",
       "9         0.50  0.970000  2.322681  0.977214\n",
       "10        0.55  0.957198  2.754353  0.969613\n",
       "11        0.60  0.951249  2.526409  0.965275\n",
       "12        0.65  0.957190  2.242836  0.964561\n",
       "13        0.70  0.957187  1.752646  0.966119\n",
       "14        0.75  0.950523  0.882872  0.969017"
      ]
     },
     "execution_count": 28,
     "metadata": {},
     "output_type": "execute_result"
    }
   ],
   "source": [
    "learning_df = pd.DataFrame(learning_dict)\n",
    "learning_df"
   ]
  },
  {
   "cell_type": "code",
   "execution_count": 29,
   "metadata": {},
   "outputs": [
    {
     "data": {
      "image/png": "[encoded data removed]",
      "text/plain": [
       "<Figure size 432x288 with 1 Axes>"
      ]
     },
     "metadata": {
      "needs_background": "light"
     },
     "output_type": "display_data"
    }
   ],
   "source": [
    "learning_df[['Test sizes', 'Accuracy']].plot(x='Test sizes');"
   ]
  },
  {
   "cell_type": "markdown",
   "metadata": {},
   "source": [
    "Test accuracy gradually decreases as we decrease the size of the training data. When we use 95% of the data to train the model, test accuracy reaches 100% which means we are predicting every single sample in the testing set correctly. "
   ]
  },
  {
   "cell_type": "code",
   "execution_count": 30,
   "metadata": {
    "scrolled": true
   },
   "outputs": [
    {
     "name": "stdout",
     "output_type": "stream",
     "text": [
      "Epoch 1/20\n",
      "11/11 [==============================] - 0s 14ms/step - loss: 0.3443 - accuracy: 0.8829 - auc: 0.9566\n",
      "Epoch 2/20\n",
      "11/11 [==============================] - 0s 12ms/step - loss: 0.2266 - accuracy: 0.9657 - auc: 0.9825\n",
      "Epoch 3/20\n",
      "11/11 [==============================] - 0s 11ms/step - loss: 0.1101 - accuracy: 0.9829 - auc: 0.9934\n",
      "Epoch 4/20\n",
      "11/11 [==============================] - 0s 12ms/step - loss: 0.0567 - accuracy: 0.9914 - auc: 0.9976\n",
      "Epoch 5/20\n",
      "11/11 [==============================] - 0s 13ms/step - loss: 0.0456 - accuracy: 0.9933 - auc: 0.9987\n",
      "Epoch 6/20\n",
      "11/11 [==============================] - 0s 13ms/step - loss: 0.0119 - accuracy: 0.9962 - auc: 0.9998\n",
      "Epoch 7/20\n",
      "11/11 [==============================] - 0s 13ms/step - loss: 0.0065 - accuracy: 0.9971 - auc: 1.0000\n",
      "Epoch 8/20\n",
      "11/11 [==============================] - 0s 11ms/step - loss: 0.0041 - accuracy: 0.9990 - auc: 1.0000\n",
      "Epoch 9/20\n",
      "11/11 [==============================] - 0s 12ms/step - loss: 0.0039 - accuracy: 0.9990 - auc: 1.0000\n",
      "Epoch 10/20\n",
      "11/11 [==============================] - 0s 11ms/step - loss: 0.0031 - accuracy: 0.9990 - auc: 1.0000\n",
      "Epoch 11/20\n",
      "11/11 [==============================] - 0s 16ms/step - loss: 0.0028 - accuracy: 0.9990 - auc: 1.0000\n",
      "Epoch 12/20\n",
      "11/11 [==============================] - 0s 13ms/step - loss: 0.0029 - accuracy: 0.9990 - auc: 1.0000\n",
      "Epoch 13/20\n",
      "11/11 [==============================] - 0s 13ms/step - loss: 0.0024 - accuracy: 0.9990 - auc: 1.0000\n",
      "Epoch 14/20\n",
      "11/11 [==============================] - 0s 13ms/step - loss: 0.0023 - accuracy: 0.9990 - auc: 1.0000\n",
      "Epoch 15/20\n",
      "11/11 [==============================] - 0s 14ms/step - loss: 0.0023 - accuracy: 0.9990 - auc: 1.0000\n",
      "Epoch 16/20\n",
      "11/11 [==============================] - 0s 15ms/step - loss: 0.0020 - accuracy: 0.9990 - auc: 1.0000\n",
      "Epoch 17/20\n",
      "11/11 [==============================] - 0s 13ms/step - loss: 0.0020 - accuracy: 0.9990 - auc: 1.0000\n",
      "Epoch 18/20\n",
      "11/11 [==============================] - 0s 13ms/step - loss: 0.0019 - accuracy: 0.9990 - auc: 1.0000\n",
      "Epoch 19/20\n",
      "11/11 [==============================] - 0s 12ms/step - loss: 0.0016 - accuracy: 1.0000 - auc: 1.0000\n",
      "Epoch 20/20\n",
      "11/11 [==============================] - 0s 13ms/step - loss: 0.0015 - accuracy: 1.0000 - auc: 1.0000\n"
     ]
    },
    {
     "data": {
      "text/plain": [
       "<tensorflow.python.keras.callbacks.History at 0x7f8a114a5fd0>"
      ]
     },
     "execution_count": 30,
     "metadata": {},
     "output_type": "execute_result"
    }
   ],
   "source": [
    "model.set_weights(random_weights)\n",
    "X_coding_train, X_coding_test, y_coding_train, y_coding_test = train_test_split(X_coding, y_coding, \n",
    "                                                        test_size=.25, random_state=1)\n",
    "scaler = StandardScaler()\n",
    "X_coding_train = scaler.fit_transform(X_coding_train)\n",
    "X_coding_test = scaler.transform(X_coding_test)\n",
    "\n",
    "model.fit(X_coding_train, y_coding_train, epochs=20, \n",
    "       batch_size=100)"
   ]
  },
  {
   "cell_type": "markdown",
   "metadata": {},
   "source": [
    "### Confusion Matrix for the Deep Learning Classifier"
   ]
  },
  {
   "cell_type": "code",
   "execution_count": 32,
   "metadata": {
    "scrolled": true
   },
   "outputs": [
    {
     "name": "stdout",
     "output_type": "stream",
     "text": [
      "Test accuracy is 95.42857142857143%\n"
     ]
    },
    {
     "data": {
      "image/png": "[encoded data removed]",
      "text/plain": [
       "<Figure size 432x288 with 2 Axes>"
      ]
     },
     "metadata": {
      "needs_background": "light"
     },
     "output_type": "display_data"
    }
   ],
   "source": [
    "y_coding_pred = (model.predict(X_coding_test) > .5).reshape(350)\n",
    "\n",
    "cf_matrix = confusion_matrix(y_coding_test, y_coding_pred, normalize='true')\n",
    "\n",
    "test_accuracy = (y_coding_pred == y_coding_test).sum() / len(y_coding_test)\n",
    "print(f\"Test accuracy is {test_accuracy * 100}%\")\n",
    "\n",
    "ax = plt.axes()\n",
    "sns.heatmap(cf_matrix, annot=True, cmap='Blues', ax=ax)\n",
    "ax.set_title('Confusion Matrix')\n",
    "ax.set_xlabel('Predicted labels')\n",
    "ax.set_ylabel('True labels');"
   ]
  },
  {
   "cell_type": "markdown",
   "metadata": {},
   "source": [
    "Slightly different accuracy score."
   ]
  }
 ],
 "metadata": {
  "kernelspec": {
   "display_name": "Python 3",
   "language": "python",
   "name": "python3"
  },
  "language_info": {
   "codemirror_mode": {
    "name": "ipython",
    "version": 3
   },
   "file_extension": ".py",
   "mimetype": "text/x-python",
   "name": "python",
   "nbconvert_exporter": "python",
   "pygments_lexer": "ipython3",
   "version": "3.8.3"
  }
 },
 "nbformat": 4,
 "nbformat_minor": 5
}
