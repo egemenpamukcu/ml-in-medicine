{
 "cells": [
  {
   "cell_type": "code",
   "execution_count": null,
   "id": "de8913eb",
   "metadata": {},
   "outputs": [],
   "source": [
    "import pandas as pd\n",
    "import numpy as np\n",
    "from sklearn.preprocessing import normalize\n",
    "from sklearn.manifold import TSNE\n",
    "from sklearn.neighbors import KNeighborsClassifier\n",
    "from sklearn.model_selection import cross_validate, StratifiedKFold, train_test_split\n",
    "from sklearn.svm import SVC\n",
    "from sklearn.naive_bayes import GaussianNB\n",
    "from sklearn.tree import DecisionTreeClassifier\n",
    "from sklearn.ensemble import RandomForestClassifier\n",
    "from sklearn.metrics import confusion_matrix\n",
    "import seaborn as sns\n",
    "%matplotlib inline\n",
    "import matplotlib.pyplot as plt\n",
    "from tpot import TPOTClassifier\n",
    "import tensorflow as tf\n",
    "# from xgboost import XGBClassifier"
   ]
  },
  {
   "cell_type": "markdown",
   "id": "08a8d54e",
   "metadata": {},
   "source": [
    "# Load Data"
   ]
  },
  {
   "cell_type": "code",
   "execution_count": 9,
   "id": "79069133",
   "metadata": {},
   "outputs": [],
   "source": [
    "nt_all = pd.read_csv('data/nt.all.csv')"
   ]
  },
  {
   "cell_type": "code",
   "execution_count": 10,
   "id": "ab1a7819",
   "metadata": {},
   "outputs": [],
   "source": [
    "nt_coding = pd.read_csv('data/nt.coding.csv')"
   ]
  },
  {
   "cell_type": "code",
   "execution_count": 11,
   "id": "44ef4377",
   "metadata": {},
   "outputs": [
    {
     "data": {
      "text/html": [
       "<div>\n",
       "<style scoped>\n",
       "    .dataframe tbody tr th:only-of-type {\n",
       "        vertical-align: middle;\n",
       "    }\n",
       "\n",
       "    .dataframe tbody tr th {\n",
       "        vertical-align: top;\n",
       "    }\n",
       "\n",
       "    .dataframe thead th {\n",
       "        text-align: right;\n",
       "    }\n",
       "</style>\n",
       "<table border=\"1\" class=\"dataframe\">\n",
       "  <thead>\n",
       "    <tr style=\"text-align: right;\">\n",
       "      <th></th>\n",
       "      <th>Type</th>\n",
       "      <th>ENSG00000000003.13</th>\n",
       "      <th>ENSG00000000005.5</th>\n",
       "      <th>ENSG00000000419.11</th>\n",
       "      <th>ENSG00000000457.12</th>\n",
       "      <th>ENSG00000000460.15</th>\n",
       "      <th>ENSG00000000938.11</th>\n",
       "      <th>ENSG00000000971.14</th>\n",
       "      <th>ENSG00000001036.12</th>\n",
       "      <th>ENSG00000001084.9</th>\n",
       "      <th>...</th>\n",
       "      <th>ENSGR0000263980.4</th>\n",
       "      <th>ENSGR0000264510.4</th>\n",
       "      <th>ENSGR0000264819.4</th>\n",
       "      <th>ENSGR0000265658.4</th>\n",
       "      <th>ENSGR0000270726.4</th>\n",
       "      <th>ENSGR0000275287.3</th>\n",
       "      <th>ENSGR0000276543.3</th>\n",
       "      <th>ENSGR0000277120.3</th>\n",
       "      <th>ENSGR0000280767.1</th>\n",
       "      <th>ENSGR0000281849.1</th>\n",
       "    </tr>\n",
       "  </thead>\n",
       "  <tbody>\n",
       "    <tr>\n",
       "      <th>0</th>\n",
       "      <td>0</td>\n",
       "      <td>150265.480539</td>\n",
       "      <td>4327.845865</td>\n",
       "      <td>713909.310619</td>\n",
       "      <td>59794.653619</td>\n",
       "      <td>15491.855614</td>\n",
       "      <td>47067.296272</td>\n",
       "      <td>184497.123078</td>\n",
       "      <td>303028.753262</td>\n",
       "      <td>101488.999785</td>\n",
       "      <td>...</td>\n",
       "      <td>0.0</td>\n",
       "      <td>0.0</td>\n",
       "      <td>0.0</td>\n",
       "      <td>0.0</td>\n",
       "      <td>0.0</td>\n",
       "      <td>0.0</td>\n",
       "      <td>0.0</td>\n",
       "      <td>0.0</td>\n",
       "      <td>0.0</td>\n",
       "      <td>0.0</td>\n",
       "    </tr>\n",
       "    <tr>\n",
       "      <th>1</th>\n",
       "      <td>0</td>\n",
       "      <td>913228.181789</td>\n",
       "      <td>2326.284691</td>\n",
       "      <td>828500.414250</td>\n",
       "      <td>50302.756694</td>\n",
       "      <td>30476.958826</td>\n",
       "      <td>119788.855372</td>\n",
       "      <td>323720.579478</td>\n",
       "      <td>232881.114861</td>\n",
       "      <td>204409.893911</td>\n",
       "      <td>...</td>\n",
       "      <td>0.0</td>\n",
       "      <td>0.0</td>\n",
       "      <td>0.0</td>\n",
       "      <td>0.0</td>\n",
       "      <td>0.0</td>\n",
       "      <td>0.0</td>\n",
       "      <td>0.0</td>\n",
       "      <td>0.0</td>\n",
       "      <td>0.0</td>\n",
       "      <td>0.0</td>\n",
       "    </tr>\n",
       "    <tr>\n",
       "      <th>2</th>\n",
       "      <td>0</td>\n",
       "      <td>359658.934678</td>\n",
       "      <td>228971.470681</td>\n",
       "      <td>483960.593070</td>\n",
       "      <td>69872.468893</td>\n",
       "      <td>16789.274018</td>\n",
       "      <td>76493.522968</td>\n",
       "      <td>735607.786830</td>\n",
       "      <td>512566.438580</td>\n",
       "      <td>108147.729799</td>\n",
       "      <td>...</td>\n",
       "      <td>0.0</td>\n",
       "      <td>0.0</td>\n",
       "      <td>0.0</td>\n",
       "      <td>0.0</td>\n",
       "      <td>0.0</td>\n",
       "      <td>0.0</td>\n",
       "      <td>0.0</td>\n",
       "      <td>0.0</td>\n",
       "      <td>0.0</td>\n",
       "      <td>0.0</td>\n",
       "    </tr>\n",
       "    <tr>\n",
       "      <th>3</th>\n",
       "      <td>1</td>\n",
       "      <td>135634.675596</td>\n",
       "      <td>0.000000</td>\n",
       "      <td>748257.784782</td>\n",
       "      <td>75504.611322</td>\n",
       "      <td>27890.960291</td>\n",
       "      <td>55978.045025</td>\n",
       "      <td>118630.138127</td>\n",
       "      <td>710455.556708</td>\n",
       "      <td>250891.525261</td>\n",
       "      <td>...</td>\n",
       "      <td>0.0</td>\n",
       "      <td>0.0</td>\n",
       "      <td>0.0</td>\n",
       "      <td>0.0</td>\n",
       "      <td>0.0</td>\n",
       "      <td>0.0</td>\n",
       "      <td>0.0</td>\n",
       "      <td>0.0</td>\n",
       "      <td>0.0</td>\n",
       "      <td>0.0</td>\n",
       "    </tr>\n",
       "    <tr>\n",
       "      <th>4</th>\n",
       "      <td>0</td>\n",
       "      <td>81454.831124</td>\n",
       "      <td>177.310309</td>\n",
       "      <td>363281.940134</td>\n",
       "      <td>45622.048124</td>\n",
       "      <td>8563.609511</td>\n",
       "      <td>687378.578868</td>\n",
       "      <td>143523.388792</td>\n",
       "      <td>459940.275222</td>\n",
       "      <td>45368.853671</td>\n",
       "      <td>...</td>\n",
       "      <td>0.0</td>\n",
       "      <td>0.0</td>\n",
       "      <td>0.0</td>\n",
       "      <td>0.0</td>\n",
       "      <td>0.0</td>\n",
       "      <td>0.0</td>\n",
       "      <td>0.0</td>\n",
       "      <td>0.0</td>\n",
       "      <td>0.0</td>\n",
       "      <td>0.0</td>\n",
       "    </tr>\n",
       "  </tbody>\n",
       "</table>\n",
       "<p>5 rows × 60484 columns</p>\n",
       "</div>"
      ],
      "text/plain": [
       "   Type  ENSG00000000003.13  ENSG00000000005.5  ENSG00000000419.11  \\\n",
       "0     0       150265.480539        4327.845865       713909.310619   \n",
       "1     0       913228.181789        2326.284691       828500.414250   \n",
       "2     0       359658.934678      228971.470681       483960.593070   \n",
       "3     1       135634.675596           0.000000       748257.784782   \n",
       "4     0        81454.831124         177.310309       363281.940134   \n",
       "\n",
       "   ENSG00000000457.12  ENSG00000000460.15  ENSG00000000938.11  \\\n",
       "0        59794.653619        15491.855614        47067.296272   \n",
       "1        50302.756694        30476.958826       119788.855372   \n",
       "2        69872.468893        16789.274018        76493.522968   \n",
       "3        75504.611322        27890.960291        55978.045025   \n",
       "4        45622.048124         8563.609511       687378.578868   \n",
       "\n",
       "   ENSG00000000971.14  ENSG00000001036.12  ENSG00000001084.9  ...  \\\n",
       "0       184497.123078       303028.753262      101488.999785  ...   \n",
       "1       323720.579478       232881.114861      204409.893911  ...   \n",
       "2       735607.786830       512566.438580      108147.729799  ...   \n",
       "3       118630.138127       710455.556708      250891.525261  ...   \n",
       "4       143523.388792       459940.275222       45368.853671  ...   \n",
       "\n",
       "   ENSGR0000263980.4  ENSGR0000264510.4  ENSGR0000264819.4  ENSGR0000265658.4  \\\n",
       "0                0.0                0.0                0.0                0.0   \n",
       "1                0.0                0.0                0.0                0.0   \n",
       "2                0.0                0.0                0.0                0.0   \n",
       "3                0.0                0.0                0.0                0.0   \n",
       "4                0.0                0.0                0.0                0.0   \n",
       "\n",
       "   ENSGR0000270726.4  ENSGR0000275287.3  ENSGR0000276543.3  ENSGR0000277120.3  \\\n",
       "0                0.0                0.0                0.0                0.0   \n",
       "1                0.0                0.0                0.0                0.0   \n",
       "2                0.0                0.0                0.0                0.0   \n",
       "3                0.0                0.0                0.0                0.0   \n",
       "4                0.0                0.0                0.0                0.0   \n",
       "\n",
       "   ENSGR0000280767.1  ENSGR0000281849.1  \n",
       "0                0.0                0.0  \n",
       "1                0.0                0.0  \n",
       "2                0.0                0.0  \n",
       "3                0.0                0.0  \n",
       "4                0.0                0.0  \n",
       "\n",
       "[5 rows x 60484 columns]"
      ]
     },
     "execution_count": 11,
     "metadata": {},
     "output_type": "execute_result"
    }
   ],
   "source": [
    "nt_all.head()"
   ]
  },
  {
   "cell_type": "code",
   "execution_count": 12,
   "id": "8994dda6",
   "metadata": {},
   "outputs": [
    {
     "data": {
      "text/plain": [
       "(1400, 60484)"
      ]
     },
     "execution_count": 12,
     "metadata": {},
     "output_type": "execute_result"
    }
   ],
   "source": [
    "nt_all.shape"
   ]
  },
  {
   "cell_type": "code",
   "execution_count": 13,
   "id": "6e23f1f0",
   "metadata": {},
   "outputs": [
    {
     "data": {
      "text/html": [
       "<div>\n",
       "<style scoped>\n",
       "    .dataframe tbody tr th:only-of-type {\n",
       "        vertical-align: middle;\n",
       "    }\n",
       "\n",
       "    .dataframe tbody tr th {\n",
       "        vertical-align: top;\n",
       "    }\n",
       "\n",
       "    .dataframe thead th {\n",
       "        text-align: right;\n",
       "    }\n",
       "</style>\n",
       "<table border=\"1\" class=\"dataframe\">\n",
       "  <thead>\n",
       "    <tr style=\"text-align: right;\">\n",
       "      <th></th>\n",
       "      <th>Type</th>\n",
       "      <th>ENSG00000000003.13</th>\n",
       "      <th>ENSG00000000005.5</th>\n",
       "      <th>ENSG00000000419.11</th>\n",
       "      <th>ENSG00000000457.12</th>\n",
       "      <th>ENSG00000000460.15</th>\n",
       "      <th>ENSG00000000938.11</th>\n",
       "      <th>ENSG00000000971.14</th>\n",
       "      <th>ENSG00000001036.12</th>\n",
       "      <th>ENSG00000001084.9</th>\n",
       "      <th>...</th>\n",
       "      <th>ENSG00000269699.4</th>\n",
       "      <th>ENSG00000269711.1</th>\n",
       "      <th>ENSG00000269741.4</th>\n",
       "      <th>ENSG00000269749.1</th>\n",
       "      <th>ENSG00000269755.1</th>\n",
       "      <th>ENSG00000269846.1</th>\n",
       "      <th>ENSG00000269855.2</th>\n",
       "      <th>ENSG00000269858.4</th>\n",
       "      <th>ENSG00000269881.1</th>\n",
       "      <th>ENSG00000269883.1</th>\n",
       "    </tr>\n",
       "  </thead>\n",
       "  <tbody>\n",
       "    <tr>\n",
       "      <th>0</th>\n",
       "      <td>0</td>\n",
       "      <td>150265.480539</td>\n",
       "      <td>4327.845865</td>\n",
       "      <td>713909.310619</td>\n",
       "      <td>59794.653619</td>\n",
       "      <td>15491.855614</td>\n",
       "      <td>47067.296272</td>\n",
       "      <td>184497.123078</td>\n",
       "      <td>303028.753262</td>\n",
       "      <td>101488.999785</td>\n",
       "      <td>...</td>\n",
       "      <td>491.731252</td>\n",
       "      <td>0.00000</td>\n",
       "      <td>0.000000</td>\n",
       "      <td>0.000000</td>\n",
       "      <td>5530.025272</td>\n",
       "      <td>999.688930</td>\n",
       "      <td>2815.285593</td>\n",
       "      <td>80163.084910</td>\n",
       "      <td>6837.301541</td>\n",
       "      <td>200.744219</td>\n",
       "    </tr>\n",
       "    <tr>\n",
       "      <th>1</th>\n",
       "      <td>0</td>\n",
       "      <td>913228.181789</td>\n",
       "      <td>2326.284691</td>\n",
       "      <td>828500.414250</td>\n",
       "      <td>50302.756694</td>\n",
       "      <td>30476.958826</td>\n",
       "      <td>119788.855372</td>\n",
       "      <td>323720.579478</td>\n",
       "      <td>232881.114861</td>\n",
       "      <td>204409.893911</td>\n",
       "      <td>...</td>\n",
       "      <td>146.840679</td>\n",
       "      <td>0.00000</td>\n",
       "      <td>44133.486358</td>\n",
       "      <td>902.703869</td>\n",
       "      <td>0.000000</td>\n",
       "      <td>298.526889</td>\n",
       "      <td>106768.895783</td>\n",
       "      <td>55490.416008</td>\n",
       "      <td>742.455814</td>\n",
       "      <td>0.000000</td>\n",
       "    </tr>\n",
       "    <tr>\n",
       "      <th>2</th>\n",
       "      <td>0</td>\n",
       "      <td>359658.934678</td>\n",
       "      <td>228971.470681</td>\n",
       "      <td>483960.593070</td>\n",
       "      <td>69872.468893</td>\n",
       "      <td>16789.274018</td>\n",
       "      <td>76493.522968</td>\n",
       "      <td>735607.786830</td>\n",
       "      <td>512566.438580</td>\n",
       "      <td>108147.729799</td>\n",
       "      <td>...</td>\n",
       "      <td>427.189045</td>\n",
       "      <td>0.00000</td>\n",
       "      <td>0.000000</td>\n",
       "      <td>0.000000</td>\n",
       "      <td>3603.136170</td>\n",
       "      <td>217.118679</td>\n",
       "      <td>1528.603224</td>\n",
       "      <td>62677.148078</td>\n",
       "      <td>4319.906344</td>\n",
       "      <td>0.000000</td>\n",
       "    </tr>\n",
       "    <tr>\n",
       "      <th>3</th>\n",
       "      <td>1</td>\n",
       "      <td>135634.675596</td>\n",
       "      <td>0.000000</td>\n",
       "      <td>748257.784782</td>\n",
       "      <td>75504.611322</td>\n",
       "      <td>27890.960291</td>\n",
       "      <td>55978.045025</td>\n",
       "      <td>118630.138127</td>\n",
       "      <td>710455.556708</td>\n",
       "      <td>250891.525261</td>\n",
       "      <td>...</td>\n",
       "      <td>322.662334</td>\n",
       "      <td>0.00000</td>\n",
       "      <td>946.120078</td>\n",
       "      <td>661.189483</td>\n",
       "      <td>1555.144652</td>\n",
       "      <td>218.657354</td>\n",
       "      <td>16318.022871</td>\n",
       "      <td>54779.302382</td>\n",
       "      <td>5030.289480</td>\n",
       "      <td>0.000000</td>\n",
       "    </tr>\n",
       "    <tr>\n",
       "      <th>4</th>\n",
       "      <td>0</td>\n",
       "      <td>81454.831124</td>\n",
       "      <td>177.310309</td>\n",
       "      <td>363281.940134</td>\n",
       "      <td>45622.048124</td>\n",
       "      <td>8563.609511</td>\n",
       "      <td>687378.578868</td>\n",
       "      <td>143523.388792</td>\n",
       "      <td>459940.275222</td>\n",
       "      <td>45368.853671</td>\n",
       "      <td>...</td>\n",
       "      <td>201.460549</td>\n",
       "      <td>23513.58332</td>\n",
       "      <td>0.000000</td>\n",
       "      <td>619.239908</td>\n",
       "      <td>970.985025</td>\n",
       "      <td>0.000000</td>\n",
       "      <td>2595.178159</td>\n",
       "      <td>103692.697035</td>\n",
       "      <td>1909.921482</td>\n",
       "      <td>0.000000</td>\n",
       "    </tr>\n",
       "  </tbody>\n",
       "</table>\n",
       "<p>5 rows × 19562 columns</p>\n",
       "</div>"
      ],
      "text/plain": [
       "   Type  ENSG00000000003.13  ENSG00000000005.5  ENSG00000000419.11  \\\n",
       "0     0       150265.480539        4327.845865       713909.310619   \n",
       "1     0       913228.181789        2326.284691       828500.414250   \n",
       "2     0       359658.934678      228971.470681       483960.593070   \n",
       "3     1       135634.675596           0.000000       748257.784782   \n",
       "4     0        81454.831124         177.310309       363281.940134   \n",
       "\n",
       "   ENSG00000000457.12  ENSG00000000460.15  ENSG00000000938.11  \\\n",
       "0        59794.653619        15491.855614        47067.296272   \n",
       "1        50302.756694        30476.958826       119788.855372   \n",
       "2        69872.468893        16789.274018        76493.522968   \n",
       "3        75504.611322        27890.960291        55978.045025   \n",
       "4        45622.048124         8563.609511       687378.578868   \n",
       "\n",
       "   ENSG00000000971.14  ENSG00000001036.12  ENSG00000001084.9  ...  \\\n",
       "0       184497.123078       303028.753262      101488.999785  ...   \n",
       "1       323720.579478       232881.114861      204409.893911  ...   \n",
       "2       735607.786830       512566.438580      108147.729799  ...   \n",
       "3       118630.138127       710455.556708      250891.525261  ...   \n",
       "4       143523.388792       459940.275222       45368.853671  ...   \n",
       "\n",
       "   ENSG00000269699.4  ENSG00000269711.1  ENSG00000269741.4  ENSG00000269749.1  \\\n",
       "0         491.731252            0.00000           0.000000           0.000000   \n",
       "1         146.840679            0.00000       44133.486358         902.703869   \n",
       "2         427.189045            0.00000           0.000000           0.000000   \n",
       "3         322.662334            0.00000         946.120078         661.189483   \n",
       "4         201.460549        23513.58332           0.000000         619.239908   \n",
       "\n",
       "   ENSG00000269755.1  ENSG00000269846.1  ENSG00000269855.2  ENSG00000269858.4  \\\n",
       "0        5530.025272         999.688930        2815.285593       80163.084910   \n",
       "1           0.000000         298.526889      106768.895783       55490.416008   \n",
       "2        3603.136170         217.118679        1528.603224       62677.148078   \n",
       "3        1555.144652         218.657354       16318.022871       54779.302382   \n",
       "4         970.985025           0.000000        2595.178159      103692.697035   \n",
       "\n",
       "   ENSG00000269881.1  ENSG00000269883.1  \n",
       "0        6837.301541         200.744219  \n",
       "1         742.455814           0.000000  \n",
       "2        4319.906344           0.000000  \n",
       "3        5030.289480           0.000000  \n",
       "4        1909.921482           0.000000  \n",
       "\n",
       "[5 rows x 19562 columns]"
      ]
     },
     "execution_count": 13,
     "metadata": {},
     "output_type": "execute_result"
    }
   ],
   "source": [
    "nt_coding.head()"
   ]
  },
  {
   "cell_type": "code",
   "execution_count": 14,
   "id": "b0de9b9c",
   "metadata": {},
   "outputs": [
    {
     "data": {
      "text/plain": [
       "(1400, 19562)"
      ]
     },
     "execution_count": 14,
     "metadata": {},
     "output_type": "execute_result"
    }
   ],
   "source": [
    "nt_coding.shape"
   ]
  },
  {
   "cell_type": "markdown",
   "id": "1993a7af",
   "metadata": {},
   "source": [
    "## Seperate labels and features"
   ]
  },
  {
   "cell_type": "code",
   "execution_count": 15,
   "id": "7dea82ec",
   "metadata": {},
   "outputs": [],
   "source": [
    "y_coding = nt_coding['Type']\n",
    "X_coding = nt_coding.drop('Type', axis=1)"
   ]
  },
  {
   "cell_type": "code",
   "execution_count": 16,
   "id": "a103f668",
   "metadata": {},
   "outputs": [],
   "source": [
    "y_all = nt_all['Type']\n",
    "X_all = nt_all.drop('Type', axis=1)"
   ]
  },
  {
   "cell_type": "markdown",
   "id": "81825da6",
   "metadata": {},
   "source": [
    "# Pre-processing"
   ]
  },
  {
   "cell_type": "markdown",
   "id": "2f31d5d6",
   "metadata": {},
   "source": [
    "Use the l2 norm to normalize each sample"
   ]
  },
  {
   "cell_type": "code",
   "execution_count": 17,
   "id": "e102e226",
   "metadata": {},
   "outputs": [],
   "source": [
    "X_coding = np.asarray(normalize(X_coding), dtype='float64')\n",
    "X_all = np.asarray(normalize(X_all), dtype='float64')"
   ]
  },
  {
   "cell_type": "markdown",
   "id": "ecb1c35b",
   "metadata": {},
   "source": [
    "# Exploratory Analysis"
   ]
  },
  {
   "cell_type": "markdown",
   "id": "c12e3be7",
   "metadata": {},
   "source": [
    "## Dimensionality reduction with t-SNE"
   ]
  },
  {
   "cell_type": "code",
   "execution_count": 11,
   "id": "77b12be4",
   "metadata": {
    "collapsed": true
   },
   "outputs": [
    {
     "ename": "UFuncTypeError",
     "evalue": "ufunc 'multiply' did not contain a loop with signature matching types (dtype('<U32'), dtype('<U32')) -> dtype('<U32')",
     "output_type": "error",
     "traceback": [
      "\u001b[0;31m---------------------------------------------------------------------------\u001b[0m",
      "\u001b[0;31mUFuncTypeError\u001b[0m                            Traceback (most recent call last)",
      "\u001b[0;32m<ipython-input-11-b89a55ca1aff>\u001b[0m in \u001b[0;36m<module>\u001b[0;34m\u001b[0m\n\u001b[0;32m----> 1\u001b[0;31m X_coding_e = TSNE(n_components=2, learning_rate='auto',\n\u001b[0m\u001b[1;32m      2\u001b[0m                init='random').fit_transform(X_coding)\n",
      "\u001b[0;32m~/opt/anaconda3/lib/python3.8/site-packages/sklearn/manifold/_t_sne.py\u001b[0m in \u001b[0;36mfit_transform\u001b[0;34m(self, X, y)\u001b[0m\n\u001b[1;32m    930\u001b[0m             \u001b[0mEmbedding\u001b[0m \u001b[0mof\u001b[0m \u001b[0mthe\u001b[0m \u001b[0mtraining\u001b[0m \u001b[0mdata\u001b[0m \u001b[0;32min\u001b[0m \u001b[0mlow\u001b[0m\u001b[0;34m-\u001b[0m\u001b[0mdimensional\u001b[0m \u001b[0mspace\u001b[0m\u001b[0;34m.\u001b[0m\u001b[0;34m\u001b[0m\u001b[0;34m\u001b[0m\u001b[0m\n\u001b[1;32m    931\u001b[0m         \"\"\"\n\u001b[0;32m--> 932\u001b[0;31m         \u001b[0membedding\u001b[0m \u001b[0;34m=\u001b[0m \u001b[0mself\u001b[0m\u001b[0;34m.\u001b[0m\u001b[0m_fit\u001b[0m\u001b[0;34m(\u001b[0m\u001b[0mX\u001b[0m\u001b[0;34m)\u001b[0m\u001b[0;34m\u001b[0m\u001b[0;34m\u001b[0m\u001b[0m\n\u001b[0m\u001b[1;32m    933\u001b[0m         \u001b[0mself\u001b[0m\u001b[0;34m.\u001b[0m\u001b[0membedding_\u001b[0m \u001b[0;34m=\u001b[0m \u001b[0membedding\u001b[0m\u001b[0;34m\u001b[0m\u001b[0;34m\u001b[0m\u001b[0m\n\u001b[1;32m    934\u001b[0m         \u001b[0;32mreturn\u001b[0m \u001b[0mself\u001b[0m\u001b[0;34m.\u001b[0m\u001b[0membedding_\u001b[0m\u001b[0;34m\u001b[0m\u001b[0;34m\u001b[0m\u001b[0m\n",
      "\u001b[0;32m~/opt/anaconda3/lib/python3.8/site-packages/sklearn/manifold/_t_sne.py\u001b[0m in \u001b[0;36m_fit\u001b[0;34m(self, X, skip_num_points)\u001b[0m\n\u001b[1;32m    839\u001b[0m         \u001b[0mdegrees_of_freedom\u001b[0m \u001b[0;34m=\u001b[0m \u001b[0mmax\u001b[0m\u001b[0;34m(\u001b[0m\u001b[0mself\u001b[0m\u001b[0;34m.\u001b[0m\u001b[0mn_components\u001b[0m \u001b[0;34m-\u001b[0m \u001b[0;36m1\u001b[0m\u001b[0;34m,\u001b[0m \u001b[0;36m1\u001b[0m\u001b[0;34m)\u001b[0m\u001b[0;34m\u001b[0m\u001b[0;34m\u001b[0m\u001b[0m\n\u001b[1;32m    840\u001b[0m \u001b[0;34m\u001b[0m\u001b[0m\n\u001b[0;32m--> 841\u001b[0;31m         return self._tsne(P, degrees_of_freedom, n_samples,\n\u001b[0m\u001b[1;32m    842\u001b[0m                           \u001b[0mX_embedded\u001b[0m\u001b[0;34m=\u001b[0m\u001b[0mX_embedded\u001b[0m\u001b[0;34m,\u001b[0m\u001b[0;34m\u001b[0m\u001b[0;34m\u001b[0m\u001b[0m\n\u001b[1;32m    843\u001b[0m                           \u001b[0mneighbors\u001b[0m\u001b[0;34m=\u001b[0m\u001b[0mneighbors_nn\u001b[0m\u001b[0;34m,\u001b[0m\u001b[0;34m\u001b[0m\u001b[0;34m\u001b[0m\u001b[0m\n",
      "\u001b[0;32m~/opt/anaconda3/lib/python3.8/site-packages/sklearn/manifold/_t_sne.py\u001b[0m in \u001b[0;36m_tsne\u001b[0;34m(self, P, degrees_of_freedom, n_samples, X_embedded, neighbors, skip_num_points)\u001b[0m\n\u001b[1;32m    880\u001b[0m         \u001b[0;31m# higher learning rate controlled via the early exaggeration parameter\u001b[0m\u001b[0;34m\u001b[0m\u001b[0;34m\u001b[0m\u001b[0;34m\u001b[0m\u001b[0m\n\u001b[1;32m    881\u001b[0m         \u001b[0mP\u001b[0m \u001b[0;34m*=\u001b[0m \u001b[0mself\u001b[0m\u001b[0;34m.\u001b[0m\u001b[0mearly_exaggeration\u001b[0m\u001b[0;34m\u001b[0m\u001b[0;34m\u001b[0m\u001b[0m\n\u001b[0;32m--> 882\u001b[0;31m         params, kl_divergence, it = _gradient_descent(obj_func, params,\n\u001b[0m\u001b[1;32m    883\u001b[0m                                                       **opt_args)\n\u001b[1;32m    884\u001b[0m         \u001b[0;32mif\u001b[0m \u001b[0mself\u001b[0m\u001b[0;34m.\u001b[0m\u001b[0mverbose\u001b[0m\u001b[0;34m:\u001b[0m\u001b[0;34m\u001b[0m\u001b[0;34m\u001b[0m\u001b[0m\n",
      "\u001b[0;32m~/opt/anaconda3/lib/python3.8/site-packages/sklearn/manifold/_t_sne.py\u001b[0m in \u001b[0;36m_gradient_descent\u001b[0;34m(objective, p0, it, n_iter, n_iter_check, n_iter_without_progress, momentum, learning_rate, min_gain, min_grad_norm, verbose, args, kwargs)\u001b[0m\n\u001b[1;32m    370\u001b[0m         \u001b[0mnp\u001b[0m\u001b[0;34m.\u001b[0m\u001b[0mclip\u001b[0m\u001b[0;34m(\u001b[0m\u001b[0mgains\u001b[0m\u001b[0;34m,\u001b[0m \u001b[0mmin_gain\u001b[0m\u001b[0;34m,\u001b[0m \u001b[0mnp\u001b[0m\u001b[0;34m.\u001b[0m\u001b[0minf\u001b[0m\u001b[0;34m,\u001b[0m \u001b[0mout\u001b[0m\u001b[0;34m=\u001b[0m\u001b[0mgains\u001b[0m\u001b[0;34m)\u001b[0m\u001b[0;34m\u001b[0m\u001b[0;34m\u001b[0m\u001b[0m\n\u001b[1;32m    371\u001b[0m         \u001b[0mgrad\u001b[0m \u001b[0;34m*=\u001b[0m \u001b[0mgains\u001b[0m\u001b[0;34m\u001b[0m\u001b[0;34m\u001b[0m\u001b[0m\n\u001b[0;32m--> 372\u001b[0;31m         \u001b[0mupdate\u001b[0m \u001b[0;34m=\u001b[0m \u001b[0mmomentum\u001b[0m \u001b[0;34m*\u001b[0m \u001b[0mupdate\u001b[0m \u001b[0;34m-\u001b[0m \u001b[0mlearning_rate\u001b[0m \u001b[0;34m*\u001b[0m \u001b[0mgrad\u001b[0m\u001b[0;34m\u001b[0m\u001b[0;34m\u001b[0m\u001b[0m\n\u001b[0m\u001b[1;32m    373\u001b[0m         \u001b[0mp\u001b[0m \u001b[0;34m+=\u001b[0m \u001b[0mupdate\u001b[0m\u001b[0;34m\u001b[0m\u001b[0;34m\u001b[0m\u001b[0m\n\u001b[1;32m    374\u001b[0m \u001b[0;34m\u001b[0m\u001b[0m\n",
      "\u001b[0;31mUFuncTypeError\u001b[0m: ufunc 'multiply' did not contain a loop with signature matching types (dtype('<U32'), dtype('<U32')) -> dtype('<U32')"
     ]
    }
   ],
   "source": [
    "X_coding_e = TSNE(n_components=2, learning_rate='auto',\n",
    "               init='random').fit_transform(X_coding)"
   ]
  },
  {
   "cell_type": "markdown",
   "id": "5c13a814",
   "metadata": {},
   "source": [
    "# Classification"
   ]
  },
  {
   "cell_type": "markdown",
   "id": "a0d2b475",
   "metadata": {},
   "source": [
    "* k-nearest neighbors\n",
    "* Support Vector Machine (SVM)\n",
    "* Naive Bayes\n",
    "* Decision Tree\n",
    "* Random Forest"
   ]
  },
  {
   "cell_type": "code",
   "execution_count": 12,
   "id": "b61aabbc",
   "metadata": {},
   "outputs": [],
   "source": [
    "def display_cv_metrics(metrics):\n",
    "    for k, v in metrics.items():\n",
    "        print(f'{k}: {np.round(v.mean(), 3)}')"
   ]
  },
  {
   "cell_type": "code",
   "execution_count": 13,
   "id": "e3423f93",
   "metadata": {},
   "outputs": [],
   "source": [
    "metrics = ['accuracy', 'f1', 'precision', 'recall', 'roc_auc']"
   ]
  },
  {
   "cell_type": "code",
   "execution_count": 14,
   "id": "bf0b87af",
   "metadata": {},
   "outputs": [],
   "source": [
    "skf = StratifiedKFold(n_splits=5, random_state=1, shuffle=True)"
   ]
  },
  {
   "cell_type": "markdown",
   "id": "d472032a",
   "metadata": {},
   "source": [
    "## k-nearest neighbors"
   ]
  },
  {
   "cell_type": "code",
   "execution_count": 15,
   "id": "c376adbf",
   "metadata": {},
   "outputs": [],
   "source": [
    "knn = KNeighborsClassifier()"
   ]
  },
  {
   "cell_type": "code",
   "execution_count": 16,
   "id": "f27823e5",
   "metadata": {},
   "outputs": [],
   "source": [
    "knn_scores_coding = cross_validate(estimator=knn, \n",
    "                              X=X_coding,\n",
    "                              y=y_coding,\n",
    "                              scoring=metrics,\n",
    "                              cv=skf)"
   ]
  },
  {
   "cell_type": "code",
   "execution_count": 17,
   "id": "f14128ce",
   "metadata": {},
   "outputs": [],
   "source": [
    "knn_scores_all = cross_validate(estimator=knn, \n",
    "                              X=X_all,\n",
    "                              y=y_all,\n",
    "                              scoring=metrics,\n",
    "                              cv=skf)"
   ]
  },
  {
   "cell_type": "code",
   "execution_count": 18,
   "id": "18d1958b",
   "metadata": {},
   "outputs": [
    {
     "name": "stdout",
     "output_type": "stream",
     "text": [
      "fit_time: 0.135\n",
      "score_time: 0.332\n",
      "test_accuracy: 0.903\n",
      "test_f1: 0.898\n",
      "test_precision: 0.942\n",
      "test_recall: 0.859\n",
      "test_roc_auc: 0.948\n"
     ]
    }
   ],
   "source": [
    "display_cv_metrics(knn_scores_coding)"
   ]
  },
  {
   "cell_type": "code",
   "execution_count": 19,
   "id": "206cd211",
   "metadata": {},
   "outputs": [
    {
     "name": "stdout",
     "output_type": "stream",
     "text": [
      "fit_time: 0.537\n",
      "score_time: 1.003\n",
      "test_accuracy: 0.899\n",
      "test_f1: 0.892\n",
      "test_precision: 0.95\n",
      "test_recall: 0.841\n",
      "test_roc_auc: 0.952\n"
     ]
    }
   ],
   "source": [
    "display_cv_metrics(knn_scores_all)"
   ]
  },
  {
   "cell_type": "markdown",
   "id": "27f04a41",
   "metadata": {},
   "source": [
    "## Support Vector Machine"
   ]
  },
  {
   "cell_type": "code",
   "execution_count": 20,
   "id": "4bd817c7",
   "metadata": {},
   "outputs": [],
   "source": [
    "svc = SVC()"
   ]
  },
  {
   "cell_type": "code",
   "execution_count": 21,
   "id": "10c8201b",
   "metadata": {},
   "outputs": [],
   "source": [
    "svc_scores_coding = cross_validate(estimator=svc, \n",
    "                              X=X_coding,\n",
    "                              y=y_coding,\n",
    "                              scoring=metrics,\n",
    "                              cv=skf)"
   ]
  },
  {
   "cell_type": "code",
   "execution_count": 22,
   "id": "d20958fd",
   "metadata": {},
   "outputs": [],
   "source": [
    "svc_scores_all = cross_validate(estimator=svc, \n",
    "                              X=X_all,\n",
    "                              y=y_all,\n",
    "                              scoring=metrics,\n",
    "                              cv=skf)"
   ]
  },
  {
   "cell_type": "code",
   "execution_count": 23,
   "id": "7f75db3b",
   "metadata": {},
   "outputs": [
    {
     "name": "stdout",
     "output_type": "stream",
     "text": [
      "fit_time: 4.8\n",
      "score_time: 5.465\n",
      "test_accuracy: 0.934\n",
      "test_f1: 0.933\n",
      "test_precision: 0.947\n",
      "test_recall: 0.92\n",
      "test_roc_auc: 0.98\n"
     ]
    }
   ],
   "source": [
    "display_cv_metrics(svc_scores_coding)"
   ]
  },
  {
   "cell_type": "code",
   "execution_count": 24,
   "id": "5e2164d6",
   "metadata": {},
   "outputs": [
    {
     "name": "stdout",
     "output_type": "stream",
     "text": [
      "fit_time: 10.144\n",
      "score_time: 12.774\n",
      "test_accuracy: 0.934\n",
      "test_f1: 0.932\n",
      "test_precision: 0.953\n",
      "test_recall: 0.913\n",
      "test_roc_auc: 0.979\n"
     ]
    }
   ],
   "source": [
    "display_cv_metrics(svc_scores_all)"
   ]
  },
  {
   "cell_type": "markdown",
   "id": "e56cd509",
   "metadata": {},
   "source": [
    "## Naive Bayes Classifier"
   ]
  },
  {
   "cell_type": "code",
   "execution_count": 25,
   "id": "7627e0bb",
   "metadata": {},
   "outputs": [],
   "source": [
    "nb = GaussianNB()"
   ]
  },
  {
   "cell_type": "code",
   "execution_count": 26,
   "id": "34dc0805",
   "metadata": {},
   "outputs": [],
   "source": [
    "nb_scores_coding = cross_validate(estimator=nb, \n",
    "                              X=X_coding,\n",
    "                              y=y_coding,\n",
    "                              scoring=metrics,\n",
    "                              cv=skf)"
   ]
  },
  {
   "cell_type": "code",
   "execution_count": 27,
   "id": "387fc888",
   "metadata": {},
   "outputs": [],
   "source": [
    "nb_scores_all = cross_validate(estimator=nb, \n",
    "                              X=X_all,\n",
    "                              y=y_all,\n",
    "                              scoring=metrics,\n",
    "                              cv=skf)"
   ]
  },
  {
   "cell_type": "code",
   "execution_count": 28,
   "id": "32cae43a",
   "metadata": {},
   "outputs": [
    {
     "name": "stdout",
     "output_type": "stream",
     "text": [
      "fit_time: 0.262\n",
      "score_time: 0.04\n",
      "test_accuracy: 0.845\n",
      "test_f1: 0.828\n",
      "test_precision: 0.929\n",
      "test_recall: 0.747\n",
      "test_roc_auc: 0.85\n"
     ]
    }
   ],
   "source": [
    "display_cv_metrics(nb_scores_coding)"
   ]
  },
  {
   "cell_type": "code",
   "execution_count": 29,
   "id": "c02d91bb",
   "metadata": {},
   "outputs": [
    {
     "name": "stdout",
     "output_type": "stream",
     "text": [
      "fit_time: 2.1\n",
      "score_time: 0.47\n",
      "test_accuracy: 0.864\n",
      "test_f1: 0.85\n",
      "test_precision: 0.951\n",
      "test_recall: 0.769\n",
      "test_roc_auc: 0.866\n"
     ]
    }
   ],
   "source": [
    "display_cv_metrics(nb_scores_all)"
   ]
  },
  {
   "cell_type": "markdown",
   "id": "0b3815d2",
   "metadata": {},
   "source": [
    "## Decision Tree Classifier"
   ]
  },
  {
   "cell_type": "code",
   "execution_count": 30,
   "id": "08ca6661",
   "metadata": {},
   "outputs": [],
   "source": [
    "dt = DecisionTreeClassifier(random_state=1)"
   ]
  },
  {
   "cell_type": "code",
   "execution_count": 31,
   "id": "a4aa58ca",
   "metadata": {},
   "outputs": [],
   "source": [
    "dt_scores_coding = cross_validate(estimator=dt, \n",
    "                              X=X_coding,\n",
    "                              y=y_coding,\n",
    "                              scoring=metrics,\n",
    "                              cv=skf)"
   ]
  },
  {
   "cell_type": "code",
   "execution_count": 32,
   "id": "728a6445",
   "metadata": {},
   "outputs": [],
   "source": [
    "dt_scores_all = cross_validate(estimator=dt, \n",
    "                              X=X_all,\n",
    "                              y=y_all,\n",
    "                              scoring=metrics,\n",
    "                              cv=skf)"
   ]
  },
  {
   "cell_type": "code",
   "execution_count": 33,
   "id": "79e86f05",
   "metadata": {},
   "outputs": [
    {
     "name": "stdout",
     "output_type": "stream",
     "text": [
      "fit_time: 11.131\n",
      "score_time: 0.012\n",
      "test_accuracy: 0.896\n",
      "test_f1: 0.895\n",
      "test_precision: 0.9\n",
      "test_recall: 0.891\n",
      "test_roc_auc: 0.896\n"
     ]
    }
   ],
   "source": [
    "display_cv_metrics(dt_scores_coding)"
   ]
  },
  {
   "cell_type": "code",
   "execution_count": 34,
   "id": "c11f07c1",
   "metadata": {},
   "outputs": [
    {
     "name": "stdout",
     "output_type": "stream",
     "text": [
      "fit_time: 22.249\n",
      "score_time: 0.067\n",
      "test_accuracy: 0.899\n",
      "test_f1: 0.898\n",
      "test_precision: 0.913\n",
      "test_recall: 0.883\n",
      "test_roc_auc: 0.899\n"
     ]
    }
   ],
   "source": [
    "display_cv_metrics(dt_scores_all)"
   ]
  },
  {
   "cell_type": "markdown",
   "id": "027ab6a7",
   "metadata": {},
   "source": [
    "## Random Forest Classifier"
   ]
  },
  {
   "cell_type": "code",
   "execution_count": 35,
   "id": "969c6da9",
   "metadata": {},
   "outputs": [],
   "source": [
    "rf = RandomForestClassifier(max_depth=3, random_state=1)"
   ]
  },
  {
   "cell_type": "code",
   "execution_count": 36,
   "id": "f596fb89",
   "metadata": {},
   "outputs": [],
   "source": [
    "rf_scores_coding = cross_validate(estimator=rf, \n",
    "                              X=X_coding,\n",
    "                              y=y_coding,\n",
    "                              scoring=metrics,\n",
    "                              cv=skf)"
   ]
  },
  {
   "cell_type": "code",
   "execution_count": 37,
   "id": "d1f891a7",
   "metadata": {},
   "outputs": [],
   "source": [
    "rf_scores_all = cross_validate(estimator=rf, \n",
    "                              X=X_all,\n",
    "                              y=y_all,\n",
    "                              scoring=metrics,\n",
    "                              cv=skf)"
   ]
  },
  {
   "cell_type": "code",
   "execution_count": 38,
   "id": "68e20999",
   "metadata": {},
   "outputs": [
    {
     "name": "stdout",
     "output_type": "stream",
     "text": [
      "fit_time: 2.049\n",
      "score_time: 0.022\n",
      "test_accuracy: 0.944\n",
      "test_f1: 0.942\n",
      "test_precision: 0.96\n",
      "test_recall: 0.926\n",
      "test_roc_auc: 0.987\n"
     ]
    }
   ],
   "source": [
    "display_cv_metrics(rf_scores_coding)"
   ]
  },
  {
   "cell_type": "code",
   "execution_count": 39,
   "id": "84a7f210",
   "metadata": {},
   "outputs": [
    {
     "name": "stdout",
     "output_type": "stream",
     "text": [
      "fit_time: 2.911\n",
      "score_time: 0.067\n",
      "test_accuracy: 0.945\n",
      "test_f1: 0.944\n",
      "test_precision: 0.958\n",
      "test_recall: 0.931\n",
      "test_roc_auc: 0.987\n"
     ]
    }
   ],
   "source": [
    "display_cv_metrics(rf_scores_all)"
   ]
  },
  {
   "cell_type": "markdown",
   "id": "0aaa070d",
   "metadata": {},
   "source": [
    "## Selecting the best performer"
   ]
  },
  {
   "cell_type": "code",
   "execution_count": 40,
   "id": "7f71d4b9",
   "metadata": {},
   "outputs": [],
   "source": [
    "scores_all = [knn_scores_all, svc_scores_all, nb_scores_all, \n",
    "              dt_scores_all, rf_scores_all]\n",
    "\n",
    "scores_coding = [knn_scores_coding, svc_scores_coding, \n",
    "                 nb_scores_coding, dt_scores_coding, rf_scores_coding]\n",
    "\n",
    "names = ['K-Nearest Neighbors', 'Support Vector Classifier', 'Naive Bayes Classifier', \n",
    "        'Decision Tree Classifier', 'Random Forest Classifier']"
   ]
  },
  {
   "cell_type": "code",
   "execution_count": 41,
   "id": "d82746c7",
   "metadata": {},
   "outputs": [],
   "source": [
    "for score in scores_all:\n",
    "    for k, v in score.items():\n",
    "        score[k] = v.mean()"
   ]
  },
  {
   "cell_type": "code",
   "execution_count": 42,
   "id": "aa8a2018",
   "metadata": {},
   "outputs": [],
   "source": [
    "for score in scores_coding:\n",
    "    for k, v in score.items():\n",
    "        score[k] = v.mean()"
   ]
  },
  {
   "cell_type": "markdown",
   "id": "47ced36c",
   "metadata": {},
   "source": [
    "### For all genes"
   ]
  },
  {
   "cell_type": "code",
   "execution_count": 43,
   "id": "96b7d043",
   "metadata": {},
   "outputs": [
    {
     "data": {
      "text/html": [
       "<div>\n",
       "<style scoped>\n",
       "    .dataframe tbody tr th:only-of-type {\n",
       "        vertical-align: middle;\n",
       "    }\n",
       "\n",
       "    .dataframe tbody tr th {\n",
       "        vertical-align: top;\n",
       "    }\n",
       "\n",
       "    .dataframe thead th {\n",
       "        text-align: right;\n",
       "    }\n",
       "</style>\n",
       "<table border=\"1\" class=\"dataframe\">\n",
       "  <thead>\n",
       "    <tr style=\"text-align: right;\">\n",
       "      <th></th>\n",
       "      <th>fit_time</th>\n",
       "      <th>score_time</th>\n",
       "      <th>test_accuracy</th>\n",
       "      <th>test_f1</th>\n",
       "      <th>test_precision</th>\n",
       "      <th>test_recall</th>\n",
       "      <th>test_roc_auc</th>\n",
       "    </tr>\n",
       "  </thead>\n",
       "  <tbody>\n",
       "    <tr>\n",
       "      <th>K-Nearest Neighbors</th>\n",
       "      <td>0.536947</td>\n",
       "      <td>1.003020</td>\n",
       "      <td>0.898571</td>\n",
       "      <td>0.892383</td>\n",
       "      <td>0.950288</td>\n",
       "      <td>0.841429</td>\n",
       "      <td>0.951622</td>\n",
       "    </tr>\n",
       "    <tr>\n",
       "      <th>Support Vector Classifier</th>\n",
       "      <td>10.143887</td>\n",
       "      <td>12.774068</td>\n",
       "      <td>0.933571</td>\n",
       "      <td>0.932192</td>\n",
       "      <td>0.952572</td>\n",
       "      <td>0.912857</td>\n",
       "      <td>0.979276</td>\n",
       "    </tr>\n",
       "    <tr>\n",
       "      <th>Naive Bayes Classifier</th>\n",
       "      <td>2.099991</td>\n",
       "      <td>0.470078</td>\n",
       "      <td>0.864286</td>\n",
       "      <td>0.849692</td>\n",
       "      <td>0.950661</td>\n",
       "      <td>0.768571</td>\n",
       "      <td>0.866245</td>\n",
       "    </tr>\n",
       "    <tr>\n",
       "      <th>Decision Tree Classifier</th>\n",
       "      <td>22.249131</td>\n",
       "      <td>0.067377</td>\n",
       "      <td>0.899286</td>\n",
       "      <td>0.897609</td>\n",
       "      <td>0.913030</td>\n",
       "      <td>0.882857</td>\n",
       "      <td>0.899286</td>\n",
       "    </tr>\n",
       "    <tr>\n",
       "      <th>Random Forest Classifier</th>\n",
       "      <td>2.911222</td>\n",
       "      <td>0.066663</td>\n",
       "      <td>0.945000</td>\n",
       "      <td>0.944194</td>\n",
       "      <td>0.957779</td>\n",
       "      <td>0.931429</td>\n",
       "      <td>0.987051</td>\n",
       "    </tr>\n",
       "  </tbody>\n",
       "</table>\n",
       "</div>"
      ],
      "text/plain": [
       "                            fit_time  score_time  test_accuracy   test_f1  \\\n",
       "K-Nearest Neighbors         0.536947    1.003020       0.898571  0.892383   \n",
       "Support Vector Classifier  10.143887   12.774068       0.933571  0.932192   \n",
       "Naive Bayes Classifier      2.099991    0.470078       0.864286  0.849692   \n",
       "Decision Tree Classifier   22.249131    0.067377       0.899286  0.897609   \n",
       "Random Forest Classifier    2.911222    0.066663       0.945000  0.944194   \n",
       "\n",
       "                           test_precision  test_recall  test_roc_auc  \n",
       "K-Nearest Neighbors              0.950288     0.841429      0.951622  \n",
       "Support Vector Classifier        0.952572     0.912857      0.979276  \n",
       "Naive Bayes Classifier           0.950661     0.768571      0.866245  \n",
       "Decision Tree Classifier         0.913030     0.882857      0.899286  \n",
       "Random Forest Classifier         0.957779     0.931429      0.987051  "
      ]
     },
     "execution_count": 43,
     "metadata": {},
     "output_type": "execute_result"
    }
   ],
   "source": [
    "pd.DataFrame(scores_all, index=names)"
   ]
  },
  {
   "cell_type": "markdown",
   "id": "03ebea56",
   "metadata": {},
   "source": [
    "### For only protein-coding genes"
   ]
  },
  {
   "cell_type": "code",
   "execution_count": 44,
   "id": "04e13a90",
   "metadata": {},
   "outputs": [
    {
     "data": {
      "text/html": [
       "<div>\n",
       "<style scoped>\n",
       "    .dataframe tbody tr th:only-of-type {\n",
       "        vertical-align: middle;\n",
       "    }\n",
       "\n",
       "    .dataframe tbody tr th {\n",
       "        vertical-align: top;\n",
       "    }\n",
       "\n",
       "    .dataframe thead th {\n",
       "        text-align: right;\n",
       "    }\n",
       "</style>\n",
       "<table border=\"1\" class=\"dataframe\">\n",
       "  <thead>\n",
       "    <tr style=\"text-align: right;\">\n",
       "      <th></th>\n",
       "      <th>fit_time</th>\n",
       "      <th>score_time</th>\n",
       "      <th>test_accuracy</th>\n",
       "      <th>test_f1</th>\n",
       "      <th>test_precision</th>\n",
       "      <th>test_recall</th>\n",
       "      <th>test_roc_auc</th>\n",
       "    </tr>\n",
       "  </thead>\n",
       "  <tbody>\n",
       "    <tr>\n",
       "      <th>K-Nearest Neighbors</th>\n",
       "      <td>0.134978</td>\n",
       "      <td>0.332214</td>\n",
       "      <td>0.902857</td>\n",
       "      <td>0.898239</td>\n",
       "      <td>0.942285</td>\n",
       "      <td>0.858571</td>\n",
       "      <td>0.948010</td>\n",
       "    </tr>\n",
       "    <tr>\n",
       "      <th>Support Vector Classifier</th>\n",
       "      <td>4.799727</td>\n",
       "      <td>5.465398</td>\n",
       "      <td>0.934286</td>\n",
       "      <td>0.933311</td>\n",
       "      <td>0.947381</td>\n",
       "      <td>0.920000</td>\n",
       "      <td>0.979867</td>\n",
       "    </tr>\n",
       "    <tr>\n",
       "      <th>Naive Bayes Classifier</th>\n",
       "      <td>0.261998</td>\n",
       "      <td>0.039767</td>\n",
       "      <td>0.845000</td>\n",
       "      <td>0.828028</td>\n",
       "      <td>0.928722</td>\n",
       "      <td>0.747143</td>\n",
       "      <td>0.850378</td>\n",
       "    </tr>\n",
       "    <tr>\n",
       "      <th>Decision Tree Classifier</th>\n",
       "      <td>11.131116</td>\n",
       "      <td>0.012201</td>\n",
       "      <td>0.895714</td>\n",
       "      <td>0.895276</td>\n",
       "      <td>0.899695</td>\n",
       "      <td>0.891429</td>\n",
       "      <td>0.895714</td>\n",
       "    </tr>\n",
       "    <tr>\n",
       "      <th>Random Forest Classifier</th>\n",
       "      <td>2.049046</td>\n",
       "      <td>0.022036</td>\n",
       "      <td>0.943571</td>\n",
       "      <td>0.942397</td>\n",
       "      <td>0.960221</td>\n",
       "      <td>0.925714</td>\n",
       "      <td>0.987122</td>\n",
       "    </tr>\n",
       "  </tbody>\n",
       "</table>\n",
       "</div>"
      ],
      "text/plain": [
       "                            fit_time  score_time  test_accuracy   test_f1  \\\n",
       "K-Nearest Neighbors         0.134978    0.332214       0.902857  0.898239   \n",
       "Support Vector Classifier   4.799727    5.465398       0.934286  0.933311   \n",
       "Naive Bayes Classifier      0.261998    0.039767       0.845000  0.828028   \n",
       "Decision Tree Classifier   11.131116    0.012201       0.895714  0.895276   \n",
       "Random Forest Classifier    2.049046    0.022036       0.943571  0.942397   \n",
       "\n",
       "                           test_precision  test_recall  test_roc_auc  \n",
       "K-Nearest Neighbors              0.942285     0.858571      0.948010  \n",
       "Support Vector Classifier        0.947381     0.920000      0.979867  \n",
       "Naive Bayes Classifier           0.928722     0.747143      0.850378  \n",
       "Decision Tree Classifier         0.899695     0.891429      0.895714  \n",
       "Random Forest Classifier         0.960221     0.925714      0.987122  "
      ]
     },
     "execution_count": 44,
     "metadata": {},
     "output_type": "execute_result"
    }
   ],
   "source": [
    "pd.DataFrame(scores_coding, index=names)"
   ]
  },
  {
   "cell_type": "markdown",
   "id": "09f4d258",
   "metadata": {},
   "source": [
    "## Random Forest and Feature Importances"
   ]
  },
  {
   "cell_type": "markdown",
   "id": "d7436ca3",
   "metadata": {},
   "source": [
    "Random Forest Classifier seems to be the best performer across all cross-validated metrics closely followed by the Support Vector Classifier, for both full data and coding data. "
   ]
  },
  {
   "cell_type": "markdown",
   "id": "62697d63",
   "metadata": {},
   "source": [
    "Dataset with just the protein-coding genes seems to be performing as well as the full dataset despite having fewer features. We will compute Random Forest feature importances based on mean decrease in impurity and display the first 10 genes that are the best predictors of tumor."
   ]
  },
  {
   "cell_type": "code",
   "execution_count": 18,
   "id": "e8d94302",
   "metadata": {},
   "outputs": [],
   "source": [
    "X_train, X_test, y_train, y_test = train_test_split(X_coding, y_coding, \n",
    "                                                    test_size=.25, random_state=1)"
   ]
  },
  {
   "cell_type": "code",
   "execution_count": 67,
   "id": "f220cf06",
   "metadata": {},
   "outputs": [
    {
     "data": {
      "text/plain": [
       "RandomForestClassifier(max_depth=3, random_state=1)"
      ]
     },
     "execution_count": 67,
     "metadata": {},
     "output_type": "execute_result"
    }
   ],
   "source": [
    "rf.fit(X_train, y_train)"
   ]
  },
  {
   "cell_type": "code",
   "execution_count": 68,
   "id": "c14b5d7c",
   "metadata": {},
   "outputs": [],
   "source": [
    "importances = rf.feature_importances_"
   ]
  },
  {
   "cell_type": "code",
   "execution_count": 69,
   "id": "eae9f1e7",
   "metadata": {},
   "outputs": [],
   "source": [
    "feature_names = list(nt_coding.columns[1:])"
   ]
  },
  {
   "cell_type": "code",
   "execution_count": 70,
   "id": "3592fa33",
   "metadata": {},
   "outputs": [],
   "source": [
    "importance_df = pd.DataFrame(zip(feature_names, importances), columns=['gene', 'importance'])"
   ]
  },
  {
   "cell_type": "markdown",
   "id": "44f7ee21",
   "metadata": {},
   "source": [
    "### Top 10 genes for predicting tumor"
   ]
  },
  {
   "cell_type": "code",
   "execution_count": 71,
   "id": "43e8429f",
   "metadata": {},
   "outputs": [
    {
     "data": {
      "text/html": [
       "<div>\n",
       "<style scoped>\n",
       "    .dataframe tbody tr th:only-of-type {\n",
       "        vertical-align: middle;\n",
       "    }\n",
       "\n",
       "    .dataframe tbody tr th {\n",
       "        vertical-align: top;\n",
       "    }\n",
       "\n",
       "    .dataframe thead th {\n",
       "        text-align: right;\n",
       "    }\n",
       "</style>\n",
       "<table border=\"1\" class=\"dataframe\">\n",
       "  <thead>\n",
       "    <tr style=\"text-align: right;\">\n",
       "      <th></th>\n",
       "      <th>gene</th>\n",
       "      <th>importance</th>\n",
       "    </tr>\n",
       "  </thead>\n",
       "  <tbody>\n",
       "    <tr>\n",
       "      <th>4702</th>\n",
       "      <td>ENSG00000117650.11</td>\n",
       "      <td>0.013478</td>\n",
       "    </tr>\n",
       "    <tr>\n",
       "      <th>913</th>\n",
       "      <td>ENSG00000065328.15</td>\n",
       "      <td>0.012234</td>\n",
       "    </tr>\n",
       "    <tr>\n",
       "      <th>10514</th>\n",
       "      <td>ENSG00000162062.13</td>\n",
       "      <td>0.011683</td>\n",
       "    </tr>\n",
       "    <tr>\n",
       "      <th>10998</th>\n",
       "      <td>ENSG00000163888.3</td>\n",
       "      <td>0.010862</td>\n",
       "    </tr>\n",
       "    <tr>\n",
       "      <th>2119</th>\n",
       "      <td>ENSG00000099953.8</td>\n",
       "      <td>0.010606</td>\n",
       "    </tr>\n",
       "    <tr>\n",
       "      <th>5338</th>\n",
       "      <td>ENSG00000123500.8</td>\n",
       "      <td>0.010333</td>\n",
       "    </tr>\n",
       "    <tr>\n",
       "      <th>3227</th>\n",
       "      <td>ENSG00000106105.12</td>\n",
       "      <td>0.009977</td>\n",
       "    </tr>\n",
       "    <tr>\n",
       "      <th>4471</th>\n",
       "      <td>ENSG00000116014.8</td>\n",
       "      <td>0.009354</td>\n",
       "    </tr>\n",
       "    <tr>\n",
       "      <th>15558</th>\n",
       "      <td>ENSG00000186185.12</td>\n",
       "      <td>0.009226</td>\n",
       "    </tr>\n",
       "    <tr>\n",
       "      <th>3871</th>\n",
       "      <td>ENSG00000111640.13</td>\n",
       "      <td>0.009031</td>\n",
       "    </tr>\n",
       "  </tbody>\n",
       "</table>\n",
       "</div>"
      ],
      "text/plain": [
       "                     gene  importance\n",
       "4702   ENSG00000117650.11    0.013478\n",
       "913    ENSG00000065328.15    0.012234\n",
       "10514  ENSG00000162062.13    0.011683\n",
       "10998   ENSG00000163888.3    0.010862\n",
       "2119    ENSG00000099953.8    0.010606\n",
       "5338    ENSG00000123500.8    0.010333\n",
       "3227   ENSG00000106105.12    0.009977\n",
       "4471    ENSG00000116014.8    0.009354\n",
       "15558  ENSG00000186185.12    0.009226\n",
       "3871   ENSG00000111640.13    0.009031"
      ]
     },
     "execution_count": 71,
     "metadata": {},
     "output_type": "execute_result"
    }
   ],
   "source": [
    "importance_df.sort_values('importance', ascending=False).head(10)"
   ]
  },
  {
   "cell_type": "markdown",
   "id": "8f83a2ef",
   "metadata": {},
   "source": [
    "## Confusion matrix with the predictions for validation set"
   ]
  },
  {
   "cell_type": "code",
   "execution_count": 75,
   "id": "e64f865e",
   "metadata": {},
   "outputs": [],
   "source": [
    "y_pred = rf.predict(X_test)"
   ]
  },
  {
   "cell_type": "code",
   "execution_count": 104,
   "id": "7f36880e",
   "metadata": {},
   "outputs": [],
   "source": [
    "cf_matrix = confusion_matrix(y_test, y_pred, normalize='true')"
   ]
  },
  {
   "cell_type": "code",
   "execution_count": 105,
   "id": "46ffceff",
   "metadata": {},
   "outputs": [
    {
     "name": "stdout",
     "output_type": "stream",
     "text": [
      "Test accuracy is 94.0%\n"
     ]
    }
   ],
   "source": [
    "test_accuracy = (y_pred == y_test).sum() / len(y_test)\n",
    "print(f\"Test accuracy is {test_accuracy * 100}%\")"
   ]
  },
  {
   "cell_type": "code",
   "execution_count": 106,
   "id": "2d4333bd",
   "metadata": {},
   "outputs": [
    {
     "data": {
      "image/png": "[encoded data removed]",
      "text/plain": [
       "<Figure size 432x288 with 2 Axes>"
      ]
     },
     "metadata": {
      "needs_background": "light"
     },
     "output_type": "display_data"
    }
   ],
   "source": [
    "ax = plt.axes()\n",
    "sns.heatmap(cf_matrix, annot=True, cmap='Blues', ax=ax)\n",
    "ax.set_title('Confusion Matrix')\n",
    "ax.set_xlabel('Predicted labels')\n",
    "ax.set_ylabel('True labels');"
   ]
  },
  {
   "cell_type": "markdown",
   "id": "678c85af",
   "metadata": {},
   "source": [
    "## Using TPOT for model selection"
   ]
  },
  {
   "cell_type": "code",
   "execution_count": 19,
   "id": "2c53734d",
   "metadata": {
    "scrolled": true
   },
   "outputs": [
    {
     "name": "stdout",
     "output_type": "stream",
     "text": [
      "Warning: xgboost.XGBClassifier is not available and will not be used by TPOT.\n"
     ]
    },
    {
     "data": {
      "application/vnd.jupyter.widget-view+json": {
       "model_id": "a6796e999dea4d4b89803f496c85f64d",
       "version_major": 2,
       "version_minor": 0
      },
      "text/plain": [
       "Optimization Progress:   0%|          | 0/300 [00:00<?, ?pipeline/s]"
      ]
     },
     "metadata": {},
     "output_type": "display_data"
    },
    {
     "name": "stdout",
     "output_type": "stream",
     "text": [
      "\n",
      "\n",
      "TPOT closed during evaluation in one generation.\n",
      "WARNING: TPOT may not provide a good pipeline if TPOT is stopped/interrupted in a early generation.\n",
      "\n",
      "\n",
      "TPOT closed prematurely. Will use the current best pipeline.\n",
      "\n",
      "Best pipeline: GaussianNB(input_matrix)\n",
      "0.8714285714285714\n"
     ]
    }
   ],
   "source": [
    "tpot = TPOTClassifier(generations=5, population_size=50, verbosity=2, random_state=42)\n",
    "tpot.fit(X_train, y_train)\n",
    "print(tpot.score(X_test, y_test))"
   ]
  },
  {
   "cell_type": "markdown",
   "id": "6705b4ff",
   "metadata": {},
   "source": [
    "## Keras for Deep Learning Classifier"
   ]
  },
  {
   "cell_type": "code",
   "execution_count": 29,
   "id": "dd476022",
   "metadata": {},
   "outputs": [],
   "source": [
    "size = .25"
   ]
  },
  {
   "cell_type": "code",
   "execution_count": 42,
   "id": "b4735d18",
   "metadata": {},
   "outputs": [],
   "source": [
    "test_sizes = np.arange(0.05, 0.55, 0.05)"
   ]
  },
  {
   "cell_type": "code",
   "execution_count": null,
   "id": "82fadcac",
   "metadata": {},
   "outputs": [],
   "source": [
    "for size in test_sizes:\n",
    "    X_train, X_test, y_train, y_test = train_test_split(X_coding, y_coding, \n",
    "                                                        test_size=test_size, random_state=1)\n",
    "    "
   ]
  }
 ],
 "metadata": {
  "kernelspec": {
   "display_name": "Python 3",
   "language": "python",
   "name": "python3"
  },
  "language_info": {
   "codemirror_mode": {
    "name": "ipython",
    "version": 3
   },
   "file_extension": ".py",
   "mimetype": "text/x-python",
   "name": "python",
   "nbconvert_exporter": "python",
   "pygments_lexer": "ipython3",
   "version": "3.8.8"
  }
 },
 "nbformat": 4,
 "nbformat_minor": 5
}
